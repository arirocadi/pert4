{
 "cells": [
  {
   "cell_type": "markdown",
   "metadata": {
    "id": "a3tIZU7it38j"
   },
   "source": [
    "# <center>Decision Tree Regression (DTR)</center>\n",
    "\n",
    "Decision Tree Regression (DTR) membangun model regresi dalam bentuk struktur pohon. DTR memecah dataset menjadi subset yang lebih kecil dan lebih kecil sementara pada saat yang sama pohon keputusan terkait dikembangkan secara bertahap. Hasil akhirnya adalah pohon dengan simpul keputusan dan simpul daun.\n",
    "Dengan titik data tertentu, DTR dijalankan sepenuhnya melalui seluruh pohon dengan menjawab pertanyaan Benar/Salah hingga mencapai simpul daun\n",
    "Prediksi terakhir adalah rata-rata dari nilai variabel dependen dalam simpul daun tertentu. Melalui beberapa iterasi, Pohon mampu memprediksi nilai yang tepat untuk titik data.\n",
    "\n"
   ]
  },
  {
   "cell_type": "markdown",
   "metadata": {
    "id": "eqd7fpy7ukjX"
   },
   "source": [
    "Mengimpor libraries yang diperlukan"
   ]
  },
  {
   "cell_type": "code",
   "execution_count": 3,
   "metadata": {
    "id": "bBopQcGotMlP"
   },
   "outputs": [],
   "source": [
    "import numpy as np\n",
    "import matplotlib.pyplot as plt\n",
    "import pandas as pd\n",
    "import sklearn "
   ]
  },
  {
   "cell_type": "markdown",
   "metadata": {
    "button": false,
    "id": "Tg7ro0zGGXTa",
    "new_sheet": false,
    "run_control": {
     "read_only": false
    }
   },
   "source": [
    "### Pengunduhan Data\n",
    "Untuk mengunduh data, gunakan !wget dengan URL yang diberikan."
   ]
  },
  {
   "cell_type": "code",
   "execution_count": 1,
   "metadata": {
    "button": false,
    "id": "LnGW9d8wGXTd",
    "new_sheet": false,
    "run_control": {
     "read_only": false
    }
   },
   "outputs": [
    {
     "name": "stdout",
     "output_type": "stream",
     "text": [
      "--2021-11-12 13:48:47--  https://s3-api.us-geo.objectstorage.softlayer.net/cf-courses-data/CognitiveClass/ML0101ENv3/labs/FuelConsumptionCo2.csv\n",
      "Resolving s3-api.us-geo.objectstorage.softlayer.net (s3-api.us-geo.objectstorage.softlayer.net)... 67.228.254.196\n",
      "Connecting to s3-api.us-geo.objectstorage.softlayer.net (s3-api.us-geo.objectstorage.softlayer.net)|67.228.254.196|:443... connected.\n",
      "HTTP request sent, awaiting response... 200 OK\n",
      "Length: 72629 (71K) [text/csv]\n",
      "Saving to: ‘FuelConsumption.csv’\n",
      "\n",
      "FuelConsumption.csv 100%[===================>]  70.93K   171KB/s    in 0.4s    \n",
      "\n",
      "2021-11-12 13:48:49 (171 KB/s) - ‘FuelConsumption.csv’ saved [72629/72629]\n",
      "\n"
     ]
    }
   ],
   "source": [
    "!wget -O FuelConsumption.csv https://s3-api.us-geo.objectstorage.softlayer.net/cf-courses-data/CognitiveClass/ML0101ENv3/labs/FuelConsumptionCo2.csv"
   ]
  },
  {
   "cell_type": "markdown",
   "metadata": {
    "button": false,
    "id": "0GCwBPg2vM3Z",
    "new_sheet": false,
    "run_control": {
     "read_only": false
    }
   },
   "source": [
    "\n",
    "## Memahami Data\n",
    "\n",
    "### `FuelConsumption.csv`:\n",
    "Dataset **`FuelConsumption.csv`** yang diunduh mengandung model spesifik untuk rating konsumsi bahan bakar (fuel consumption) dan estimasi emisi karbon dioksida untuk kendaraan ringan yang dijual di Kanada.\n",
    "[Dataset source](http://open.canada.ca/data/en/dataset/98f1a129-f628-4ce4-b24d-6f16bf24dd64)\n",
    "\n",
    "- **MODELYEAR** e.g. 2014\n",
    "- **MAKE** e.g. Acura\n",
    "- **MODEL** e.g. ILX\n",
    "- **VEHICLE CLASS** e.g. SUV\n",
    "- **ENGINE SIZE** e.g. 4.7\n",
    "- **CYLINDERS** e.g 6\n",
    "- **TRANSMISSION** e.g. A6\n",
    "- **FUEL CONSUMPTION in CITY(L/100 km)** e.g. 9.9\n",
    "- **FUEL CONSUMPTION in HWY (L/100 km)** e.g. 8.9\n",
    "- **FUEL CONSUMPTION COMB (L/100 km)** e.g. 9.2\n",
    "- **CO2 EMISSIONS (g/km)** e.g. 182   --> low --> 0\n"
   ]
  },
  {
   "cell_type": "markdown",
   "metadata": {
    "button": false,
    "id": "1PLElrFxGXTo",
    "new_sheet": false,
    "run_control": {
     "read_only": false
    }
   },
   "source": [
    "## Membaca Data"
   ]
  },
  {
   "cell_type": "code",
   "execution_count": 4,
   "metadata": {
    "button": false,
    "id": "wqYrHtvzGXTq",
    "new_sheet": false,
    "run_control": {
     "read_only": false
    }
   },
   "outputs": [
    {
     "data": {
      "text/html": [
       "<div>\n",
       "<style scoped>\n",
       "    .dataframe tbody tr th:only-of-type {\n",
       "        vertical-align: middle;\n",
       "    }\n",
       "\n",
       "    .dataframe tbody tr th {\n",
       "        vertical-align: top;\n",
       "    }\n",
       "\n",
       "    .dataframe thead th {\n",
       "        text-align: right;\n",
       "    }\n",
       "</style>\n",
       "<table border=\"1\" class=\"dataframe\">\n",
       "  <thead>\n",
       "    <tr style=\"text-align: right;\">\n",
       "      <th></th>\n",
       "      <th>MODELYEAR</th>\n",
       "      <th>MAKE</th>\n",
       "      <th>MODEL</th>\n",
       "      <th>VEHICLECLASS</th>\n",
       "      <th>ENGINESIZE</th>\n",
       "      <th>CYLINDERS</th>\n",
       "      <th>TRANSMISSION</th>\n",
       "      <th>FUELTYPE</th>\n",
       "      <th>FUELCONSUMPTION_CITY</th>\n",
       "      <th>FUELCONSUMPTION_HWY</th>\n",
       "      <th>FUELCONSUMPTION_COMB</th>\n",
       "      <th>FUELCONSUMPTION_COMB_MPG</th>\n",
       "      <th>CO2EMISSIONS</th>\n",
       "    </tr>\n",
       "  </thead>\n",
       "  <tbody>\n",
       "    <tr>\n",
       "      <th>0</th>\n",
       "      <td>2014</td>\n",
       "      <td>ACURA</td>\n",
       "      <td>ILX</td>\n",
       "      <td>COMPACT</td>\n",
       "      <td>2.0</td>\n",
       "      <td>4</td>\n",
       "      <td>AS5</td>\n",
       "      <td>Z</td>\n",
       "      <td>9.9</td>\n",
       "      <td>6.7</td>\n",
       "      <td>8.5</td>\n",
       "      <td>33</td>\n",
       "      <td>196</td>\n",
       "    </tr>\n",
       "    <tr>\n",
       "      <th>1</th>\n",
       "      <td>2014</td>\n",
       "      <td>ACURA</td>\n",
       "      <td>ILX</td>\n",
       "      <td>COMPACT</td>\n",
       "      <td>2.4</td>\n",
       "      <td>4</td>\n",
       "      <td>M6</td>\n",
       "      <td>Z</td>\n",
       "      <td>11.2</td>\n",
       "      <td>7.7</td>\n",
       "      <td>9.6</td>\n",
       "      <td>29</td>\n",
       "      <td>221</td>\n",
       "    </tr>\n",
       "    <tr>\n",
       "      <th>2</th>\n",
       "      <td>2014</td>\n",
       "      <td>ACURA</td>\n",
       "      <td>ILX HYBRID</td>\n",
       "      <td>COMPACT</td>\n",
       "      <td>1.5</td>\n",
       "      <td>4</td>\n",
       "      <td>AV7</td>\n",
       "      <td>Z</td>\n",
       "      <td>6.0</td>\n",
       "      <td>5.8</td>\n",
       "      <td>5.9</td>\n",
       "      <td>48</td>\n",
       "      <td>136</td>\n",
       "    </tr>\n",
       "    <tr>\n",
       "      <th>3</th>\n",
       "      <td>2014</td>\n",
       "      <td>ACURA</td>\n",
       "      <td>MDX 4WD</td>\n",
       "      <td>SUV - SMALL</td>\n",
       "      <td>3.5</td>\n",
       "      <td>6</td>\n",
       "      <td>AS6</td>\n",
       "      <td>Z</td>\n",
       "      <td>12.7</td>\n",
       "      <td>9.1</td>\n",
       "      <td>11.1</td>\n",
       "      <td>25</td>\n",
       "      <td>255</td>\n",
       "    </tr>\n",
       "    <tr>\n",
       "      <th>4</th>\n",
       "      <td>2014</td>\n",
       "      <td>ACURA</td>\n",
       "      <td>RDX AWD</td>\n",
       "      <td>SUV - SMALL</td>\n",
       "      <td>3.5</td>\n",
       "      <td>6</td>\n",
       "      <td>AS6</td>\n",
       "      <td>Z</td>\n",
       "      <td>12.1</td>\n",
       "      <td>8.7</td>\n",
       "      <td>10.6</td>\n",
       "      <td>27</td>\n",
       "      <td>244</td>\n",
       "    </tr>\n",
       "  </tbody>\n",
       "</table>\n",
       "</div>"
      ],
      "text/plain": [
       "   MODELYEAR   MAKE       MODEL VEHICLECLASS  ENGINESIZE  CYLINDERS  \\\n",
       "0       2014  ACURA         ILX      COMPACT         2.0          4   \n",
       "1       2014  ACURA         ILX      COMPACT         2.4          4   \n",
       "2       2014  ACURA  ILX HYBRID      COMPACT         1.5          4   \n",
       "3       2014  ACURA     MDX 4WD  SUV - SMALL         3.5          6   \n",
       "4       2014  ACURA     RDX AWD  SUV - SMALL         3.5          6   \n",
       "\n",
       "  TRANSMISSION FUELTYPE  FUELCONSUMPTION_CITY  FUELCONSUMPTION_HWY  \\\n",
       "0          AS5        Z                   9.9                  6.7   \n",
       "1           M6        Z                  11.2                  7.7   \n",
       "2          AV7        Z                   6.0                  5.8   \n",
       "3          AS6        Z                  12.7                  9.1   \n",
       "4          AS6        Z                  12.1                  8.7   \n",
       "\n",
       "   FUELCONSUMPTION_COMB  FUELCONSUMPTION_COMB_MPG  CO2EMISSIONS  \n",
       "0                   8.5                        33           196  \n",
       "1                   9.6                        29           221  \n",
       "2                   5.9                        48           136  \n",
       "3                  11.1                        25           255  \n",
       "4                  10.6                        27           244  "
      ]
     },
     "execution_count": 4,
     "metadata": {},
     "output_type": "execute_result"
    }
   ],
   "source": [
    "df = pd.read_csv(\"FuelConsumption.csv\")\n",
    "\n",
    "# melihat dataset\n",
    "df.head()\n",
    "\n"
   ]
  },
  {
   "cell_type": "markdown",
   "metadata": {
    "button": false,
    "id": "4BKtxdQUGXTx",
    "new_sheet": false,
    "run_control": {
     "read_only": false
    }
   },
   "source": [
    "### Eksplorasi Data\n",
    "Eksplorasi deskriptif data yang diunduh."
   ]
  },
  {
   "cell_type": "code",
   "execution_count": 5,
   "metadata": {
    "button": false,
    "id": "oofcfrhGGXTz",
    "new_sheet": false,
    "run_control": {
     "read_only": false
    }
   },
   "outputs": [
    {
     "data": {
      "text/html": [
       "<div>\n",
       "<style scoped>\n",
       "    .dataframe tbody tr th:only-of-type {\n",
       "        vertical-align: middle;\n",
       "    }\n",
       "\n",
       "    .dataframe tbody tr th {\n",
       "        vertical-align: top;\n",
       "    }\n",
       "\n",
       "    .dataframe thead th {\n",
       "        text-align: right;\n",
       "    }\n",
       "</style>\n",
       "<table border=\"1\" class=\"dataframe\">\n",
       "  <thead>\n",
       "    <tr style=\"text-align: right;\">\n",
       "      <th></th>\n",
       "      <th>MODELYEAR</th>\n",
       "      <th>ENGINESIZE</th>\n",
       "      <th>CYLINDERS</th>\n",
       "      <th>FUELCONSUMPTION_CITY</th>\n",
       "      <th>FUELCONSUMPTION_HWY</th>\n",
       "      <th>FUELCONSUMPTION_COMB</th>\n",
       "      <th>FUELCONSUMPTION_COMB_MPG</th>\n",
       "      <th>CO2EMISSIONS</th>\n",
       "    </tr>\n",
       "  </thead>\n",
       "  <tbody>\n",
       "    <tr>\n",
       "      <th>count</th>\n",
       "      <td>1067.0</td>\n",
       "      <td>1067.000000</td>\n",
       "      <td>1067.000000</td>\n",
       "      <td>1067.000000</td>\n",
       "      <td>1067.000000</td>\n",
       "      <td>1067.000000</td>\n",
       "      <td>1067.000000</td>\n",
       "      <td>1067.000000</td>\n",
       "    </tr>\n",
       "    <tr>\n",
       "      <th>mean</th>\n",
       "      <td>2014.0</td>\n",
       "      <td>3.346298</td>\n",
       "      <td>5.794752</td>\n",
       "      <td>13.296532</td>\n",
       "      <td>9.474602</td>\n",
       "      <td>11.580881</td>\n",
       "      <td>26.441425</td>\n",
       "      <td>256.228679</td>\n",
       "    </tr>\n",
       "    <tr>\n",
       "      <th>std</th>\n",
       "      <td>0.0</td>\n",
       "      <td>1.415895</td>\n",
       "      <td>1.797447</td>\n",
       "      <td>4.101253</td>\n",
       "      <td>2.794510</td>\n",
       "      <td>3.485595</td>\n",
       "      <td>7.468702</td>\n",
       "      <td>63.372304</td>\n",
       "    </tr>\n",
       "    <tr>\n",
       "      <th>min</th>\n",
       "      <td>2014.0</td>\n",
       "      <td>1.000000</td>\n",
       "      <td>3.000000</td>\n",
       "      <td>4.600000</td>\n",
       "      <td>4.900000</td>\n",
       "      <td>4.700000</td>\n",
       "      <td>11.000000</td>\n",
       "      <td>108.000000</td>\n",
       "    </tr>\n",
       "    <tr>\n",
       "      <th>25%</th>\n",
       "      <td>2014.0</td>\n",
       "      <td>2.000000</td>\n",
       "      <td>4.000000</td>\n",
       "      <td>10.250000</td>\n",
       "      <td>7.500000</td>\n",
       "      <td>9.000000</td>\n",
       "      <td>21.000000</td>\n",
       "      <td>207.000000</td>\n",
       "    </tr>\n",
       "    <tr>\n",
       "      <th>50%</th>\n",
       "      <td>2014.0</td>\n",
       "      <td>3.400000</td>\n",
       "      <td>6.000000</td>\n",
       "      <td>12.600000</td>\n",
       "      <td>8.800000</td>\n",
       "      <td>10.900000</td>\n",
       "      <td>26.000000</td>\n",
       "      <td>251.000000</td>\n",
       "    </tr>\n",
       "    <tr>\n",
       "      <th>75%</th>\n",
       "      <td>2014.0</td>\n",
       "      <td>4.300000</td>\n",
       "      <td>8.000000</td>\n",
       "      <td>15.550000</td>\n",
       "      <td>10.850000</td>\n",
       "      <td>13.350000</td>\n",
       "      <td>31.000000</td>\n",
       "      <td>294.000000</td>\n",
       "    </tr>\n",
       "    <tr>\n",
       "      <th>max</th>\n",
       "      <td>2014.0</td>\n",
       "      <td>8.400000</td>\n",
       "      <td>12.000000</td>\n",
       "      <td>30.200000</td>\n",
       "      <td>20.500000</td>\n",
       "      <td>25.800000</td>\n",
       "      <td>60.000000</td>\n",
       "      <td>488.000000</td>\n",
       "    </tr>\n",
       "  </tbody>\n",
       "</table>\n",
       "</div>"
      ],
      "text/plain": [
       "       MODELYEAR   ENGINESIZE    CYLINDERS  FUELCONSUMPTION_CITY  \\\n",
       "count     1067.0  1067.000000  1067.000000           1067.000000   \n",
       "mean      2014.0     3.346298     5.794752             13.296532   \n",
       "std          0.0     1.415895     1.797447              4.101253   \n",
       "min       2014.0     1.000000     3.000000              4.600000   \n",
       "25%       2014.0     2.000000     4.000000             10.250000   \n",
       "50%       2014.0     3.400000     6.000000             12.600000   \n",
       "75%       2014.0     4.300000     8.000000             15.550000   \n",
       "max       2014.0     8.400000    12.000000             30.200000   \n",
       "\n",
       "       FUELCONSUMPTION_HWY  FUELCONSUMPTION_COMB  FUELCONSUMPTION_COMB_MPG  \\\n",
       "count          1067.000000           1067.000000               1067.000000   \n",
       "mean              9.474602             11.580881                 26.441425   \n",
       "std               2.794510              3.485595                  7.468702   \n",
       "min               4.900000              4.700000                 11.000000   \n",
       "25%               7.500000              9.000000                 21.000000   \n",
       "50%               8.800000             10.900000                 26.000000   \n",
       "75%              10.850000             13.350000                 31.000000   \n",
       "max              20.500000             25.800000                 60.000000   \n",
       "\n",
       "       CO2EMISSIONS  \n",
       "count   1067.000000  \n",
       "mean     256.228679  \n",
       "std       63.372304  \n",
       "min      108.000000  \n",
       "25%      207.000000  \n",
       "50%      251.000000  \n",
       "75%      294.000000  \n",
       "max      488.000000  "
      ]
     },
     "execution_count": 5,
     "metadata": {},
     "output_type": "execute_result"
    }
   ],
   "source": [
    "# merangkum data\n",
    "df.describe()"
   ]
  },
  {
   "cell_type": "markdown",
   "metadata": {
    "id": "VsUKG_5RGXT5"
   },
   "source": [
    "Beberapa fitur dapat dieksplorasi dengan cara berikut."
   ]
  },
  {
   "cell_type": "code",
   "execution_count": 6,
   "metadata": {
    "button": false,
    "id": "T8BaexHKGXT8",
    "new_sheet": false,
    "run_control": {
     "read_only": false
    }
   },
   "outputs": [
    {
     "data": {
      "text/html": [
       "<div>\n",
       "<style scoped>\n",
       "    .dataframe tbody tr th:only-of-type {\n",
       "        vertical-align: middle;\n",
       "    }\n",
       "\n",
       "    .dataframe tbody tr th {\n",
       "        vertical-align: top;\n",
       "    }\n",
       "\n",
       "    .dataframe thead th {\n",
       "        text-align: right;\n",
       "    }\n",
       "</style>\n",
       "<table border=\"1\" class=\"dataframe\">\n",
       "  <thead>\n",
       "    <tr style=\"text-align: right;\">\n",
       "      <th></th>\n",
       "      <th>ENGINESIZE</th>\n",
       "      <th>CYLINDERS</th>\n",
       "      <th>FUELCONSUMPTION_COMB</th>\n",
       "      <th>CO2EMISSIONS</th>\n",
       "    </tr>\n",
       "  </thead>\n",
       "  <tbody>\n",
       "    <tr>\n",
       "      <th>0</th>\n",
       "      <td>2.0</td>\n",
       "      <td>4</td>\n",
       "      <td>8.5</td>\n",
       "      <td>196</td>\n",
       "    </tr>\n",
       "    <tr>\n",
       "      <th>1</th>\n",
       "      <td>2.4</td>\n",
       "      <td>4</td>\n",
       "      <td>9.6</td>\n",
       "      <td>221</td>\n",
       "    </tr>\n",
       "    <tr>\n",
       "      <th>2</th>\n",
       "      <td>1.5</td>\n",
       "      <td>4</td>\n",
       "      <td>5.9</td>\n",
       "      <td>136</td>\n",
       "    </tr>\n",
       "    <tr>\n",
       "      <th>3</th>\n",
       "      <td>3.5</td>\n",
       "      <td>6</td>\n",
       "      <td>11.1</td>\n",
       "      <td>255</td>\n",
       "    </tr>\n",
       "    <tr>\n",
       "      <th>4</th>\n",
       "      <td>3.5</td>\n",
       "      <td>6</td>\n",
       "      <td>10.6</td>\n",
       "      <td>244</td>\n",
       "    </tr>\n",
       "    <tr>\n",
       "      <th>5</th>\n",
       "      <td>3.5</td>\n",
       "      <td>6</td>\n",
       "      <td>10.0</td>\n",
       "      <td>230</td>\n",
       "    </tr>\n",
       "    <tr>\n",
       "      <th>6</th>\n",
       "      <td>3.5</td>\n",
       "      <td>6</td>\n",
       "      <td>10.1</td>\n",
       "      <td>232</td>\n",
       "    </tr>\n",
       "    <tr>\n",
       "      <th>7</th>\n",
       "      <td>3.7</td>\n",
       "      <td>6</td>\n",
       "      <td>11.1</td>\n",
       "      <td>255</td>\n",
       "    </tr>\n",
       "    <tr>\n",
       "      <th>8</th>\n",
       "      <td>3.7</td>\n",
       "      <td>6</td>\n",
       "      <td>11.6</td>\n",
       "      <td>267</td>\n",
       "    </tr>\n",
       "    <tr>\n",
       "      <th>9</th>\n",
       "      <td>2.4</td>\n",
       "      <td>4</td>\n",
       "      <td>9.2</td>\n",
       "      <td>212</td>\n",
       "    </tr>\n",
       "  </tbody>\n",
       "</table>\n",
       "</div>"
      ],
      "text/plain": [
       "   ENGINESIZE  CYLINDERS  FUELCONSUMPTION_COMB  CO2EMISSIONS\n",
       "0         2.0          4                   8.5           196\n",
       "1         2.4          4                   9.6           221\n",
       "2         1.5          4                   5.9           136\n",
       "3         3.5          6                  11.1           255\n",
       "4         3.5          6                  10.6           244\n",
       "5         3.5          6                  10.0           230\n",
       "6         3.5          6                  10.1           232\n",
       "7         3.7          6                  11.1           255\n",
       "8         3.7          6                  11.6           267\n",
       "9         2.4          4                   9.2           212"
      ]
     },
     "execution_count": 6,
     "metadata": {},
     "output_type": "execute_result"
    }
   ],
   "source": [
    "cdf = df[['ENGINESIZE','CYLINDERS','FUELCONSUMPTION_COMB','CO2EMISSIONS']]\n",
    "cdf.head(10)"
   ]
  },
  {
   "cell_type": "markdown",
   "metadata": {
    "id": "uRAoa2f9GXUC"
   },
   "source": [
    "Fitur-fitur tersebut dapat diplot sebagai berikut:"
   ]
  },
  {
   "cell_type": "code",
   "execution_count": 7,
   "metadata": {
    "button": false,
    "id": "byd4CsKAGXUF",
    "new_sheet": false,
    "run_control": {
     "read_only": false
    }
   },
   "outputs": [
    {
     "data": {
      "image/png": "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",
      "text/plain": [
       "<Figure size 432x288 with 4 Axes>"
      ]
     },
     "metadata": {
      "needs_background": "light"
     },
     "output_type": "display_data"
    }
   ],
   "source": [
    "viz = cdf[['CYLINDERS','ENGINESIZE','CO2EMISSIONS','FUELCONSUMPTION_COMB']]\n",
    "viz.hist()\n",
    "plt.show()"
   ]
  },
  {
   "cell_type": "markdown",
   "metadata": {
    "id": "u9NwOtitGXUM"
   },
   "source": [
    "Plot fitur-fitur vs emisi dapat dibuat dan dapat dilihat linearitas hubungannya."
   ]
  },
  {
   "cell_type": "code",
   "execution_count": 8,
   "metadata": {
    "button": false,
    "id": "LPzcACf5GXUO",
    "new_sheet": false,
    "run_control": {
     "read_only": false
    }
   },
   "outputs": [
    {
     "data": {
      "image/png": "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",
      "text/plain": [
       "<Figure size 432x288 with 1 Axes>"
      ]
     },
     "metadata": {
      "needs_background": "light"
     },
     "output_type": "display_data"
    }
   ],
   "source": [
    "plt.scatter(cdf.FUELCONSUMPTION_COMB, cdf.CO2EMISSIONS,  color='blue')\n",
    "plt.xlabel(\"FUELCONSUMPTION_COMB\")\n",
    "plt.ylabel(\"Emission\")\n",
    "plt.show()"
   ]
  },
  {
   "cell_type": "code",
   "execution_count": 9,
   "metadata": {
    "button": false,
    "id": "g2eDWcs-GXUU",
    "new_sheet": false,
    "run_control": {
     "read_only": false
    },
    "scrolled": true
   },
   "outputs": [
    {
     "data": {
      "image/png": "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",
      "text/plain": [
       "<Figure size 432x288 with 1 Axes>"
      ]
     },
     "metadata": {
      "needs_background": "light"
     },
     "output_type": "display_data"
    }
   ],
   "source": [
    "plt.scatter(cdf.ENGINESIZE, cdf.CO2EMISSIONS,  color='blue')\n",
    "plt.xlabel(\"Engine size\")\n",
    "plt.ylabel(\"Emission\")\n",
    "plt.show()"
   ]
  },
  {
   "cell_type": "code",
   "execution_count": 10,
   "metadata": {
    "id": "pRHixp2uuTJ-"
   },
   "outputs": [
    {
     "data": {
      "image/png": "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",
      "text/plain": [
       "<Figure size 432x288 with 1 Axes>"
      ]
     },
     "metadata": {
      "needs_background": "light"
     },
     "output_type": "display_data"
    }
   ],
   "source": [
    "plt.scatter(cdf.CYLINDERS, cdf.CO2EMISSIONS,  color='blue')\n",
    "plt.xlabel(\"Cylinders\")\n",
    "plt.ylabel(\"Emission\")\n",
    "plt.show()"
   ]
  },
  {
   "cell_type": "markdown",
   "metadata": {
    "button": false,
    "id": "zWMnFI1KGXUl",
    "new_sheet": false,
    "run_control": {
     "read_only": false
    }
   },
   "source": [
    "#### Pembuatan dataset pelatihan dan pengujian\n",
    "Pemisahan data latih/uji melibatkan pemisahan dataset menjadi dataset pelatihan dan pengujian, yang saling eksklusif. Setelah itu, dataset pelatihan dapat digunakan untuk membuat model dan dataset pengujian untuk pengujian.\n",
    "Hal ini akan memberikan evaluasi yang lebih akurat pada akurasi out-of-sample karena dataset pengujian bukan merupakan bagian dari dataset yang telah digunakan untuk melatih data. Ini lebih realistis untuk masalah dunia nyata.\n",
    "\n",
    "Ini berarti bahwa hasil dari setiap titik data dalam kumpulan data ini diketahui, sehingga sangat bagus untuk data pengujian. Dataset pengujian belum digunakan untuk melatih model, sehingga model tidak memiliki pengetahuan tentang hasil dari data ini, sehingga dapat disebut pengujian di luar sampel.\n",
    "\n"
   ]
  },
  {
   "cell_type": "code",
   "execution_count": 11,
   "metadata": {
    "id": "bpTHEJWywjdp"
   },
   "outputs": [],
   "source": [
    "# Mengambil \"Engine Size\" sebagai variabel independen (regressor)\n",
    "X = cdf.iloc[:, 0].values.reshape(-1,1)\n",
    "# Mengambil \"Emission\" sebagai variabel dependen\n",
    "y = cdf.iloc[:, 3].values.reshape(-1,1)\n",
    "# Reshape data karena hanya menggunakan satu fitur \"Engine Size\"\n",
    "#X = X.reshape(-1,1)\n",
    "# Reshape data karena hanya satu fitur\n",
    "#y = y.reshape(-1,1)"
   ]
  },
  {
   "cell_type": "markdown",
   "metadata": {
    "id": "xwVVPHJYyOOw"
   },
   "source": [
    "Proses splitting dataset pelatihan dan pengujian"
   ]
  },
  {
   "cell_type": "code",
   "execution_count": 12,
   "metadata": {
    "id": "0zUyJzHlxNgd"
   },
   "outputs": [],
   "source": [
    "# Splitting the dataset into the Training set and Test set\n",
    "from sklearn.model_selection import train_test_split\n",
    "X_train, X_test, y_train, y_test = train_test_split(X, y, test_size = 0.2, random_state = 0)"
   ]
  },
  {
   "cell_type": "markdown",
   "metadata": {
    "id": "eOV1onCWyXWq"
   },
   "source": [
    "Normalisasi atau scaling dataset"
   ]
  },
  {
   "cell_type": "code",
   "execution_count": 13,
   "metadata": {
    "id": "0xblBvgryaD8"
   },
   "outputs": [],
   "source": [
    "# Feature Scaling\n",
    "from sklearn.preprocessing import StandardScaler\n",
    "sc_X = StandardScaler()\n",
    "sc_y = StandardScaler()\n",
    "X = sc_X.fit_transform(X)\n",
    "y = sc_y.fit_transform(y)"
   ]
  },
  {
   "cell_type": "markdown",
   "metadata": {
    "id": "4g2GUsATzirU"
   },
   "source": [
    "Pembuatan Model"
   ]
  },
  {
   "cell_type": "code",
   "execution_count": 14,
   "metadata": {
    "id": "oWDaHmzPzkCY"
   },
   "outputs": [
    {
     "data": {
      "text/plain": [
       "DecisionTreeRegressor()"
      ]
     },
     "execution_count": 14,
     "metadata": {},
     "output_type": "execute_result"
    }
   ],
   "source": [
    "# Fitting Decision Tree Regression to the dataset\n",
    "from sklearn.tree import DecisionTreeRegressor\n",
    "regressor = DecisionTreeRegressor()\n",
    "regressor.fit(X, y)"
   ]
  },
  {
   "cell_type": "markdown",
   "metadata": {
    "id": "NHjqiT4I0B_M"
   },
   "source": [
    "Prediksi nilai baru dengan model yang telah dibentuk"
   ]
  },
  {
   "cell_type": "code",
   "execution_count": 16,
   "metadata": {
    "id": "sIk0hYhj0GXc"
   },
   "outputs": [
    {
     "name": "stdout",
     "output_type": "stream",
     "text": [
      "[[373.375]]\n"
     ]
    }
   ],
   "source": [
    "# Predicting a new result\n",
    "\n",
    "y_pred = regressor.predict(sc_X.transform(np.array([[5.4]]))).reshape(-1,1)\n",
    "#To transform 5.4 to the scaled X value, we first need to convert it into the array form\n",
    "#Since the transform method of StandardScaler Library only accepts arrays\n",
    "\n",
    "y_pred = sc_y.inverse_transform(y_pred)\n",
    "#Now the prediction gives us the scaled value of y\n",
    "#Thus we need inverse transformation of the scaled value for the real results\n",
    "\n",
    "print(y_pred)"
   ]
  },
  {
   "cell_type": "markdown",
   "metadata": {
    "id": "67PlpYud6zc9"
   },
   "source": [
    "Visualisasi Hasil dalam nilai yang discaling:"
   ]
  },
  {
   "cell_type": "code",
   "execution_count": 17,
   "metadata": {
    "id": "84h_mPEPADeG"
   },
   "outputs": [
    {
     "data": {
      "image/png": "iVBORw0KGgoAAAANSUhEUgAAAYAAAAEWCAYAAABv+EDhAAAAOXRFWHRTb2Z0d2FyZQBNYXRwbG90bGliIHZlcnNpb24zLjQuMywgaHR0cHM6Ly9tYXRwbG90bGliLm9yZy/MnkTPAAAACXBIWXMAAAsTAAALEwEAmpwYAAA+q0lEQVR4nO2deZgcZbXwf2e2JJPEQBYkLJkoqwnKFhAEFUnAiAvKFT51xEjUQNArKrjG73r1GsXr9uESYEQWYQBxX4hg2GRfQkQkCQhiEkIEspB1ksx2vj/equmtqqt6rZ7u83ueerr77VpO9STvqbO854iqYhiGYTQeTUkLYBiGYSSDKQDDMIwGxRSAYRhGg2IKwDAMo0ExBWAYhtGgmAIwDMNoUEwBGHWBiFwmIv+3hOO/JCJXlFMmw6h1xNYBGEkhIquAVwIDacNXq+onkpGo/IjIh4GfAju9ofXAXcA3VfUfMc9xNbBWVb9cARGrfh2jdjALwEiad6rqmLStbib/NB5Q1THAOGAWThk8KiKHJSuW0eiYAjBqEhH5sIjcJyLfF5HNIvKsiLzBG39ORF4SkTlp+18tIl/33k8UkT96x20SkXtEpMn77vMi8ryIbBORp0Rkpjf+3yJyXdr53iUiy71z3CUir0n7bpWIXCQij4vIFhH5uYiMjLonVR1Q1X+q6vnAX4D/TjvnL0TkBe98d4vIdG98HtAJfE5EtovIH7zxL4jIP737WCEi70k714Ei8hfvXBtE5Odp3x0qIku83+UpETkr33WM+sYUgFHLvB54HJgAXA/cCBwDHAh8EPiRiIwJOO5CYC0wCedi+hKgInII8AngGFUdC7wVWJV9sIgcDNwAfMo7x2LgDyLSlrbbWcBs4FXA64APF3hvvwbemPb5T8BBwF7AMqAbQFW7vPf/61lI7/T2/6d3/Djgq8B1IjLZ++5/gD8DewL7AT/07ms0sAT3W+4FvA9YJCLT8lzHqGNMARhJ81vvKdvfPpb23b9U9SpVHQB+DuwPfE1Vd6vqn4FenDLIpg+YDHSoap+q3qMu2DUAjACmiUirqq5S1X8GHP9/gJtVdYmq9gHfAUYBb0jb5wequk5VNwF/AI4o8L7XAeP9D6p6papuU9XdOMvgcBEZF3awqv7Cu/6gqv4ceBo4Nu3+O4B9VHWXqt7rjb8DWOX9pv2q+lfgV8CZBcpu1AmmAIykebeq7pG2/STtuxfT3u8EUNXssSAL4NvAM8CfPdfRF7xjn8E91f838JKI3Cgi+wQcvw+w2v+gqoPAc8C+afu8kPa+J0SOfOwLbAIQkWYRudhz6WwlZZVMDDtYRD4kIo/5ihM4LG3/zwECPOy5seZ64x3A69MVLs7ts3eBsht1gikAo+7wnqQvVNVXA+8CPuP7+lX1elU9ETcZKvCtgFOs874HQEQEZ308X0Yx3wPc473/AHA6LkA8DpjqX9q/pfQDRaQD+AnOnTVBVfcAnvD3V9UXVPVjqroPcC7OzXMgTon9JUvhjlHV+UHXMeofUwBG3SEi7/ACoQJswbl+BkXkEBE5WURGALtwFsRgwCluAt4uIjNFpBUXU9gN3F+iXM0i8ioR+SFwEs53DzDWO/9GoB34RtahLwKvTvs8GjdZr/fOew7OAvCvc6aI7Od9fNnbdxD4I3CwiJwtIq3edkxagDv7OkadYwrASJo/eFkn/vabMpzzIOA2YDvwALBIVe/E+f8vBjbgXDh7AV/MPlhVn8IFmX/o7ftOXLpqb5HyHC8i24GtuDUAr8AFov/uff8znMvpeWAF8GDW8T/FxS02i8hvVXUF8F3v3l4EXgvcl7b/McBD3jV/D1ygqs+q6jbgVFzwd533G3zL+11yrlPkvRrDCFsIZhiG0aCYBWAYhtGgmAIwDMNoUEwBGIZhNCimAAzDMBqUlqQFKISJEyfq1KlTkxbDMAxjWPHoo49uUNVJ2ePDSgFMnTqVpUuXJi2GYRjGsEJEVgeNmwvIMAyjQTEFYBiG0aCYAjAMw2hQTAEYhmE0KKYADMMwGhRTAIZh1CTd3TB1KjQ1udfu7qQlqj+GVRqoYRiNQXc3zJsHPT3u8+rV7jNAZ2dyctUbZgEYhlFzLFiQmvx9enrcuFE+TAEYhlFzrFlT2LhRHKYADMOoOaZMKWzcKA5TAIZh1BwLF0J7e+ZYe7sbN8qHKQDDMGqOzk7o6oKODhBxr11dFgAuN5YFZBhGTdLZaRN+pTELwDAMo0ExBWAYhtGgmAIwDMNoUEwBGIZhNCimAAzDMBoUUwCGYRgNiikAwzCMBsXWARiGUXts3QqPPZa0FI4994TXvjZpKSqCKQDDMGqPT34SrrkmaSlS/OtfrilBnWEKwDCM2uPll+GAA1z9hyS59174yldgy5Zk5agQpgAMw6g9+vud6+Xkk5OVY8eOlDx1iAWBDcOoPfr7oaUGnk99GUwBGIZhVAlTAFXBFIBhGLWHKYCqkJgCEJGRIvKwiPxNRJaLyFeTksUwjBrDFEBVSPIX3g2crKrbRaQVuFdE/qSqDyYok2EYtYApgKqQ2C+sqgps9z62epsmJY9hGDVEX58pgCqQaAxARJpF5DHgJWCJqj4UsM88EVkqIkvXr19fdRkNw0gAswCqQqIKQFUHVPUIYD/gWBE5LGCfLlWdoaozJk2aVHUZDcNIgP5+aG1NWgpobnavpgAqh6puBu4EZicsimEYtUB/P6vWtjB1KjQ1uSoM3d0JyOFbAAMDCVy88iSZBTRJRPbw3o8CTgGeTEoewzBSnH++m/tE3Ov551f3+ts293P/wy2sXg2qsHo1zJuXgBIwF1DFmAzcKSKPA4/gYgB/TFAewzBwk/2ll6YeegcG3OdqKoGtm/rZNZAZA+jpgQULqicDUPcKIMksoMeBI5O6vmEYwVx2Wfj4okXVkUEG+ukPmJ7WrKnO9YeocwVQEzEAwzBqBw1Jxg4brwRtTcEKYMqU6skAmAIwDMOoNmNH5q4DaG+HhQurLIgpAMMwjOoyoqmft8xqoaPDBaI7OlxrgM7OKgtiCsAwjEZi/vzCxitCfz+veV0rq1bB4CCsWpXA5A+mAAzDqC26u6lofvyiRW6y99dANTe7z6UEgAuWuVZWAttCMMMw4lLp/PnubpcPn54ff845MHFieRXCokVuzlN1r6VO/tky583p9y9aCwqgzheC1cAvbBj1gZ8/7+Pnz0P50icXLHD58On09cHGje69P7lCQi6TABYsgLk9P+QN3D80tq5nH778pW/T2RnwDDo46F5rSQGYBWAYRj7C+peXs695nDz4RBZM5WHNGvgi3+Q0FnMUyziZO7iQ79G35t/BB/iTbS0ogCZvijQFYBhGPsK8BOX0HsTNgy91wVSUK6sQn/6UKdBCP910cihP8QUuBmDqvn3BB9SSAvB/AFMAhmHkQ6Sw8WJYuNDlw0dRyoKpqFIQhfr0Fy6EZgYYwAVU+3BVPj/36RAF0OeN14ICAFMAhmFEU64VtPmevjs7nUvJz4+fMAHa2jKPL3XBVL5SEBAch8jndurshLHtA4we24wIjJvoBH7X24aBBQCmAAyjXki6ymUUcQqxdXYylB+/YQN85COZKZtz5pQWAI5SZGHupXxup7amAeZ+rJnBQfhxl1fnv7c3eGdTAFXDFIDRMFS6yqU/CccdD6LQQHJ3N1xzTeY9XXNNZcsmh7mX8rqdBgZSP4Tf6KUvwgKohYYwYArAMOqBSmfp+OmXcceDKDSQXKg7phwExSEi3U79/YUrALMAKo4pAKNhqHSWTjlW0BZqRRTjjokiqhREZ6dzMxXkdirGAqgVBdDcXLcLwUwBGA1DOVw0UZS6grZQK6Iod0wEUYqsYLeTqgtYDFcFYBaAYQx/yuGiqTQnnJA777W0uPEggtwxra2wfXtppSHyKbKC3U7+yl5TADWHKQCjYahEkbNys2BB7lzT3585uaYvwlqwwLlf0tNCRVxpiEr10i3Y7eSbCnEVgK0DqBo18gsbRnVYtKi2JvxsoiZXfxGW/wS+erVzv/i18qdOTdUF8vGfzmOnhq5aBU8+mTve0gInnsiUKSNZvTr361C3U6EKwCyAqmEWgGHUEFE+/Sj3S1mCwqefDm97W+52yinQ1VV4FlC2AvBXrmUpgOnTnfVy/LFusj3346YAKo0pAMOoIaIm16gJvixB4U2b4O1vhwceSG333ee+27w5ZzVyZLeuGBbAa6cNsGHFi+zFi+zFSwA8s6aV6dMLkLtSmAIwDKMaRE2uURN8UTn62ezeDfvvD8cdl9re8AYXdPAm7fTVyJHdusIUQNpK4C+s/BAvsjcvsje/490A7GQUK1YUIHelSFgBVHL1uikAwyiASnfjgvyTa9QEX/DTeRC7dsGIEbnjra3h5RvyEcMCOJBnWM405rOI+Szig1zLwxxb+LUqQUuLk3VwsOrbx+cPctmlgwwOuEyqcq9eNwVgGDEpuLNVBYgzwWcrEChQae3eDSNH5o63tYUHbvMRQwG008OTHMplzOcy5tPNBxmolRyVESPgjjuc/FXefnxZM4M0cw9vzBCpXKvXE/uFRWR/4GfAKwEFulT1kqTkMYwo8gVga6X7VjZBWUN5O4apuqf8CAtg+nQy3DPTpsHy5SFCxFAA41p76OnLrXM9bVrIOavJwoXw5z8ncun/+op7fY79M8bLtTA5SRXbD1yoqstEZCzwqIgsUdVa8PoZRg6VKLsQh3z9BIIm9O5up5TWrHFP/dmTRV6ltXs3AD/tHslHv5YanjkTbmtrg97enMkf3Ofp00OUQAwFMGVCDyN2tcPm1GF5lUo18eMgCfCNrwVP9uVavZ6YC0hV/62qy7z324CVwL5JyWMYUVSi7EIUcZrJpKeBZrupwp4Ug/L4gSEFsPyfmRbA7bfDi5udCygsMBsasI2zDmDHDs76cDuqDG01MfknTKVXr9dEDEBEpgJHAg8FfDdPRJaKyNL169dXXTbD8ClLhk0Yn/oU7LlnzraBCXyA6CCDb4UEuamCCH2C3LXLvZAbA9i2q0xBYH+Bl68AVJ3QcVqdNRiVXr2eeJRFRMYAvwI+papbs79X1S6gC2DGjBkF9lYyjPLhu0x898qUKW7yL4v//777YNw4twgrjTE/uIwZLOV68l/Et0LiuqNCfcieBRCkAHppK48CEHFWgK8A+vrcPqYAAqnk6vVEFYCItOIm/25V/XWSshhGovT3w+teB5dk5kFs/cH1tJI/8ybdCpkyJY97J42OjpAvPAtgN7lB4D5aS8sCSi/tkK4AfJNl9OjCz22URGIuIBER4KfASlX9XlJyGEZcKpoG2t8f2AGrj1baCH7qDkoDjds0/rTTQr7IYwGMHFsmCwAy1xTs2OFezQKoOknGAE4AzgZOFpHHvC3sn6VhVIV8C70q2n2rry+w+Nk+HW0ZCuBAnmYFr0GndDC4fwertIPOF7479H32OoEwX//ixSFyeBbAoYdnWgAzZ8Ihr3VB4IL7KoQpgGwLwBRA1UkyC+heVRVVfZ2qHuFtYf8sDaPiRD3hVzQNtL8/uPplWxsf/kDfUGbM079+gtfwJL9fcwRXrTmZDWt28MQP7sg4JH0hmF+KP7bMngWw8DsjMzJybruNoaf2gjNTAhTA5p5WrrisDxE46lBTAElRE1lAhlELRD3hjx8ffFzYeEGEuIBobWXZg71DtWDed4aboD/PxczlKv7Bwfx7TW9oaYCCU1c9CyBwIZi3DmDRImcRpDNzZp5AZZYCOP982NLTSos6C2DEoPvRf3SlKYBqYwrAMDySWugFhLqAnnupjeee7R2aQ0fgFIAfpO2ljVb6uPTSYLdVwamrngWQrxREd7crEJrOAw9kXjfdlXbG6ZkKoKvLxTb84PZoXAzgl3+yIHC1MQVgGB5RT8ubNgV/HzZeEGkuoPTJ898bWjOygLIVQHqQOMhtVXBxuHwWgOcCCrOU5sxxMk+cCHPnplxp619wlTRvv8spgIEBJ/dRLGMhX2Key/Jm26BZANXGFIBheEQ9LYcpiKamMlQH9VxA2XGIXjKDwP77XtqGXrOzhNIn46lT3VhU6eZZs5yC+MB7nYKZc16IBdDbG5pmOjDgZN64MTNZqBlnAVxxlVMAzc3wKEdzAP/kIr7Du/ktL7IXa5vCclONSpH4QjDDqBWiFnotXJhZWM3Hd89EFlrLh+cCyn66zp7gw1xA2RQi06xZrtQDwEicBXDXAyOYNcsL/vq0Bq8DOIBneCd/yBhbwTT+zFuBlAJY96JTACedBGfffh1nc13GMTPfEiyfUTlMARhGGp2d4RNltoIouNBaPjwXUHa8oY9W2klphHwuoDB8i+Dss4NXL++6/V7m4QrvvIm73Rgjuf32VCrpvHmwqC14HcB/8TU+xLUZY5sZx55eZTdfAUx8pVMAzzwTLGfYuFE5zAVkGAVQUoqlR2CHJ88FlO1myn7C9xVAugsoaqUwpNwzq1c7/3y6q+pX/AeXcx6Xcx6dXM9mxrGFcRnHXnop3PNQ8DqAV/IijzCDcWxmHJv5Nhcxhu1D3/sK4GPzm/P+PlUJthsZmAIwjCIJq1yQr6LB+ee7ydS3HNzkqkMuoAMPzNw/KAbQSyvgyoTGsQCy6e2FCy5Ik5cdXMa5TGYdk1nHvjzP7oCVwH9b6YLAhxySOT6RDbzEXmxlHFs95dHCAHuN70cEJk9yNzv7NKcAkqiqagRjCsAwCiA9Q2f79uB9wsYhuJNTE54p0dLCXXdlfpc9wY9gd0adnrgWQDYbN6bet0kfm9mDF5jMC0ymh2ANtludC2jlyszxCWxkIxMAZ9WM3HMUAC+u2sngIFz5k8w00IpWVTUKwhSAYcQkO0OnGIKqcLbgNRxvbc35Pn2CV4XPnL+b1jEjhtI6+yQ3CwjcXBunlwCqtNHHvlPbInftF+cCyr73CWxkAxMB5xb78v941oOfUpq1EKwsfYuNsmAKwKh/7r/fVT+bPTtzO+ssPv3Rbbn++BDi1trPR1C9nKEn+JaWnO99F9DQ+O7d7NIRrF3rFEKf5rqA2tvhmmvcZDxhQrAcQ+NecODsua1DZR/mzw8+5rVH+QXcUhqgjd2MZfuQBQDAKGcBhCkAyN/43qgepgCM+ud3v4NbboHNm1Pb6tXwi1/w4E+fyPLHhyuBqDLLB/MUSzma5Uxz/QzTtzPPBMjxn0OmBZBdT8d3AQ0MOCX1s5/28vKOtiGZd3sWwpgxqafpOXOcsmry/ndnK5XW1rSq035aZ1oZirAmJKe921kJo0ekzJQJOF/SRiakFg/7b3budK9BxeCMmsDSQI36p7cXxo6FBx9Mjd1xB8ycGeg/7+oKrmvT3Jy/GfdRLONolnELs5l22NjUFytWwC9/CQMDPPlk7iSYbgH41+3qctcKygJKjwH4CmLnTvc0nd0EfuNGN7fvsYdbsZyTBhqgACCkCcm33D5LBt5Cr/fs6KeobmRCKvg9Mr8LyKgdzAIw6p/eXreKNR1vwsu3iCruuI+/iOpcLoObbkptH/qQ22HnzsDU0SELwCsFsWiRywoNWgkcFARuQlFPuAULYFzPOl7DiqFtRN82Nm5051u71jUfGyJEAQRy6qkwaxa7+lsYpIlBmtjOGG7mNO7jhFRJDN8FZBZAzWMWgFH/FKgAIBVAnTYt1Zy8oyO/G8hXAJP2y0qhzPCJj8k5Lt0FlE2cLCCAUU29wCj6Vq/jOfanmZSmeYhjOc5rt+27ucB7wvcVQPbvE8SRR8KSJZza6hRUzn3487tZAMMGswCM+idNAfiLsGYc7559olIoV6yA6dPd+6huW74C2PeAEAXgPxFnke4CyhGdNlrpxw+8ttGb4wICmHeOO8dRe6+jmUEu5vOcxc9ZzNs4iKdzzjuUjuqv7I1jAXgETf4Z46YAhg2mAIxY5OuUVfMy9PZCa2vGIix/4mylLzJdcsUK95qdvpiNrwCW3JOlALKDollku4DSaR7ZNiQnOAvAf+oHLzUT+N7FbiK/YO42AG5hNr/gLB7geMbzMq1ZmUJD7qxCXEBxMRfQsMEUgBFJRXvhVkMGzwJIX4SVrgCamuLn9aenL2bjK4Cdg1nulOy0yCzyuYCmH+HGfDeQ7wKaP9/J/INLvWO8iXzWsVsBGL33KxCBF3klAHvxUsZ5h+biSigAswCGDaYAjEgq2gu3GjJ4CiA9iJuuAKKCu5NZBwccAJMmZWwv8ErO4FdD+41kFzsZSXNzlnlQggvonodyLYDdjEgpM99377tytjoFcPM9r2BwEI6a7RTA3ryQcd6hdNNKWgCmAGqeWApARCaJyJdEpEtErvS3Sgtn1Aa1ULyrJBk8BZA+/6QrAH982rTgw2d3PAnPPgtvfCP/OOIsfrbrLBZtOIs9eZk3cP/QfiPZxS5G5vbGLcEFtEvdBJ9tAQwprWwFsM25gHjFKwCYetzegCvY5tPUBCec4H0oJAjsEbZQbGjc1gEMG+JaAL8DxgG3ATenbUYDUAvFu+LKEBgn6OuDtraMiTldAfjjy5fnKoFp0+DKS9ykuvioL3Pk/T9mzvYf83F+zCbGMzat6uVIdjHYNjI3fz7tiTgodpDPBTQgbux6PsAfeTv78xy9pCmz1kwXkG8BMNatQ/j6T5wF8H0+zb2cwL2cwLcGL0pZTiFB4JJiPuYCGjbEVQDtqvp5Vb1JVX/lbxWVzKgZaqF4VxwZwuIELz3vLID0Fa6+Ajj5jX0ZE/by5QyVRFD1UkC96m7fvnRMhhtqO2MYw7ahzyPZxba+kbmTZZoLKCjWkM8FtN9Zb+BeTuAVbGUvXmI50/kD70wpsyAXUEvL0CT84PP7cxUfZjUd9NDOfqzlY/wkZTkFuICi4i1BBe0yxi0IPGyIqwD+KCKnVVQSo2bp7HTlBdJLA8yZU936LXEKiIXFCdatSqWB+ousXtrkJrz3nZGZBhr45Ou5VZ5aNzZj322Mzah7P5Jd7NIRuXGJNJdIR0DXw3wuoP+6cRrXz7+X45sf4Vge4fjmR5g0/8yU0sq2ALZtc+4fz9TYr6OZuVzFqSzhVJbQTSft9KQspwAFEBVviVwo19rqrn/99fD+96c0hymAmiOuArgApwR2icg2b9taScGM2qG72xUXS6+Zc801yaSC5iM0HpBnIVh6i8OwJ99ld7tJfs/9MxdxbWcMY7MsgF2MzJUjzQUUZMmMGRHuAoLMlcH9/VklGoIsAM//D64GXjo7GE0r/bzzrb2Z95927ah4S1ja7NC4CLz3ve7cy5Y5V9Db3x7caN5IlFgKQFXHqmqTqo703o9V1VdEH5kfL5j8kog8Ueq5jMpRC1lAcdJAwxZpjZR4CiDsPu9Z7Cb5Ly0cnXGabYwNVAA5TeLTXCJB1tTsmeEuoEh8gR580DXwffbZIf8/wOLFmbvv8Gr9/2XxDjcQEASOireEpcymj3effhNTdz9F09NPMXX3U3S//48x61Mb1SR2GqiIvEtEvuNt7yjT9a8GZpfpXEaFqFQWUCGBxjhKaMeO4GNbNJ4CCCvz0L9lu2vz1dSUMcllu4BGsJtdjMxovzhvHvz8dykXUHc3XHFFpjV1+63hLiBwoouktoxbGT/evV50EZxyCtx7L0yePPR19t+oB6clN631fsyAIHCpMZ/ubtd/OF1Zn3127VmMRvw00ItxbqAV3naBiHyz1Iur6t3ApsgdjUSpRBZQoQu7SlFCbQQoAP8xva8v+KA0xrINxo5lwYLM3X0XkN98ZZRnAaTT0wMLvp5yAV1wQcAlB8JdQG1tuft7SU2Oww6Dv/0N7rkntV1//dC+2X8j3wI4aJ8sCyDt2qU2bJk7N9dKUHXjRm0R1wI4DThFVa9U1StxT+1vr5xYKURknogsFZGl69evr8YljSwqkQUU9kQ/Z06wRVCKEgpUAOAmvRgKYAzbYcyYHGXjWwB+g/gRAQoA4J9rWp2vZ+fOjFaMQ2LkyQIKE29oXARe9zo48cTUltYFZuHCzFv3FcBnP96TeaIs5ZOvYUtUDMA3KrIJGzeSoxCn4x6kntbHlV+UYFS1C+gCmDFjRpGN+IxS8P/zL1jgnrhzasoXQdiTu+8a8S0C//oLF2bWuYf4SqgsCmDsWKZMyXQTuTTQ7UzZXwEZigFk09yMywRavJgfsiXn+4P5h3tTTAwgBulP474LqGV3uAUQxXnnpSqKZo8bw4u4FsA3gb+KyNUicg3wKGAtnBuIcrfwi/Pknu7jL8UtUaoC8F1A2ZbQNsbSzCDfv3AtbNxIOz2BCmBgAJg5E557jvdxY852FMtYyaGwzz7RNxOAX+E0qK1lttvKtwCuvSw8CBxFWMewoCY6Rm0TNwvoBuA44NfAr4DjVfXnlRTMqG8WLky1LMzH6tWpie2++/IroTDXRCspp3l64Hn9llaeXpGaHS9+5ffZxpic7c38BcaOzVFCTeP3BOA9F0yBiROZwnNsD6j339GBa0u5YQOTCN6msTIje2dI9pAHc388vcIp5La1DAsCb38pPAgch3ypqTNnBh8TNm4kR16bU0QOVdUnReQob2it97qPiOyjqstKubiI3ACcBEwUkbXAV1T1p6Wc0xge3HdfcEXNMHIamQQwevTQot00lBGeBdDd7QKR/py3W1u5964+Hu52yuTzJ97Hpt+O4sqBOUNHTxgP55wDnHEG4PYbUjxb3wc36NAJH1kq/PCmd0Fa0c9SYyX+Eob0p/jW1tQ9XH558HGXX+5+p+zfxLcAxo8o3gUUxW23waxZcPvtqbGZM924UWOoaugGdHmvdwZsd+Q7thLb0UcfrUYyXHedakeHqoh7ve660s7X3JxecCH+1twcfs6g/VvodW++/nWdMCHzu2eZqtdwtk6Y4J3glFNUjzuuoPvI/l3mz8//O+W7t2KIOp9I5tg+rFUF/RiXa0eH6uf4liroDVdsL04AY1gALNWAOTWvBaCq87zXt1RSCRm1TXaj8ewAbTFElWAu5rigpu1D7RTb2nIycPpopZW+1PiWLbDnnrFlCfpdrrmmsJTJSpOdjum7gNrpYfVqaPEykM77z1YGRtaO3EZ1iLsO4EwRGeu9/7KI/FpEjqysaEatUImVwMWWhcl3XJBySFcA2fgKYIgtWzLKKERRCyuko1Iys38v3wV0Ed/hYY7hfJw/bcvO1qrKbdQGcfPO/q+q/kJETgRmAd8GLgNeXzHJjJohbIVsvgbpUcybF5xKGOe4DHp64BvfgO3b+VFAUk873gzd1saECWRYAb4CGEqb37oVxsXPcA5LZV292gWZy5EuCy6g29XlFFxzs/sN/DhIVFmGk07K9MX30cZ3+QyH8iQAL7EX3XQCUtX+DkaNEOQXyt6Av3qv3wQ+kD5Wzc1iAMkQ5q/P54+P4rrrVJuaCvP9z5wZ4F+/7Ta3w+jR+jLjArcXmaR6zz163XWqra2pcz7MDF0sb0v56dvbVS+8MK/c8+cXFr9obc2MAxQaA5g/P3jf+fPjna+jI76sHR1F/zmNGoeQGEBcBfBH4HLgWdyCsBHA3+IcW87NFEAyxJ20CgkUFzIxiahOmKDa1pY53t6ueuenf+c+PPJILDnTZVw64nhdd9gs90WvFyz+6ldDZQ6bjKO2oSBzAb+lT5Tyjfrd4srY3l5YYL/cSQFGZSlVAbQDZwAHeZ8nA6fGObacmymAZMjOngma2K67zk0icSeVYibSoO38iT93b554ouDJVd/0JtU3v9m937hRFfTC1v+XcdyoUand8z35R022hfyWcX+nUn7H5ubiJ/BsSwpyLR2jtghTAHFXAk8GblbVp0XkJOBM4OESvU/GMGHz5ujxpAKiOzZ4Xaf8ksuF0NrKP5/qo6UFXjXBlWjY0DcuY5edO1Orf/NlIMVd07BrV2HjlWJgoPiV3UEF7fr63LgxvIirAH4FDIjIgbi6PPsD1+c/xIhLSf1XQ8hXHqBQIjtAkVzj+H3HewpgZG4JhiiW/6OVvV54nDsG3sQveS8AW8nNAvI7G4ZlIBWS0RRWsjpsvBYJKmiXb9yoXeIqgEFV7ce5gX6oqp/FWQVGiRRaFjkOUeUBKkESjePb2+GMtxVvAXxrbSePcAz9tLCFcfyRt/MAx4fun5OBFDFuGDVPkF8oewMeAt4PPAG8yht7Is6x5dzqMQYQFgwtJSOj3Fk7cXzb1YwBZPitv/ENN7hzZ8ExgEKu6ZOeBdTcnMrGUY3n3y+njKqFBdPTt5kzI/7oeSg0jmEkDyXGAM4BjgcWquq/RORVwLXlV0eNRyVcJ3FcNuWm1CYihZDht965012wgv1m042LE06A/fZzl9xvP/fZ55JLckvqtLa68WKZPz//eFCvBt/1B849lV1ktNS6PJdckruurq2ttPs0EiJIK9TqVo8WQCWepsLy65uaijtfoU+tcSi2FlDONS+6aChVp9DfMk6aZPpvFsfKiUqPnDmz8CfyfFZH9jUnTMjN0Ck0xTMOlgY6vKAYC0BEbvJe/y4ij6dtfxeRx6uioYyCCXOHF5MoUynKZo3s3Dl0Y0ccEbxL2Lhq9OkHB1OxkzhdzCB/ds3BBwdfJ2wc8pdehsxeDWPG5GboVCIbq9z9IYxkEM3zv0BEJqvqv0WkI+h7VS2hGEDhzJgxQ5cuXVrNS1acpqbgiUiksHLJlTxnWL0ZiDeJBjF2bFDp5nhkXPOjH4U//Qmef56WlmDF0tzsJs5swvYPOz7sd02nvT2/66tQGSF/KYhsKvHvyRj+iMijqjojezyvBaCq//ZeV3uT/cvAtrTNKJFKZM8kkZFTKGVLe0yzAAqNfcTN3vGPL7SLWSGyhI0XmtFVrb99JVKXjQQI8gtlb8C5wAvAKuBf3vZsnGPLudVjDOC663JLHLS1leZTLYevOp1KxACK9f+nb9Omqep73qN62GGqWlz2U5zaPv7xQb9rob9LoTIWun+h2VjFUI1rGOWFEktBPA1MjLNvJbd6VQCVWFafb4Iv9JrFKoB8MpRDAYDq3aNnqx5zjKpGF04LIl0BhAWF049Pv6cohRF2vUJkLOa3r3SAthKpy0ZlKVUB3AK0x9m3kls9KoAk/jOVux5NEFFPieVSAHdwkqvp4xGVMZNOVHG3qOOLVYyFyFiJSqylEqb8RJKTychPmALIGwT28Zq/XIVbELY7zX30ybL5omJgQeDyUGhQN+7+3d3O/71mjbuvIL92R4fLGsl3zkJ4gOM47tRxcOutBR9banB7zJjgWEZwb+LimD4dVqzIHZ82DZYvL881CmXq1OBeEP7f1qg9woLAcRvCXA7cAfwdsFyCMtLeHjyJZC/uqXWy2yOGBTXjNpEZyU6u4KPsycsM0sQAzRmbP3Yw/4BRbyrPTRRIdkpo1HgxPPVUYePVYOHCzL81uH+vCxcmJ5NRHHEVQKuqfqaikjQofqGxuOPlILszVvp4sQTlyAcRt3DaSdxFJ9fzBNPZzYiM6b+JwaH3u1rHwsknFy94CYRZCVHWQ7qlFNU1LIlV3VH4ssa9B6N2iasA/iQi84A/kOkC2lQRqRqIMDdPJXO2L7kE5s6F3t7UWKlL+eM+2YdPXMqbuJtXsBWA93EjfbRwLA+zk2BzqFQ3iEjhLq9S6e6Gc85JLdZavdp9huAJNKjRvT+eJJ2dNuHXBUGBgeyNVOpn+mZpoGWg2EBiNtmZH/Pn588EKXcaaNzSDn6gOXv8KJbmDN7Jmwv+XQq5r2Kyhgr9XbIpNABfqoyGoRoeBK7qBF7qZgogmDj56U1NxacDxpExI0OFPl3MbF3BoUPbE0zTd/HbUAXwDn6vCtrJtXoUS/Uoluo4Xg7NNglTaoXmpxeSkVPM71KOY0qRsVJYLaDhRZgCiCoF8TlV/V/v/Zmq+ou0776hql8qxfoQkdnAJUAzcIWqXpxv/3rMAipHmYWwrIxsYmenrFsHn/3sUCDi178J3/WMT0+Fiy+meVTbkNvqDdzHfZzIHbyF9UwC4N38lss5lwv4Aaq59302P+NnzOEAnuFZDoghpHNbXXllyhVR7eyUYv52lSirUW2yA/4QXQLDSJawLKAoBbBMVY/Kfh/0uQiBmoF/AKcAa4FHgPerakDSm6MeFcDEieEB2Q0b4p2jEJ91rEmmuxs++EE45BBoa+Pxvwfv1sQgh7EcDjqIZU+PGRqfyAb2YR0T2cAW9gBgNVO4nZnM5apA3/snuYRL+BTj2cjLjI99P+m/U7VTaov525Xj7500lgY6/Cg2DVRC3gd9LpRjgWdU9VkAEbkROB0IVQD1SCUCsiWzzSvzdOedMHkyh+d7av3u9+Cuu1j7dGpsLftxKfOHJn+A7YxhDM78CJqkx+PyCbYwriBR0yfTKVOCJ6ZK1UAq5m9Xk3/vAkmq/adRAYL8Qv4GLAt6H/S50A14L87t438+G/hRwH7zgKXA0ilTppTZM1YblOpPjRN89eMAsa75v//rDti2LfL8PlG19R/iGF3M7NDvL+E/dRN7xL6XIBmSqFFTzN9uuPvPrRTE8IOQGECUBXC4iGzFPe2P8t7jfS68C3cRqGoXrhE9M2bMGCZe0trk3HPda7YP1+9DDJ4Pd9s25zcZPTr2uaNcS9sYO2QBBLEnL/Mye8a+XhBJ5KcXkw453FMobSFY/RBVDrpZVV+hqmNVtcV7739uzXdsDJ4H9k/7vJ831lB0d8PZZ2c2hT/77PKW121udi0E/RryYY1NhsoYb9vm6hwUEFyIWkS2nTGMzVNBfDybSlYA0JiNSqpdmrma7T+NyhJ3IVgleAQ4yOsv/DzwPuADCcqTCHPn5j49q7rxcvyHCnoyj/ThbtvmOraUkWwLYBIv8X0+zShcptHreYjHOKKs12wEIq25CjHcrRjDEbcpfNlR1X7gE8CtwErgJlVNqLxVcqQHA+OMl4PIpiG+BVAAmyLWhKcHgQFOYQmdXM9rWMmBPMM69uFX/EdB1zRiWHOGkYckLQBUdTGwOEkZGpFIH24RFsD48cHpjT7ZLqApOHPjaB4NLfVgRGMZOUYpJGYBGNVBxPWhTW8hGOnDLaMLqKnJXWMbYxlND024wjZTWMN6JtrkXyLDof2nUbuYAmgAovrI5pClAEaG5Hulj4e5gFRdQHY7zqXUjjM7prCGNZQ+S5VSwbQeWLgwt3S4ZeQYcUnUBWSUh2nTgpuGZNPVBYs+vpxbf7GVRV+DyQqTAVbDorNh4tPw1rfilqROnz503KtfHXz+V7869T5qEZavAH7H6fTSxvE8wB2UVsa5tXV4LaCqBFaa2SiJoMUBtbrVajG4Uhb2lKMYXNwFU4fxePydP/3pgmSMqlp5KCv0Lt6kD/D6oe293FTwoq8xY4bvAirDSAqKXAhmRFDJNLympvI+0b2SFwH4DN9lOdMD97n1FpzT/rjjCjr34pBQvj/+JK/hJP5S0DmD2Lmzsr0SDKORMAVQIvnS8EqdtP2FYeVSKGNwvSfv4iT+Skgdv7cWd+5qZaMk2QnLMOoNCwKXSDUmvnLldbd7CmAH8Us8xKVa2ShJd8IyjHrCFECJVGviK4dC8TNweiqQehmVjVKuidu3hgzDKB1TACVy2mmFjRdLORTK6ApaAFFrCw45pLTzZ9czMgyjdCwGUCI33RQ+Xq7Jqlx53b4CCFt8VWoz9Hz1YZ56qrhztrXB7t3Fy2QYRjhmAZRIWPmDfGUR4lLuSovt9EBTE+ecNyLw+/POK/0aYRQbvH3jG8srh2EYKcwCqGFC0x3XroW//W3oY7a3qYd2/sKb0Sz9Ppod0N7OoksFxCmWgQHnXpk3r7Lulebm4pTAXXeVXRTDMDxMAVSB888v82T7vvfBffcNfbw5YJdTuZUlnJoxNpodQ01eFi2qrj993jxXjqJQLO3TMCqHKYASCWpw7o+Dm/zTJz6/Lg+UMAGvXAlnngmf/SwAxxyb+mo8m7iV2RzIMzkKoJ2egrp8+UTdYxz8e/UVYVws7dMwKofFAGKQr+NSWCtEf7yrK/j7sPFINm92ldeOOWZoW0pqW8Ip9NLK/jyXc6jvAgKnmFpagquFZvOa1xQ2HsaiRdDf736bffaJd4ylfRpG5TALIIJSSz2EPe0W7dr417/ca3oltjSUJp5n30AF4FsAhVolK1cGixI2HofWiIai1YhLGEajIxrVzbuGmDFjhi5durSq15w6NbjKZUeH6zmbzw2i6p6ugyb75mb3NBx0/K2cyjE8wp57BJy0rw927IBly+DII4Hcc/yFNzGC3XyIn2WMd9PJjLe8gpa778grUzZR91gMlTinYRjBiMijqjoje9wsgAiCJv9849mcdBLcfnvweBD78DynsoQlzOKUD00L3mniRDj88NBrPsur+TDX8BSH5n45/j/Kb5UUQVhWkPn8DaN6mAKIoNSJ6rHHgsef/OtO+On1fNxriu4zHdcW+Yt8k1MuyVHYsfgCF3NrSFW3G75/Is2/LeyexoyB7duDx4ulFpSQYTQ6pgAiKHWiClsQduymP8FHP8qPAr5bx2T+RvgTfhQvsjc38v7A727YPzwlMyzgetll8OEPZ7qHWlrceLF0dIS71gzDqA6WBRRB2IRU6kS1B5sBOJJlTGR9xvZqnqWfiChp+rn2KOzaixa5ujr+E39UnZ3OTrj66sw6P1dfXdrq5GrVUDIMIxyzACI47bTgp+VSJyq/Muda9mMjE0s61+bNhR9T6EKwfHV+iiGqgYxhGJXHLIAIwiakri63LqBYKlmZczhQrQYyhmGEYwoggrBsn4GB0tIVU5U5R4XuE7TwrF6oVh8FwzDCSUQBiMiZIrJcRAZFpLhUlypRqbTE1Krc8IT49JaQ9aYEohrIGIZReZKyAJ4AzgDuTuj6salUWmIhdXnK1RKyFPKVwyiGzk6YMyczED1nTnnjDIZh5CcRBaCqK1W1yBYh9UF6Zc445PONxz1NsQ1f/HIYq1eXzyrp7nZppL6CHRhwn+vN0jGMWqbmYwAiMk9ElorI0vXr1yctTg7f49M8xuE521KOhvvvDz2uUAWQzzd+3HHxzpHtconLggWpWkg+pVolH/lIbgxF1Y0bhlEdKpYGKiK3AXsHfLVAVX8X9zyq2gV0gasFVCbxysb7uYGdjOIxjsgYP53fwS23AG8IPK6dntgzcpRv/I474sm6Y0e8/bKpRMZOWJtHa/9oGNWjYgpAVWdV6ty1RDs9XM8HuJDvZYyvZV/2Xbs29Lg4FoCIe/JfuDC/b7zSxdOmTAnOhrKMHcMY3thCsJJQRrODnoAm68+xfwwFMDnv2UNbQlaZhQszS2KDZewYRj2QVBroe0RkLXA8cLOI3JqEHKXSRi/NDAYu5lrLfq53bwiFuICiKDa4G5fOTrfwLb0URKmN6mfOLGzcMIzyk4gFoKq/AX6TxLULZSa3MZVVQ5//wcHcw5uA1GKuIAtgLfvBv27mG3wx8Lz7sA5Gx4zeRhDXBTRhQvHXKHcpiNtug1mzMktlz5zpxg3DqA7mAsrH7t3cwmxaSC0G2M5oxrINkKF6PkEWwL2cyKeki89kxQZ8FIGjj4arSxczrLJmNmedVfq1ysnBB8Ndd7kU0OZm99kwjOpR82mgidLTQwsD/DdfYT+e4xt8kTHsYJRXwz+fBfAr3gs9PYxkd+A2il3wiU+URcygVbVB/Oxn0ftUC78tZfo6gEsvzd+b2DCM8mIKIB9eTuIL7M3z7MdqXA1ov5SzbwEEKYBqku2jD6PYNNBK0NVV2LhhGOXHFEA+du1yL4wE4GX2BGBPXgbI6wKqNp2drkdxrWQORWEdwQwjeUwB5CNCAeRzAfmEpfr745XIhgmzAiqdLWQYxvDCFEA+PAWwmxEAbGYPIJ4F4HfpipqMn3km+PuwccMwjHJhCiAfXgwg2wLwYwD5LIBx49xrUDP19PGw7J04WT1hhKWFVnrFcCFUqtWmYRjxMQWQjxJiANbZKj/WD8AwkqfhFcD550NLi3PJtLRkpSFmKYAtuMf6d/F7vsz/8G5+CwRbAOPHV1TsYU8lVhcbhlEYDb0QzM9F9/Fz0cFrmO65gPwYwAAt/JUjmMXtzMItYV1FB9sYW02xI5k5M3OFbfp4LVHu1cWGYRRGQ1sAkbnoWRYAwFEso5n+oe1V/IuBAD26aVO5pY3PbbflTvZWZsEwjGwa2gKIzEUPUAAgDBLdKDjpUsk22RuGEUXdWwD5etmGNXwfGs9KA41La2sqmBmVBtrWFvx92LhhGEa5qGsFENXLdt684OOGxrPSQOOSPulHpWReeWWukhBx44ZhGJWkrhVA3l62fX0s+vomLjxnExObNrEn7vX8cwdcABhCXECO5mY3UQdZEb29qX65UfnunZ1w7bWZ2TDXXmvBUcMwKk9dK4CwXPz1q3vg8MNhwgS+c9UE1g9OYBPudcH9b0/t6CmA5lGZLqD2drjmGld3J6z2jn/tOPnu6XV8Vq2yyd8wjOpQ1wrAn3h/yCfS8naa2cYYWLmSx9/zFS5qvYRP4rY7eAvtf3+Q7us8/8yuXdDczKU/acl4Qp8zxz3hNzW5LQg/CBwn3z1fnCIu5TiHYRiNRV1nAe10Zfu5lbcOreIFEODLP38t7/rcWazuI21cOZk7+Z9PrmfBl/fiP1fv5jxx7p9Vq9w+flzBdy0FZRIFPeGHPdVnn8+PU/jHxaG7G+bOda4n/xxz5xZ2DsMwGg/RWioQE8GMGTN06dKlsffPV/1S1T0tp9/+adzMzbyDk7mdBzmO7/EZ3ssv6WjfMPTUPnVqcJ2e5mbnwpkyxU3+cSfesPN1dKSUThQTJ8LGjbnjEybAhg3xzmEYRv0iIo+q6oyc8XpWAC0twU/ozc3Q3587+R7AMzzDQRn7rmYKU1k9NCFnKw0fkeJq8ZfjfFFlnpubnVUxFNw2DKOhCFMAde0Cmjcvs9RD+jjAaadlfv9PDuRDXMPevDA09ihHA6mg7pQpwU/sxS78Gj8++Om9nLWEckpcGIZhUOcKwJ/surpSjcfTn4QXL8495lo+FHguf4LPVho+p51WBoGLZMKEYCWSTVeXKQDDMFLUdRYQuAmvv9+5Wfr7MyfAuCWb04O6QUoj33gUYTWDCqkldMklbvVxFNZu0TCMdOpeAeQjzG0zYUJ42maY0ii2/n+YDIW4lDo74aqropvCh5W+MAyjMUlEAYjIt0XkSRF5XER+IyJ7JCFH2CKtSy4JX5hVzISdL0e/XI1R0heThZV9Pumkws5pGEZ9k5QFsAQ4TFVfB/wD+GISQhTTlKTQCTuqHlElGqNYn2HDMOKQiAJQ1T+rar/38UFgvyTkgMLLMBQ6YeetR1Qhyu2mMgyjPqmFGMBc4E9hX4rIPBFZKiJL169fX0WxUmS7cCC+0ohq+h5lIRRDOeIKhmHUPxVTACJym4g8EbCdnrbPAqAfCJ3uVLVLVWeo6oxJkyZVStxQSp2go3oOVMJCsIbrhmHEIbGVwCLyYeBcYKaq9kTsDhS+ErgclFqqodByFOnHFbOy2Ke72ymRNWsKL09hGEZ9UVMrgUVkNvA54M1xJ/+kKNWf3tERrkCg/CuLfazhumEYUSQVA/gRMBZYIiKPichlCckRSan+9Ch3jLlrDMNIiqSygA5U1f1V9QhvOy8JOeJQ6gQdlTVUiTRQwzCMONR1NdByYf50wzCGM2ExgFpIA615Sm3ZGNWty7p5GYaRBKYAiqCQCTsqjbQS6wAMwzDiYC6gAslu4QguJhDmt49KIy1HRzDDMIx8NGRHsEpQ6IQdledfqXUAhmEYPhYDKBOFrguISiO1sg2GYSSFKYACKXTCtnUAhmHUKqYACqTQCdvWARiGUatYDKAIbF2AYRjDiZqqBTTcsTo7hmHUA+YCMgzDaFBMARiGYTQopgAMwzAaFFMAhmEYDYopAMMwjAZlWKWBish6IKTN+rBlIrAhaSGqRKPcq91nfVEP99mhqjlN1YeVAqhHRGRpUH5uPdIo92r3WV/U832aC8gwDKNBMQVgGIbRoJgCSJ6upAWoIo1yr3af9UXd3qfFAAzDMBoUswAMwzAaFFMAhmEYDYopgBpARM4UkeUiMigidZduJiKzReQpEXlGRL6QtDyVQkSuFJGXROSJpGWpJCKyv4jcKSIrvH+3FyQtUyUQkZEi8rCI/M27z68mLVO5MQVQGzwBnAHcnbQg5UZEmoEfA28DpgHvF5FpyUpVMa4GZictRBXoBy5U1WnAccDH6/Rvuhs4WVUPB44AZovIccmKVF5MAdQAqrpSVZ9KWo4KcSzwjKo+q6q9wI3A6QnLVBFU9W5gU9JyVBpV/beqLvPebwNWAvsmK1X5Ucd272Ort9VV1owpAKPS7As8l/Z5LXU4WTQqIjIVOBJ4KGFRKoKINIvIY8BLwBJVrav7tI5gVUJEbgP2Dvhqgar+rtryGEapiMgY4FfAp1R1a9LyVAJVHQCOEJE9gN+IyGGqWjcxHlMAVUJVZyUtQ0I8D+yf9nk/b8wYxohIK27y71bVXyctT6VR1c0icicuxlM3CsBcQEaleQQ4SEReJSJtwPuA3ycsk1ECIiLAT4GVqvq9pOWpFCIyyXvyR0RGAacATyYqVJkxBVADiMh7RGQtcDxws4jcmrRM5UJV+4FPALfigoU3qeryZKWqDCJyA/AAcIiIrBWRjyQtU4U4ATgbOFlEHvO205IWqgJMBu4UkcdxDzJLVPWPCctUVqwUhGEYRoNiFoBhGEaDYgrAMAyjQTEFYBiG0aCYAjAMw2hQTAEYhmE0KKYAjLpERAbSUhQfK6UKqYjcXyaZDhGRuzx5VopIlzc+Q0R+UI5rGEYhWBqoUZeIyHZVHZO0HOl46zsW+aU/ROS1qvr3hMUyGhizAIyGQkRWichXRWSZiPxdRA71xieJyBKv7vsVIrJaRCZ63233Xk/ynuB/KSJPiki3tyoWETlaRP4iIo+KyK0iMjng8pNxxfAA8Cd/77x/9N4vTrNatojIHK8g2bdF5BEReVxEzq3sr2Q0CqYAjHplVJYL6P+kfbdBVY8CLgUu8sa+AtyhqtOBXwJTQs57JPApXG+DVwMneHVxfgi8V1WPBq4EFgYc+33gDhH5k4h82i8zkI6qnqaqRwAfAVYDv/Xeb1HVY4BjgI+JyKti/g6GEYoVgzPqlZ3eRBqEX7zsUVwjHoATgfcAqOotIvJyyLEPq+paAK9M8FRgM3AYsMQzCJqBf2cfqKpXeW6g2bieCOeKyOHZ+3mWx7XAWaq6RUROBV4nIu/1dhkHHAT8K0RGw4iFKQCjEdntvQ5Q+P+B3Wnv/eMFWK6qx0cdrKrrcBbClV7ryMPSv/c6qN0IfC2t7LAA/6mqdVMjyqgNzAVkGI77gLMAvCfuPQs49ilgkogc7x3fKiLTs3cS1xu51Xu/NzCB3NLYFwOPq+qNaWO3AvPTjj1YREYXIJ9hBGIWgFGvjPJcND63qGq+VNCvAjeIyNm4ip4vANviXEhVez33zA9EZBzu/9X/A7Krnp4KXCIiu7zPn1XVF/xAtMdFwPI02f8LuALnalrmBZ3XA++OI5th5MPSQA0DEJERwICq9ntP8pfmiSEYRl1gFoBhOKYAN4lIE9ALfCxheQyj4pgFYBiG0aBYENgwDKNBMQVgGIbRoJgCMAzDaFBMARiGYTQopgAMwzAalP8PExr0cl1h43kAAAAASUVORK5CYII=",
      "text/plain": [
       "<Figure size 432x288 with 1 Axes>"
      ]
     },
     "metadata": {
      "needs_background": "light"
     },
     "output_type": "display_data"
    }
   ],
   "source": [
    "# Visualising the Decision Tree Regression results (higher resolution)\n",
    "X_grid = np.arange(min(X), max(X), 0.01)\n",
    "X_grid = X_grid.reshape((len(X_grid), 1))\n",
    "plt.scatter(X, y, color = 'blue')\n",
    "plt.plot(X_grid, regressor.predict(X_grid), color = 'red')\n",
    "plt.title('Emission Dataset')\n",
    "plt.xlabel('Engine Size')\n",
    "plt.ylabel('Emission')\n",
    "plt.show()"
   ]
  },
  {
   "cell_type": "markdown",
   "metadata": {
    "id": "xucLu7b-CCbE"
   },
   "source": [
    "Visualisasi Hasil dalam nilai asalnya:"
   ]
  },
  {
   "cell_type": "code",
   "execution_count": 19,
   "metadata": {
    "id": "0WZ625N9AcoL"
   },
   "outputs": [
    {
     "data": {
      "image/png": "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",
      "text/plain": [
       "<Figure size 432x288 with 1 Axes>"
      ]
     },
     "metadata": {
      "needs_background": "light"
     },
     "output_type": "display_data"
    }
   ],
   "source": [
    "# Visualising the Decision Tree Regression results (higher resolution)\n",
    "X_grid = np.arange(min(X), max(X), 0.01)\n",
    "X_grid = X_grid.reshape((len(X_grid), 1))\n",
    "plt.scatter(sc_X.inverse_transform(X), sc_y.inverse_transform(y).reshape(-1,1), color = 'blue')\n",
    "plt.plot(sc_X.inverse_transform(X_grid), sc_y.inverse_transform(regressor.predict(X_grid).reshape(-1,1)), color = 'red')\n",
    "plt.title('Emission Dataset')\n",
    "plt.xlabel('Engine Size')\n",
    "plt.ylabel('Emission')\n",
    "plt.show()"
   ]
  },
  {
   "cell_type": "markdown",
   "metadata": {
    "id": "UJN8XBp9CPK8"
   },
   "source": [
    "Visualisasi Tree (dengan nilai yang discaling):"
   ]
  },
  {
   "cell_type": "code",
   "execution_count": 20,
   "metadata": {
    "id": "YQMEf47gCRkY"
   },
   "outputs": [
    {
     "data": {
      "image/svg+xml": "<?xml version=\"1.0\" encoding=\"UTF-8\" standalone=\"no\"?>\n<!DOCTYPE svg PUBLIC \"-//W3C//DTD SVG 1.1//EN\"\n \"http://www.w3.org/Graphics/SVG/1.1/DTD/svg11.dtd\">\n<!-- Generated by graphviz version 2.43.0 (0)\n -->\n<!-- Title: Tree Pages: 1 -->\n<svg width=\"5127pt\" height=\"893pt\"\n viewBox=\"0.00 0.00 5126.50 893.00\" xmlns=\"http://www.w3.org/2000/svg\" xmlns:xlink=\"http://www.w3.org/1999/xlink\">\n<g id=\"graph0\" class=\"graph\" transform=\"scale(1 1) rotate(0) translate(4 889)\">\n<title>Tree</title>\n<polygon fill=\"white\" stroke=\"transparent\" points=\"-4,4 -4,-889 5122.5,-889 5122.5,4 -4,4\"/>\n<!-- 0 -->\n<g id=\"node1\" class=\"node\">\n<title>0</title>\n<polygon fill=\"#f6d2b9\" stroke=\"black\" points=\"2851.5,-885 2680.5,-885 2680.5,-817 2851.5,-817 2851.5,-885\"/>\n<text text-anchor=\"middle\" x=\"2766\" y=\"-869.8\" font-family=\"Helvetica,sans-Serif\" font-size=\"14.00\">Engine Size &lt;= 0.391</text>\n<text text-anchor=\"middle\" x=\"2766\" y=\"-854.8\" font-family=\"Helvetica,sans-Serif\" font-size=\"14.00\">squared_error = 1.0</text>\n<text text-anchor=\"middle\" x=\"2766\" y=\"-839.8\" font-family=\"Helvetica,sans-Serif\" font-size=\"14.00\">samples = 1067</text>\n<text text-anchor=\"middle\" x=\"2766\" y=\"-824.8\" font-family=\"Helvetica,sans-Serif\" font-size=\"14.00\">value = &#45;0.0</text>\n</g>\n<!-- 1 -->\n<g id=\"node2\" class=\"node\">\n<title>1</title>\n<polygon fill=\"#f8decc\" stroke=\"black\" points=\"2186,-781 2010,-781 2010,-713 2186,-713 2186,-781\"/>\n<text text-anchor=\"middle\" x=\"2098\" y=\"-765.8\" font-family=\"Helvetica,sans-Serif\" font-size=\"14.00\">Engine Size &lt;= &#45;0.527</text>\n<text text-anchor=\"middle\" x=\"2098\" y=\"-750.8\" font-family=\"Helvetica,sans-Serif\" font-size=\"14.00\">squared_error = 0.399</text>\n<text text-anchor=\"middle\" x=\"2098\" y=\"-735.8\" font-family=\"Helvetica,sans-Serif\" font-size=\"14.00\">samples = 767</text>\n<text text-anchor=\"middle\" x=\"2098\" y=\"-720.8\" font-family=\"Helvetica,sans-Serif\" font-size=\"14.00\">value = &#45;0.479</text>\n</g>\n<!-- 0&#45;&gt;1 -->\n<g id=\"edge1\" class=\"edge\">\n<title>0&#45;&gt;1</title>\n<path fill=\"none\" stroke=\"black\" d=\"M2680.38,-836.93C2556.26,-817.97 2326.93,-782.96 2196.14,-762.99\"/>\n<polygon fill=\"black\" stroke=\"black\" points=\"2196.53,-759.51 2186.12,-761.46 2195.48,-766.42 2196.53,-759.51\"/>\n<text text-anchor=\"middle\" x=\"2200.93\" y=\"-777.9\" font-family=\"Helvetica,sans-Serif\" font-size=\"14.00\">True</text>\n</g>\n<!-- 40 -->\n<g id=\"node41\" class=\"node\">\n<title>40</title>\n<polygon fill=\"#efb489\" stroke=\"black\" points=\"3377,-781 3203,-781 3203,-713 3377,-713 3377,-781\"/>\n<text text-anchor=\"middle\" x=\"3290\" y=\"-765.8\" font-family=\"Helvetica,sans-Serif\" font-size=\"14.00\">Engine Size &lt;= 1.769</text>\n<text text-anchor=\"middle\" x=\"3290\" y=\"-750.8\" font-family=\"Helvetica,sans-Serif\" font-size=\"14.00\">squared_error = 0.448</text>\n<text text-anchor=\"middle\" x=\"3290\" y=\"-735.8\" font-family=\"Helvetica,sans-Serif\" font-size=\"14.00\">samples = 300</text>\n<text text-anchor=\"middle\" x=\"3290\" y=\"-720.8\" font-family=\"Helvetica,sans-Serif\" font-size=\"14.00\">value = 1.225</text>\n</g>\n<!-- 0&#45;&gt;40 -->\n<g id=\"edge40\" class=\"edge\">\n<title>0&#45;&gt;40</title>\n<path fill=\"none\" stroke=\"black\" d=\"M2851.65,-833.33C2945.21,-815.12 3094.77,-786 3192.7,-766.94\"/>\n<polygon fill=\"black\" stroke=\"black\" points=\"3193.45,-770.36 3202.6,-765.01 3192.11,-763.49 3193.45,-770.36\"/>\n<text text-anchor=\"middle\" x=\"3188.62\" y=\"-782.04\" font-family=\"Helvetica,sans-Serif\" font-size=\"14.00\">False</text>\n</g>\n<!-- 2 -->\n<g id=\"node3\" class=\"node\">\n<title>2</title>\n<polygon fill=\"#fae8db\" stroke=\"black\" points=\"1198,-677 1022,-677 1022,-609 1198,-609 1198,-677\"/>\n<text text-anchor=\"middle\" x=\"1110\" y=\"-661.8\" font-family=\"Helvetica,sans-Serif\" font-size=\"14.00\">Engine Size &lt;= &#45;1.022</text>\n<text text-anchor=\"middle\" x=\"1110\" y=\"-646.8\" font-family=\"Helvetica,sans-Serif\" font-size=\"14.00\">squared_error = 0.216</text>\n<text text-anchor=\"middle\" x=\"1110\" y=\"-631.8\" font-family=\"Helvetica,sans-Serif\" font-size=\"14.00\">samples = 429</text>\n<text text-anchor=\"middle\" x=\"1110\" y=\"-616.8\" font-family=\"Helvetica,sans-Serif\" font-size=\"14.00\">value = &#45;0.88</text>\n</g>\n<!-- 1&#45;&gt;2 -->\n<g id=\"edge2\" class=\"edge\">\n<title>1&#45;&gt;2</title>\n<path fill=\"none\" stroke=\"black\" d=\"M2009.89,-736.9C1825.66,-717.88 1400.88,-674.03 1208.21,-654.14\"/>\n<polygon fill=\"black\" stroke=\"black\" points=\"1208.4,-650.64 1198.09,-653.09 1207.68,-657.6 1208.4,-650.64\"/>\n</g>\n<!-- 23 -->\n<g id=\"node24\" class=\"node\">\n<title>23</title>\n<polygon fill=\"#f6d2b8\" stroke=\"black\" points=\"2185,-677 2011,-677 2011,-609 2185,-609 2185,-677\"/>\n<text text-anchor=\"middle\" x=\"2098\" y=\"-661.8\" font-family=\"Helvetica,sans-Serif\" font-size=\"14.00\">Engine Size &lt;= 0.144</text>\n<text text-anchor=\"middle\" x=\"2098\" y=\"-646.8\" font-family=\"Helvetica,sans-Serif\" font-size=\"14.00\">squared_error = 0.168</text>\n<text text-anchor=\"middle\" x=\"2098\" y=\"-631.8\" font-family=\"Helvetica,sans-Serif\" font-size=\"14.00\">samples = 338</text>\n<text text-anchor=\"middle\" x=\"2098\" y=\"-616.8\" font-family=\"Helvetica,sans-Serif\" font-size=\"14.00\">value = 0.029</text>\n</g>\n<!-- 1&#45;&gt;23 -->\n<g id=\"edge23\" class=\"edge\">\n<title>1&#45;&gt;23</title>\n<path fill=\"none\" stroke=\"black\" d=\"M2098,-712.88C2098,-704.78 2098,-695.98 2098,-687.47\"/>\n<polygon fill=\"black\" stroke=\"black\" points=\"2101.5,-687.3 2098,-677.3 2094.5,-687.3 2101.5,-687.3\"/>\n</g>\n<!-- 3 -->\n<g id=\"node4\" class=\"node\">\n<title>3</title>\n<polygon fill=\"#fcf0e7\" stroke=\"black\" points=\"912,-573 736,-573 736,-505 912,-505 912,-573\"/>\n<text text-anchor=\"middle\" x=\"824\" y=\"-557.8\" font-family=\"Helvetica,sans-Serif\" font-size=\"14.00\">Engine Size &lt;= &#45;1.411</text>\n<text text-anchor=\"middle\" x=\"824\" y=\"-542.8\" font-family=\"Helvetica,sans-Serif\" font-size=\"14.00\">squared_error = 0.112</text>\n<text text-anchor=\"middle\" x=\"824\" y=\"-527.8\" font-family=\"Helvetica,sans-Serif\" font-size=\"14.00\">samples = 152</text>\n<text text-anchor=\"middle\" x=\"824\" y=\"-512.8\" font-family=\"Helvetica,sans-Serif\" font-size=\"14.00\">value = &#45;1.176</text>\n</g>\n<!-- 2&#45;&gt;3 -->\n<g id=\"edge3\" class=\"edge\">\n<title>2&#45;&gt;3</title>\n<path fill=\"none\" stroke=\"black\" d=\"M1021.86,-610.56C990.19,-599.27 954.29,-586.47 921.84,-574.9\"/>\n<polygon fill=\"black\" stroke=\"black\" points=\"922.94,-571.57 912.34,-571.51 920.59,-578.16 922.94,-571.57\"/>\n</g>\n<!-- 16 -->\n<g id=\"node17\" class=\"node\">\n<title>16</title>\n<polygon fill=\"#f9e4d5\" stroke=\"black\" points=\"1198,-573 1022,-573 1022,-505 1198,-505 1198,-573\"/>\n<text text-anchor=\"middle\" x=\"1110\" y=\"-557.8\" font-family=\"Helvetica,sans-Serif\" font-size=\"14.00\">Engine Size &lt;= &#45;0.916</text>\n<text text-anchor=\"middle\" x=\"1110\" y=\"-542.8\" font-family=\"Helvetica,sans-Serif\" font-size=\"14.00\">squared_error = 0.199</text>\n<text text-anchor=\"middle\" x=\"1110\" y=\"-527.8\" font-family=\"Helvetica,sans-Serif\" font-size=\"14.00\">samples = 277</text>\n<text text-anchor=\"middle\" x=\"1110\" y=\"-512.8\" font-family=\"Helvetica,sans-Serif\" font-size=\"14.00\">value = &#45;0.717</text>\n</g>\n<!-- 2&#45;&gt;16 -->\n<g id=\"edge16\" class=\"edge\">\n<title>2&#45;&gt;16</title>\n<path fill=\"none\" stroke=\"black\" d=\"M1110,-608.88C1110,-600.78 1110,-591.98 1110,-583.47\"/>\n<polygon fill=\"black\" stroke=\"black\" points=\"1113.5,-583.3 1110,-573.3 1106.5,-583.3 1113.5,-583.3\"/>\n</g>\n<!-- 4 -->\n<g id=\"node5\" class=\"node\">\n<title>4</title>\n<polygon fill=\"#fffdfb\" stroke=\"black\" points=\"556,-469 380,-469 380,-401 556,-401 556,-469\"/>\n<text text-anchor=\"middle\" x=\"468\" y=\"-453.8\" font-family=\"Helvetica,sans-Serif\" font-size=\"14.00\">Engine Size &lt;= &#45;1.481</text>\n<text text-anchor=\"middle\" x=\"468\" y=\"-438.8\" font-family=\"Helvetica,sans-Serif\" font-size=\"14.00\">squared_error = 0.012</text>\n<text text-anchor=\"middle\" x=\"468\" y=\"-423.8\" font-family=\"Helvetica,sans-Serif\" font-size=\"14.00\">samples = 8</text>\n<text text-anchor=\"middle\" x=\"468\" y=\"-408.8\" font-family=\"Helvetica,sans-Serif\" font-size=\"14.00\">value = &#45;1.693</text>\n</g>\n<!-- 3&#45;&gt;4 -->\n<g id=\"edge4\" class=\"edge\">\n<title>3&#45;&gt;4</title>\n<path fill=\"none\" stroke=\"black\" d=\"M736,-512.79C684.44,-498.01 619.21,-479.32 566.01,-464.08\"/>\n<polygon fill=\"black\" stroke=\"black\" points=\"566.8,-460.67 556.22,-461.28 564.87,-467.4 566.8,-460.67\"/>\n</g>\n<!-- 9 -->\n<g id=\"node10\" class=\"node\">\n<title>9</title>\n<polygon fill=\"#fcefe6\" stroke=\"black\" points=\"912,-469 736,-469 736,-401 912,-401 912,-469\"/>\n<text text-anchor=\"middle\" x=\"824\" y=\"-453.8\" font-family=\"Helvetica,sans-Serif\" font-size=\"14.00\">Engine Size &lt;= &#45;1.269</text>\n<text text-anchor=\"middle\" x=\"824\" y=\"-438.8\" font-family=\"Helvetica,sans-Serif\" font-size=\"14.00\">squared_error = 0.102</text>\n<text text-anchor=\"middle\" x=\"824\" y=\"-423.8\" font-family=\"Helvetica,sans-Serif\" font-size=\"14.00\">samples = 144</text>\n<text text-anchor=\"middle\" x=\"824\" y=\"-408.8\" font-family=\"Helvetica,sans-Serif\" font-size=\"14.00\">value = &#45;1.147</text>\n</g>\n<!-- 3&#45;&gt;9 -->\n<g id=\"edge9\" class=\"edge\">\n<title>3&#45;&gt;9</title>\n<path fill=\"none\" stroke=\"black\" d=\"M824,-504.88C824,-496.78 824,-487.98 824,-479.47\"/>\n<polygon fill=\"black\" stroke=\"black\" points=\"827.5,-479.3 824,-469.3 820.5,-479.3 827.5,-479.3\"/>\n</g>\n<!-- 5 -->\n<g id=\"node6\" class=\"node\">\n<title>5</title>\n<polygon fill=\"#fefcfb\" stroke=\"black\" points=\"367,-365 191,-365 191,-297 367,-297 367,-365\"/>\n<text text-anchor=\"middle\" x=\"279\" y=\"-349.8\" font-family=\"Helvetica,sans-Serif\" font-size=\"14.00\">Engine Size &lt;= &#45;1.587</text>\n<text text-anchor=\"middle\" x=\"279\" y=\"-334.8\" font-family=\"Helvetica,sans-Serif\" font-size=\"14.00\">squared_error = 0.012</text>\n<text text-anchor=\"middle\" x=\"279\" y=\"-319.8\" font-family=\"Helvetica,sans-Serif\" font-size=\"14.00\">samples = 7</text>\n<text text-anchor=\"middle\" x=\"279\" y=\"-304.8\" font-family=\"Helvetica,sans-Serif\" font-size=\"14.00\">value = &#45;1.679</text>\n</g>\n<!-- 4&#45;&gt;5 -->\n<g id=\"edge5\" class=\"edge\">\n<title>4&#45;&gt;5</title>\n<path fill=\"none\" stroke=\"black\" d=\"M406.64,-400.88C388.31,-390.99 368.07,-380.07 349.22,-369.9\"/>\n<polygon fill=\"black\" stroke=\"black\" points=\"350.84,-366.79 340.38,-365.12 347.52,-372.95 350.84,-366.79\"/>\n</g>\n<!-- 8 -->\n<g id=\"node9\" class=\"node\">\n<title>8</title>\n<polygon fill=\"#ffffff\" stroke=\"black\" points=\"546,-357.5 390,-357.5 390,-304.5 546,-304.5 546,-357.5\"/>\n<text text-anchor=\"middle\" x=\"468\" y=\"-342.3\" font-family=\"Helvetica,sans-Serif\" font-size=\"14.00\">squared_error = 0.0</text>\n<text text-anchor=\"middle\" x=\"468\" y=\"-327.3\" font-family=\"Helvetica,sans-Serif\" font-size=\"14.00\">samples = 1</text>\n<text text-anchor=\"middle\" x=\"468\" y=\"-312.3\" font-family=\"Helvetica,sans-Serif\" font-size=\"14.00\">value = &#45;1.788</text>\n</g>\n<!-- 4&#45;&gt;8 -->\n<g id=\"edge8\" class=\"edge\">\n<title>4&#45;&gt;8</title>\n<path fill=\"none\" stroke=\"black\" d=\"M468,-400.88C468,-390.33 468,-378.6 468,-367.85\"/>\n<polygon fill=\"black\" stroke=\"black\" points=\"471.5,-367.52 468,-357.52 464.5,-367.52 471.5,-367.52\"/>\n</g>\n<!-- 6 -->\n<g id=\"node7\" class=\"node\">\n<title>6</title>\n<polygon fill=\"#fffdfb\" stroke=\"black\" points=\"174,-253.5 0,-253.5 0,-200.5 174,-200.5 174,-253.5\"/>\n<text text-anchor=\"middle\" x=\"87\" y=\"-238.3\" font-family=\"Helvetica,sans-Serif\" font-size=\"14.00\">squared_error = 0.001</text>\n<text text-anchor=\"middle\" x=\"87\" y=\"-223.3\" font-family=\"Helvetica,sans-Serif\" font-size=\"14.00\">samples = 3</text>\n<text text-anchor=\"middle\" x=\"87\" y=\"-208.3\" font-family=\"Helvetica,sans-Serif\" font-size=\"14.00\">value = &#45;1.698</text>\n</g>\n<!-- 5&#45;&gt;6 -->\n<g id=\"edge6\" class=\"edge\">\n<title>5&#45;&gt;6</title>\n<path fill=\"none\" stroke=\"black\" d=\"M216.66,-296.88C193.27,-284.46 166.82,-270.41 143.94,-258.25\"/>\n<polygon fill=\"black\" stroke=\"black\" points=\"145.51,-255.12 135.04,-253.52 142.23,-261.3 145.51,-255.12\"/>\n</g>\n<!-- 7 -->\n<g id=\"node8\" class=\"node\">\n<title>7</title>\n<polygon fill=\"#fefcfa\" stroke=\"black\" points=\"366,-253.5 192,-253.5 192,-200.5 366,-200.5 366,-253.5\"/>\n<text text-anchor=\"middle\" x=\"279\" y=\"-238.3\" font-family=\"Helvetica,sans-Serif\" font-size=\"14.00\">squared_error = 0.019</text>\n<text text-anchor=\"middle\" x=\"279\" y=\"-223.3\" font-family=\"Helvetica,sans-Serif\" font-size=\"14.00\">samples = 4</text>\n<text text-anchor=\"middle\" x=\"279\" y=\"-208.3\" font-family=\"Helvetica,sans-Serif\" font-size=\"14.00\">value = &#45;1.665</text>\n</g>\n<!-- 5&#45;&gt;7 -->\n<g id=\"edge7\" class=\"edge\">\n<title>5&#45;&gt;7</title>\n<path fill=\"none\" stroke=\"black\" d=\"M279,-296.88C279,-286.33 279,-274.6 279,-263.85\"/>\n<polygon fill=\"black\" stroke=\"black\" points=\"282.5,-263.52 279,-253.52 275.5,-263.52 282.5,-263.52\"/>\n</g>\n<!-- 10 -->\n<g id=\"node11\" class=\"node\">\n<title>10</title>\n<polygon fill=\"#fcf2eb\" stroke=\"black\" points=\"744,-365 570,-365 570,-297 744,-297 744,-365\"/>\n<text text-anchor=\"middle\" x=\"657\" y=\"-349.8\" font-family=\"Helvetica,sans-Serif\" font-size=\"14.00\">Engine Size &lt;= &#45;1.34</text>\n<text text-anchor=\"middle\" x=\"657\" y=\"-334.8\" font-family=\"Helvetica,sans-Serif\" font-size=\"14.00\">squared_error = 0.098</text>\n<text text-anchor=\"middle\" x=\"657\" y=\"-319.8\" font-family=\"Helvetica,sans-Serif\" font-size=\"14.00\">samples = 42</text>\n<text text-anchor=\"middle\" x=\"657\" y=\"-304.8\" font-family=\"Helvetica,sans-Serif\" font-size=\"14.00\">value = &#45;1.277</text>\n</g>\n<!-- 9&#45;&gt;10 -->\n<g id=\"edge10\" class=\"edge\">\n<title>9&#45;&gt;10</title>\n<path fill=\"none\" stroke=\"black\" d=\"M769.78,-400.88C753.95,-391.21 736.51,-380.56 720.18,-370.59\"/>\n<polygon fill=\"black\" stroke=\"black\" points=\"721.59,-367.35 711.23,-365.12 717.94,-373.32 721.59,-367.35\"/>\n</g>\n<!-- 13 -->\n<g id=\"node14\" class=\"node\">\n<title>13</title>\n<polygon fill=\"#fbeee4\" stroke=\"black\" points=\"938,-365 762,-365 762,-297 938,-297 938,-365\"/>\n<text text-anchor=\"middle\" x=\"850\" y=\"-349.8\" font-family=\"Helvetica,sans-Serif\" font-size=\"14.00\">Engine Size &lt;= &#45;1.163</text>\n<text text-anchor=\"middle\" x=\"850\" y=\"-334.8\" font-family=\"Helvetica,sans-Serif\" font-size=\"14.00\">squared_error = 0.094</text>\n<text text-anchor=\"middle\" x=\"850\" y=\"-319.8\" font-family=\"Helvetica,sans-Serif\" font-size=\"14.00\">samples = 102</text>\n<text text-anchor=\"middle\" x=\"850\" y=\"-304.8\" font-family=\"Helvetica,sans-Serif\" font-size=\"14.00\">value = &#45;1.094</text>\n</g>\n<!-- 9&#45;&gt;13 -->\n<g id=\"edge13\" class=\"edge\">\n<title>9&#45;&gt;13</title>\n<path fill=\"none\" stroke=\"black\" d=\"M832.44,-400.88C834.53,-392.69 836.8,-383.79 838.99,-375.19\"/>\n<polygon fill=\"black\" stroke=\"black\" points=\"842.43,-375.85 841.51,-365.3 835.65,-374.12 842.43,-375.85\"/>\n</g>\n<!-- 11 -->\n<g id=\"node12\" class=\"node\">\n<title>11</title>\n<polygon fill=\"#fcf0e8\" stroke=\"black\" points=\"558,-253.5 384,-253.5 384,-200.5 558,-200.5 558,-253.5\"/>\n<text text-anchor=\"middle\" x=\"471\" y=\"-238.3\" font-family=\"Helvetica,sans-Serif\" font-size=\"14.00\">squared_error = 0.064</text>\n<text text-anchor=\"middle\" x=\"471\" y=\"-223.3\" font-family=\"Helvetica,sans-Serif\" font-size=\"14.00\">samples = 30</text>\n<text text-anchor=\"middle\" x=\"471\" y=\"-208.3\" font-family=\"Helvetica,sans-Serif\" font-size=\"14.00\">value = &#45;1.2</text>\n</g>\n<!-- 10&#45;&gt;11 -->\n<g id=\"edge11\" class=\"edge\">\n<title>10&#45;&gt;11</title>\n<path fill=\"none\" stroke=\"black\" d=\"M596.61,-296.88C574.05,-284.51 548.56,-270.53 526.46,-258.41\"/>\n<polygon fill=\"black\" stroke=\"black\" points=\"527.99,-255.26 517.54,-253.52 524.62,-261.4 527.99,-255.26\"/>\n</g>\n<!-- 12 -->\n<g id=\"node13\" class=\"node\">\n<title>12</title>\n<polygon fill=\"#fdf7f3\" stroke=\"black\" points=\"741.5,-253.5 576.5,-253.5 576.5,-200.5 741.5,-200.5 741.5,-253.5\"/>\n<text text-anchor=\"middle\" x=\"659\" y=\"-238.3\" font-family=\"Helvetica,sans-Serif\" font-size=\"14.00\">squared_error = 0.13</text>\n<text text-anchor=\"middle\" x=\"659\" y=\"-223.3\" font-family=\"Helvetica,sans-Serif\" font-size=\"14.00\">samples = 12</text>\n<text text-anchor=\"middle\" x=\"659\" y=\"-208.3\" font-family=\"Helvetica,sans-Serif\" font-size=\"14.00\">value = &#45;1.471</text>\n</g>\n<!-- 10&#45;&gt;12 -->\n<g id=\"edge12\" class=\"edge\">\n<title>10&#45;&gt;12</title>\n<path fill=\"none\" stroke=\"black\" d=\"M657.65,-296.88C657.86,-286.22 658.09,-274.35 658.3,-263.52\"/>\n<polygon fill=\"black\" stroke=\"black\" points=\"661.8,-263.59 658.5,-253.52 654.8,-263.45 661.8,-263.59\"/>\n</g>\n<!-- 14 -->\n<g id=\"node15\" class=\"node\">\n<title>14</title>\n<polygon fill=\"#fbece1\" stroke=\"black\" points=\"934,-253.5 760,-253.5 760,-200.5 934,-200.5 934,-253.5\"/>\n<text text-anchor=\"middle\" x=\"847\" y=\"-238.3\" font-family=\"Helvetica,sans-Serif\" font-size=\"14.00\">squared_error = 0.061</text>\n<text text-anchor=\"middle\" x=\"847\" y=\"-223.3\" font-family=\"Helvetica,sans-Serif\" font-size=\"14.00\">samples = 65</text>\n<text text-anchor=\"middle\" x=\"847\" y=\"-208.3\" font-family=\"Helvetica,sans-Serif\" font-size=\"14.00\">value = &#45;1.036</text>\n</g>\n<!-- 13&#45;&gt;14 -->\n<g id=\"edge14\" class=\"edge\">\n<title>13&#45;&gt;14</title>\n<path fill=\"none\" stroke=\"black\" d=\"M849.03,-296.88C848.71,-286.22 848.36,-274.35 848.04,-263.52\"/>\n<polygon fill=\"black\" stroke=\"black\" points=\"851.54,-263.41 847.75,-253.52 844.55,-263.62 851.54,-263.41\"/>\n</g>\n<!-- 15 -->\n<g id=\"node16\" class=\"node\">\n<title>15</title>\n<polygon fill=\"#fcf0e8\" stroke=\"black\" points=\"1126,-253.5 952,-253.5 952,-200.5 1126,-200.5 1126,-253.5\"/>\n<text text-anchor=\"middle\" x=\"1039\" y=\"-238.3\" font-family=\"Helvetica,sans-Serif\" font-size=\"14.00\">squared_error = 0.135</text>\n<text text-anchor=\"middle\" x=\"1039\" y=\"-223.3\" font-family=\"Helvetica,sans-Serif\" font-size=\"14.00\">samples = 37</text>\n<text text-anchor=\"middle\" x=\"1039\" y=\"-208.3\" font-family=\"Helvetica,sans-Serif\" font-size=\"14.00\">value = &#45;1.196</text>\n</g>\n<!-- 13&#45;&gt;15 -->\n<g id=\"edge15\" class=\"edge\">\n<title>13&#45;&gt;15</title>\n<path fill=\"none\" stroke=\"black\" d=\"M911.36,-296.88C934.29,-284.51 960.19,-270.53 982.65,-258.41\"/>\n<polygon fill=\"black\" stroke=\"black\" points=\"984.58,-261.35 991.71,-253.52 981.25,-255.19 984.58,-261.35\"/>\n</g>\n<!-- 17 -->\n<g id=\"node18\" class=\"node\">\n<title>17</title>\n<polygon fill=\"#fae6d7\" stroke=\"black\" points=\"1151,-461.5 977,-461.5 977,-408.5 1151,-408.5 1151,-461.5\"/>\n<text text-anchor=\"middle\" x=\"1064\" y=\"-446.3\" font-family=\"Helvetica,sans-Serif\" font-size=\"14.00\">squared_error = 0.188</text>\n<text text-anchor=\"middle\" x=\"1064\" y=\"-431.3\" font-family=\"Helvetica,sans-Serif\" font-size=\"14.00\">samples = 158</text>\n<text text-anchor=\"middle\" x=\"1064\" y=\"-416.3\" font-family=\"Helvetica,sans-Serif\" font-size=\"14.00\">value = &#45;0.774</text>\n</g>\n<!-- 16&#45;&gt;17 -->\n<g id=\"edge17\" class=\"edge\">\n<title>16&#45;&gt;17</title>\n<path fill=\"none\" stroke=\"black\" d=\"M1095.07,-504.88C1090.15,-494 1084.68,-481.86 1079.72,-470.85\"/>\n<polygon fill=\"black\" stroke=\"black\" points=\"1082.81,-469.2 1075.51,-461.52 1076.43,-472.07 1082.81,-469.2\"/>\n</g>\n<!-- 18 -->\n<g id=\"node19\" class=\"node\">\n<title>18</title>\n<polygon fill=\"#f9e2d2\" stroke=\"black\" points=\"1345,-469 1169,-469 1169,-401 1345,-401 1345,-469\"/>\n<text text-anchor=\"middle\" x=\"1257\" y=\"-453.8\" font-family=\"Helvetica,sans-Serif\" font-size=\"14.00\">Engine Size &lt;= &#45;0.633</text>\n<text text-anchor=\"middle\" x=\"1257\" y=\"-438.8\" font-family=\"Helvetica,sans-Serif\" font-size=\"14.00\">squared_error = 0.204</text>\n<text text-anchor=\"middle\" x=\"1257\" y=\"-423.8\" font-family=\"Helvetica,sans-Serif\" font-size=\"14.00\">samples = 119</text>\n<text text-anchor=\"middle\" x=\"1257\" y=\"-408.8\" font-family=\"Helvetica,sans-Serif\" font-size=\"14.00\">value = &#45;0.642</text>\n</g>\n<!-- 16&#45;&gt;18 -->\n<g id=\"edge18\" class=\"edge\">\n<title>16&#45;&gt;18</title>\n<path fill=\"none\" stroke=\"black\" d=\"M1157.73,-504.88C1171.53,-495.3 1186.73,-484.76 1200.99,-474.86\"/>\n<polygon fill=\"black\" stroke=\"black\" points=\"1203.04,-477.7 1209.26,-469.12 1199.05,-471.95 1203.04,-477.7\"/>\n</g>\n<!-- 19 -->\n<g id=\"node20\" class=\"node\">\n<title>19</title>\n<polygon fill=\"#f9e1cf\" stroke=\"black\" points=\"1319,-365 1143,-365 1143,-297 1319,-297 1319,-365\"/>\n<text text-anchor=\"middle\" x=\"1231\" y=\"-349.8\" font-family=\"Helvetica,sans-Serif\" font-size=\"14.00\">Engine Size &lt;= &#45;0.775</text>\n<text text-anchor=\"middle\" x=\"1231\" y=\"-334.8\" font-family=\"Helvetica,sans-Serif\" font-size=\"14.00\">squared_error = 0.136</text>\n<text text-anchor=\"middle\" x=\"1231\" y=\"-319.8\" font-family=\"Helvetica,sans-Serif\" font-size=\"14.00\">samples = 63</text>\n<text text-anchor=\"middle\" x=\"1231\" y=\"-304.8\" font-family=\"Helvetica,sans-Serif\" font-size=\"14.00\">value = &#45;0.57</text>\n</g>\n<!-- 18&#45;&gt;19 -->\n<g id=\"edge19\" class=\"edge\">\n<title>18&#45;&gt;19</title>\n<path fill=\"none\" stroke=\"black\" d=\"M1248.56,-400.88C1246.47,-392.69 1244.2,-383.79 1242.01,-375.19\"/>\n<polygon fill=\"black\" stroke=\"black\" points=\"1245.35,-374.12 1239.49,-365.3 1238.57,-375.85 1245.35,-374.12\"/>\n</g>\n<!-- 22 -->\n<g id=\"node23\" class=\"node\">\n<title>22</title>\n<polygon fill=\"#fae4d5\" stroke=\"black\" points=\"1511,-357.5 1337,-357.5 1337,-304.5 1511,-304.5 1511,-357.5\"/>\n<text text-anchor=\"middle\" x=\"1424\" y=\"-342.3\" font-family=\"Helvetica,sans-Serif\" font-size=\"14.00\">squared_error = 0.268</text>\n<text text-anchor=\"middle\" x=\"1424\" y=\"-327.3\" font-family=\"Helvetica,sans-Serif\" font-size=\"14.00\">samples = 56</text>\n<text text-anchor=\"middle\" x=\"1424\" y=\"-312.3\" font-family=\"Helvetica,sans-Serif\" font-size=\"14.00\">value = &#45;0.722</text>\n</g>\n<!-- 18&#45;&gt;22 -->\n<g id=\"edge22\" class=\"edge\">\n<title>18&#45;&gt;22</title>\n<path fill=\"none\" stroke=\"black\" d=\"M1311.22,-400.88C1331.3,-388.62 1353.96,-374.78 1373.68,-362.74\"/>\n<polygon fill=\"black\" stroke=\"black\" points=\"1375.51,-365.72 1382.22,-357.52 1371.86,-359.75 1375.51,-365.72\"/>\n</g>\n<!-- 20 -->\n<g id=\"node21\" class=\"node\">\n<title>20</title>\n<polygon fill=\"#f9e4d4\" stroke=\"black\" points=\"1318,-253.5 1144,-253.5 1144,-200.5 1318,-200.5 1318,-253.5\"/>\n<text text-anchor=\"middle\" x=\"1231\" y=\"-238.3\" font-family=\"Helvetica,sans-Serif\" font-size=\"14.00\">squared_error = 0.081</text>\n<text text-anchor=\"middle\" x=\"1231\" y=\"-223.3\" font-family=\"Helvetica,sans-Serif\" font-size=\"14.00\">samples = 2</text>\n<text text-anchor=\"middle\" x=\"1231\" y=\"-208.3\" font-family=\"Helvetica,sans-Serif\" font-size=\"14.00\">value = &#45;0.698</text>\n</g>\n<!-- 19&#45;&gt;20 -->\n<g id=\"edge20\" class=\"edge\">\n<title>19&#45;&gt;20</title>\n<path fill=\"none\" stroke=\"black\" d=\"M1231,-296.88C1231,-286.33 1231,-274.6 1231,-263.85\"/>\n<polygon fill=\"black\" stroke=\"black\" points=\"1234.5,-263.52 1231,-253.52 1227.5,-263.52 1234.5,-263.52\"/>\n</g>\n<!-- 21 -->\n<g id=\"node22\" class=\"node\">\n<title>21</title>\n<polygon fill=\"#f9e0cf\" stroke=\"black\" points=\"1510,-253.5 1336,-253.5 1336,-200.5 1510,-200.5 1510,-253.5\"/>\n<text text-anchor=\"middle\" x=\"1423\" y=\"-238.3\" font-family=\"Helvetica,sans-Serif\" font-size=\"14.00\">squared_error = 0.138</text>\n<text text-anchor=\"middle\" x=\"1423\" y=\"-223.3\" font-family=\"Helvetica,sans-Serif\" font-size=\"14.00\">samples = 61</text>\n<text text-anchor=\"middle\" x=\"1423\" y=\"-208.3\" font-family=\"Helvetica,sans-Serif\" font-size=\"14.00\">value = &#45;0.566</text>\n</g>\n<!-- 19&#45;&gt;21 -->\n<g id=\"edge21\" class=\"edge\">\n<title>19&#45;&gt;21</title>\n<path fill=\"none\" stroke=\"black\" d=\"M1293.34,-296.88C1316.73,-284.46 1343.18,-270.41 1366.06,-258.25\"/>\n<polygon fill=\"black\" stroke=\"black\" points=\"1367.77,-261.3 1374.96,-253.52 1364.49,-255.12 1367.77,-261.3\"/>\n</g>\n<!-- 24 -->\n<g id=\"node25\" class=\"node\">\n<title>24</title>\n<polygon fill=\"#f6d4bb\" stroke=\"black\" points=\"2089,-573 1915,-573 1915,-505 2089,-505 2089,-573\"/>\n<text text-anchor=\"middle\" x=\"2002\" y=\"-557.8\" font-family=\"Helvetica,sans-Serif\" font-size=\"14.00\">Engine Size &lt;= 0.003</text>\n<text text-anchor=\"middle\" x=\"2002\" y=\"-542.8\" font-family=\"Helvetica,sans-Serif\" font-size=\"14.00\">squared_error = 0.191</text>\n<text text-anchor=\"middle\" x=\"2002\" y=\"-527.8\" font-family=\"Helvetica,sans-Serif\" font-size=\"14.00\">samples = 195</text>\n<text text-anchor=\"middle\" x=\"2002\" y=\"-512.8\" font-family=\"Helvetica,sans-Serif\" font-size=\"14.00\">value = &#45;0.065</text>\n</g>\n<!-- 23&#45;&gt;24 -->\n<g id=\"edge24\" class=\"edge\">\n<title>23&#45;&gt;24</title>\n<path fill=\"none\" stroke=\"black\" d=\"M2066.83,-608.88C2058.36,-599.89 2049.1,-590.04 2040.29,-580.68\"/>\n<polygon fill=\"black\" stroke=\"black\" points=\"2042.74,-578.18 2033.34,-573.3 2037.65,-582.98 2042.74,-578.18\"/>\n</g>\n<!-- 35 -->\n<g id=\"node36\" class=\"node\">\n<title>35</title>\n<polygon fill=\"#f5ceb3\" stroke=\"black\" points=\"2281,-573 2107,-573 2107,-505 2281,-505 2281,-573\"/>\n<text text-anchor=\"middle\" x=\"2194\" y=\"-557.8\" font-family=\"Helvetica,sans-Serif\" font-size=\"14.00\">Engine Size &lt;= 0.215</text>\n<text text-anchor=\"middle\" x=\"2194\" y=\"-542.8\" font-family=\"Helvetica,sans-Serif\" font-size=\"14.00\">squared_error = 0.108</text>\n<text text-anchor=\"middle\" x=\"2194\" y=\"-527.8\" font-family=\"Helvetica,sans-Serif\" font-size=\"14.00\">samples = 143</text>\n<text text-anchor=\"middle\" x=\"2194\" y=\"-512.8\" font-family=\"Helvetica,sans-Serif\" font-size=\"14.00\">value = 0.158</text>\n</g>\n<!-- 23&#45;&gt;35 -->\n<g id=\"edge35\" class=\"edge\">\n<title>23&#45;&gt;35</title>\n<path fill=\"none\" stroke=\"black\" d=\"M2129.17,-608.88C2137.64,-599.89 2146.9,-590.04 2155.71,-580.68\"/>\n<polygon fill=\"black\" stroke=\"black\" points=\"2158.35,-582.98 2162.66,-573.3 2153.26,-578.18 2158.35,-582.98\"/>\n</g>\n<!-- 25 -->\n<g id=\"node26\" class=\"node\">\n<title>25</title>\n<polygon fill=\"#f6d2b8\" stroke=\"black\" points=\"1897,-469 1721,-469 1721,-401 1897,-401 1897,-469\"/>\n<text text-anchor=\"middle\" x=\"1809\" y=\"-453.8\" font-family=\"Helvetica,sans-Serif\" font-size=\"14.00\">Engine Size &lt;= &#45;0.351</text>\n<text text-anchor=\"middle\" x=\"1809\" y=\"-438.8\" font-family=\"Helvetica,sans-Serif\" font-size=\"14.00\">squared_error = 0.166</text>\n<text text-anchor=\"middle\" x=\"1809\" y=\"-423.8\" font-family=\"Helvetica,sans-Serif\" font-size=\"14.00\">samples = 100</text>\n<text text-anchor=\"middle\" x=\"1809\" y=\"-408.8\" font-family=\"Helvetica,sans-Serif\" font-size=\"14.00\">value = 0.014</text>\n</g>\n<!-- 24&#45;&gt;25 -->\n<g id=\"edge25\" class=\"edge\">\n<title>24&#45;&gt;25</title>\n<path fill=\"none\" stroke=\"black\" d=\"M1939.34,-504.88C1920.62,-494.99 1899.96,-484.07 1880.7,-473.9\"/>\n<polygon fill=\"black\" stroke=\"black\" points=\"1882.15,-470.7 1871.68,-469.12 1878.88,-476.89 1882.15,-470.7\"/>\n</g>\n<!-- 32 -->\n<g id=\"node33\" class=\"node\">\n<title>32</title>\n<polygon fill=\"#f7d6bf\" stroke=\"black\" points=\"2089,-469 1915,-469 1915,-401 2089,-401 2089,-469\"/>\n<text text-anchor=\"middle\" x=\"2002\" y=\"-453.8\" font-family=\"Helvetica,sans-Serif\" font-size=\"14.00\">Engine Size &lt;= 0.073</text>\n<text text-anchor=\"middle\" x=\"2002\" y=\"-438.8\" font-family=\"Helvetica,sans-Serif\" font-size=\"14.00\">squared_error = 0.203</text>\n<text text-anchor=\"middle\" x=\"2002\" y=\"-423.8\" font-family=\"Helvetica,sans-Serif\" font-size=\"14.00\">samples = 95</text>\n<text text-anchor=\"middle\" x=\"2002\" y=\"-408.8\" font-family=\"Helvetica,sans-Serif\" font-size=\"14.00\">value = &#45;0.148</text>\n</g>\n<!-- 24&#45;&gt;32 -->\n<g id=\"edge32\" class=\"edge\">\n<title>24&#45;&gt;32</title>\n<path fill=\"none\" stroke=\"black\" d=\"M2002,-504.88C2002,-496.78 2002,-487.98 2002,-479.47\"/>\n<polygon fill=\"black\" stroke=\"black\" points=\"2005.5,-479.3 2002,-469.3 1998.5,-479.3 2005.5,-479.3\"/>\n</g>\n<!-- 26 -->\n<g id=\"node27\" class=\"node\">\n<title>26</title>\n<polygon fill=\"#f7dac4\" stroke=\"black\" points=\"1703,-357.5 1529,-357.5 1529,-304.5 1703,-304.5 1703,-357.5\"/>\n<text text-anchor=\"middle\" x=\"1616\" y=\"-342.3\" font-family=\"Helvetica,sans-Serif\" font-size=\"14.00\">squared_error = 0.095</text>\n<text text-anchor=\"middle\" x=\"1616\" y=\"-327.3\" font-family=\"Helvetica,sans-Serif\" font-size=\"14.00\">samples = 11</text>\n<text text-anchor=\"middle\" x=\"1616\" y=\"-312.3\" font-family=\"Helvetica,sans-Serif\" font-size=\"14.00\">value = &#45;0.295</text>\n</g>\n<!-- 25&#45;&gt;26 -->\n<g id=\"edge26\" class=\"edge\">\n<title>25&#45;&gt;26</title>\n<path fill=\"none\" stroke=\"black\" d=\"M1746.34,-400.88C1722.82,-388.46 1696.24,-374.41 1673.24,-362.25\"/>\n<polygon fill=\"black\" stroke=\"black\" points=\"1674.76,-359.1 1664.29,-357.52 1671.49,-365.29 1674.76,-359.1\"/>\n</g>\n<!-- 27 -->\n<g id=\"node28\" class=\"node\">\n<title>27</title>\n<polygon fill=\"#f6d1b7\" stroke=\"black\" points=\"1897,-365 1721,-365 1721,-297 1897,-297 1897,-365\"/>\n<text text-anchor=\"middle\" x=\"1809\" y=\"-349.8\" font-family=\"Helvetica,sans-Serif\" font-size=\"14.00\">Engine Size &lt;= &#45;0.068</text>\n<text text-anchor=\"middle\" x=\"1809\" y=\"-334.8\" font-family=\"Helvetica,sans-Serif\" font-size=\"14.00\">squared_error = 0.162</text>\n<text text-anchor=\"middle\" x=\"1809\" y=\"-319.8\" font-family=\"Helvetica,sans-Serif\" font-size=\"14.00\">samples = 89</text>\n<text text-anchor=\"middle\" x=\"1809\" y=\"-304.8\" font-family=\"Helvetica,sans-Serif\" font-size=\"14.00\">value = 0.052</text>\n</g>\n<!-- 25&#45;&gt;27 -->\n<g id=\"edge27\" class=\"edge\">\n<title>25&#45;&gt;27</title>\n<path fill=\"none\" stroke=\"black\" d=\"M1809,-400.88C1809,-392.78 1809,-383.98 1809,-375.47\"/>\n<polygon fill=\"black\" stroke=\"black\" points=\"1812.5,-375.3 1809,-365.3 1805.5,-375.3 1812.5,-375.3\"/>\n</g>\n<!-- 28 -->\n<g id=\"node29\" class=\"node\">\n<title>28</title>\n<polygon fill=\"#f6d1b7\" stroke=\"black\" points=\"1801,-261 1625,-261 1625,-193 1801,-193 1801,-261\"/>\n<text text-anchor=\"middle\" x=\"1713\" y=\"-245.8\" font-family=\"Helvetica,sans-Serif\" font-size=\"14.00\">Engine Size &lt;= &#45;0.174</text>\n<text text-anchor=\"middle\" x=\"1713\" y=\"-230.8\" font-family=\"Helvetica,sans-Serif\" font-size=\"14.00\">squared_error = 0.171</text>\n<text text-anchor=\"middle\" x=\"1713\" y=\"-215.8\" font-family=\"Helvetica,sans-Serif\" font-size=\"14.00\">samples = 84</text>\n<text text-anchor=\"middle\" x=\"1713\" y=\"-200.8\" font-family=\"Helvetica,sans-Serif\" font-size=\"14.00\">value = 0.05</text>\n</g>\n<!-- 27&#45;&gt;28 -->\n<g id=\"edge28\" class=\"edge\">\n<title>27&#45;&gt;28</title>\n<path fill=\"none\" stroke=\"black\" d=\"M1777.83,-296.88C1769.36,-287.89 1760.1,-278.04 1751.29,-268.68\"/>\n<polygon fill=\"black\" stroke=\"black\" points=\"1753.74,-266.18 1744.34,-261.3 1748.65,-270.98 1753.74,-266.18\"/>\n</g>\n<!-- 31 -->\n<g id=\"node32\" class=\"node\">\n<title>31</title>\n<polygon fill=\"#f5d0b5\" stroke=\"black\" points=\"1993,-253.5 1819,-253.5 1819,-200.5 1993,-200.5 1993,-253.5\"/>\n<text text-anchor=\"middle\" x=\"1906\" y=\"-238.3\" font-family=\"Helvetica,sans-Serif\" font-size=\"14.00\">squared_error = 0.012</text>\n<text text-anchor=\"middle\" x=\"1906\" y=\"-223.3\" font-family=\"Helvetica,sans-Serif\" font-size=\"14.00\">samples = 5</text>\n<text text-anchor=\"middle\" x=\"1906\" y=\"-208.3\" font-family=\"Helvetica,sans-Serif\" font-size=\"14.00\">value = 0.088</text>\n</g>\n<!-- 27&#45;&gt;31 -->\n<g id=\"edge31\" class=\"edge\">\n<title>27&#45;&gt;31</title>\n<path fill=\"none\" stroke=\"black\" d=\"M1840.49,-296.88C1851.47,-285.34 1863.79,-272.39 1874.75,-260.86\"/>\n<polygon fill=\"black\" stroke=\"black\" points=\"1877.38,-263.18 1881.73,-253.52 1872.3,-258.35 1877.38,-263.18\"/>\n</g>\n<!-- 29 -->\n<g id=\"node30\" class=\"node\">\n<title>29</title>\n<polygon fill=\"#f6d1b7\" stroke=\"black\" points=\"1704,-149.5 1530,-149.5 1530,-96.5 1704,-96.5 1704,-149.5\"/>\n<text text-anchor=\"middle\" x=\"1617\" y=\"-134.3\" font-family=\"Helvetica,sans-Serif\" font-size=\"14.00\">squared_error = 0.184</text>\n<text text-anchor=\"middle\" x=\"1617\" y=\"-119.3\" font-family=\"Helvetica,sans-Serif\" font-size=\"14.00\">samples = 75</text>\n<text text-anchor=\"middle\" x=\"1617\" y=\"-104.3\" font-family=\"Helvetica,sans-Serif\" font-size=\"14.00\">value = 0.053</text>\n</g>\n<!-- 28&#45;&gt;29 -->\n<g id=\"edge29\" class=\"edge\">\n<title>28&#45;&gt;29</title>\n<path fill=\"none\" stroke=\"black\" d=\"M1681.83,-192.88C1670.96,-181.34 1658.78,-168.39 1647.93,-156.86\"/>\n<polygon fill=\"black\" stroke=\"black\" points=\"1650.42,-154.4 1641.02,-149.52 1645.32,-159.2 1650.42,-154.4\"/>\n</g>\n<!-- 30 -->\n<g id=\"node31\" class=\"node\">\n<title>30</title>\n<polygon fill=\"#f6d2b8\" stroke=\"black\" points=\"1896,-149.5 1722,-149.5 1722,-96.5 1896,-96.5 1896,-149.5\"/>\n<text text-anchor=\"middle\" x=\"1809\" y=\"-134.3\" font-family=\"Helvetica,sans-Serif\" font-size=\"14.00\">squared_error = 0.064</text>\n<text text-anchor=\"middle\" x=\"1809\" y=\"-119.3\" font-family=\"Helvetica,sans-Serif\" font-size=\"14.00\">samples = 9</text>\n<text text-anchor=\"middle\" x=\"1809\" y=\"-104.3\" font-family=\"Helvetica,sans-Serif\" font-size=\"14.00\">value = 0.026</text>\n</g>\n<!-- 28&#45;&gt;30 -->\n<g id=\"edge30\" class=\"edge\">\n<title>28&#45;&gt;30</title>\n<path fill=\"none\" stroke=\"black\" d=\"M1744.17,-192.88C1755.04,-181.34 1767.22,-168.39 1778.07,-156.86\"/>\n<polygon fill=\"black\" stroke=\"black\" points=\"1780.68,-159.2 1784.98,-149.52 1775.58,-154.4 1780.68,-159.2\"/>\n</g>\n<!-- 33 -->\n<g id=\"node34\" class=\"node\">\n<title>33</title>\n<polygon fill=\"#f7d9c4\" stroke=\"black\" points=\"2089,-357.5 1915,-357.5 1915,-304.5 2089,-304.5 2089,-357.5\"/>\n<text text-anchor=\"middle\" x=\"2002\" y=\"-342.3\" font-family=\"Helvetica,sans-Serif\" font-size=\"14.00\">squared_error = 0.018</text>\n<text text-anchor=\"middle\" x=\"2002\" y=\"-327.3\" font-family=\"Helvetica,sans-Serif\" font-size=\"14.00\">samples = 12</text>\n<text text-anchor=\"middle\" x=\"2002\" y=\"-312.3\" font-family=\"Helvetica,sans-Serif\" font-size=\"14.00\">value = &#45;0.28</text>\n</g>\n<!-- 32&#45;&gt;33 -->\n<g id=\"edge33\" class=\"edge\">\n<title>32&#45;&gt;33</title>\n<path fill=\"none\" stroke=\"black\" d=\"M2002,-400.88C2002,-390.33 2002,-378.6 2002,-367.85\"/>\n<polygon fill=\"black\" stroke=\"black\" points=\"2005.5,-367.52 2002,-357.52 1998.5,-367.52 2005.5,-367.52\"/>\n</g>\n<!-- 34 -->\n<g id=\"node35\" class=\"node\">\n<title>34</title>\n<polygon fill=\"#f6d6be\" stroke=\"black\" points=\"2281,-357.5 2107,-357.5 2107,-304.5 2281,-304.5 2281,-357.5\"/>\n<text text-anchor=\"middle\" x=\"2194\" y=\"-342.3\" font-family=\"Helvetica,sans-Serif\" font-size=\"14.00\">squared_error = 0.227</text>\n<text text-anchor=\"middle\" x=\"2194\" y=\"-327.3\" font-family=\"Helvetica,sans-Serif\" font-size=\"14.00\">samples = 83</text>\n<text text-anchor=\"middle\" x=\"2194\" y=\"-312.3\" font-family=\"Helvetica,sans-Serif\" font-size=\"14.00\">value = &#45;0.129</text>\n</g>\n<!-- 32&#45;&gt;34 -->\n<g id=\"edge34\" class=\"edge\">\n<title>32&#45;&gt;34</title>\n<path fill=\"none\" stroke=\"black\" d=\"M2064.34,-400.88C2087.73,-388.46 2114.18,-374.41 2137.06,-362.25\"/>\n<polygon fill=\"black\" stroke=\"black\" points=\"2138.77,-365.3 2145.96,-357.52 2135.49,-359.12 2138.77,-365.3\"/>\n</g>\n<!-- 36 -->\n<g id=\"node37\" class=\"node\">\n<title>36</title>\n<polygon fill=\"#f5cfb4\" stroke=\"black\" points=\"2281,-461.5 2107,-461.5 2107,-408.5 2281,-408.5 2281,-461.5\"/>\n<text text-anchor=\"middle\" x=\"2194\" y=\"-446.3\" font-family=\"Helvetica,sans-Serif\" font-size=\"14.00\">squared_error = 0.105</text>\n<text text-anchor=\"middle\" x=\"2194\" y=\"-431.3\" font-family=\"Helvetica,sans-Serif\" font-size=\"14.00\">samples = 92</text>\n<text text-anchor=\"middle\" x=\"2194\" y=\"-416.3\" font-family=\"Helvetica,sans-Serif\" font-size=\"14.00\">value = 0.132</text>\n</g>\n<!-- 35&#45;&gt;36 -->\n<g id=\"edge36\" class=\"edge\">\n<title>35&#45;&gt;36</title>\n<path fill=\"none\" stroke=\"black\" d=\"M2194,-504.88C2194,-494.33 2194,-482.6 2194,-471.85\"/>\n<polygon fill=\"black\" stroke=\"black\" points=\"2197.5,-471.52 2194,-461.52 2190.5,-471.52 2197.5,-471.52\"/>\n</g>\n<!-- 37 -->\n<g id=\"node38\" class=\"node\">\n<title>37</title>\n<polygon fill=\"#f5cdb1\" stroke=\"black\" points=\"2473,-469 2299,-469 2299,-401 2473,-401 2473,-469\"/>\n<text text-anchor=\"middle\" x=\"2386\" y=\"-453.8\" font-family=\"Helvetica,sans-Serif\" font-size=\"14.00\">Engine Size &lt;= 0.285</text>\n<text text-anchor=\"middle\" x=\"2386\" y=\"-438.8\" font-family=\"Helvetica,sans-Serif\" font-size=\"14.00\">squared_error = 0.109</text>\n<text text-anchor=\"middle\" x=\"2386\" y=\"-423.8\" font-family=\"Helvetica,sans-Serif\" font-size=\"14.00\">samples = 51</text>\n<text text-anchor=\"middle\" x=\"2386\" y=\"-408.8\" font-family=\"Helvetica,sans-Serif\" font-size=\"14.00\">value = 0.205</text>\n</g>\n<!-- 35&#45;&gt;37 -->\n<g id=\"edge37\" class=\"edge\">\n<title>35&#45;&gt;37</title>\n<path fill=\"none\" stroke=\"black\" d=\"M2256.34,-504.88C2274.96,-494.99 2295.52,-484.07 2314.67,-473.9\"/>\n<polygon fill=\"black\" stroke=\"black\" points=\"2316.46,-476.91 2323.65,-469.12 2313.17,-470.73 2316.46,-476.91\"/>\n</g>\n<!-- 38 -->\n<g id=\"node39\" class=\"node\">\n<title>38</title>\n<polygon fill=\"#f5cdb1\" stroke=\"black\" points=\"2464.5,-357.5 2299.5,-357.5 2299.5,-304.5 2464.5,-304.5 2464.5,-357.5\"/>\n<text text-anchor=\"middle\" x=\"2382\" y=\"-342.3\" font-family=\"Helvetica,sans-Serif\" font-size=\"14.00\">squared_error = 0.08</text>\n<text text-anchor=\"middle\" x=\"2382\" y=\"-327.3\" font-family=\"Helvetica,sans-Serif\" font-size=\"14.00\">samples = 35</text>\n<text text-anchor=\"middle\" x=\"2382\" y=\"-312.3\" font-family=\"Helvetica,sans-Serif\" font-size=\"14.00\">value = 0.206</text>\n</g>\n<!-- 37&#45;&gt;38 -->\n<g id=\"edge38\" class=\"edge\">\n<title>37&#45;&gt;38</title>\n<path fill=\"none\" stroke=\"black\" d=\"M2384.7,-400.88C2384.28,-390.22 2383.82,-378.35 2383.39,-367.52\"/>\n<polygon fill=\"black\" stroke=\"black\" points=\"2386.89,-367.38 2383,-357.52 2379.9,-367.65 2386.89,-367.38\"/>\n</g>\n<!-- 39 -->\n<g id=\"node40\" class=\"node\">\n<title>39</title>\n<polygon fill=\"#f5cdb1\" stroke=\"black\" points=\"2657,-357.5 2483,-357.5 2483,-304.5 2657,-304.5 2657,-357.5\"/>\n<text text-anchor=\"middle\" x=\"2570\" y=\"-342.3\" font-family=\"Helvetica,sans-Serif\" font-size=\"14.00\">squared_error = 0.173</text>\n<text text-anchor=\"middle\" x=\"2570\" y=\"-327.3\" font-family=\"Helvetica,sans-Serif\" font-size=\"14.00\">samples = 16</text>\n<text text-anchor=\"middle\" x=\"2570\" y=\"-312.3\" font-family=\"Helvetica,sans-Serif\" font-size=\"14.00\">value = 0.203</text>\n</g>\n<!-- 37&#45;&gt;39 -->\n<g id=\"edge39\" class=\"edge\">\n<title>37&#45;&gt;39</title>\n<path fill=\"none\" stroke=\"black\" d=\"M2445.74,-400.88C2468.06,-388.51 2493.28,-374.53 2515.14,-362.41\"/>\n<polygon fill=\"black\" stroke=\"black\" points=\"2516.91,-365.43 2523.96,-357.52 2513.52,-359.31 2516.91,-365.43\"/>\n</g>\n<!-- 41 -->\n<g id=\"node42\" class=\"node\">\n<title>41</title>\n<polygon fill=\"#f0b78e\" stroke=\"black\" points=\"3377,-677 3203,-677 3203,-609 3377,-609 3377,-677\"/>\n<text text-anchor=\"middle\" x=\"3290\" y=\"-661.8\" font-family=\"Helvetica,sans-Serif\" font-size=\"14.00\">Engine Size &lt;= 1.239</text>\n<text text-anchor=\"middle\" x=\"3290\" y=\"-646.8\" font-family=\"Helvetica,sans-Serif\" font-size=\"14.00\">squared_error = 0.359</text>\n<text text-anchor=\"middle\" x=\"3290\" y=\"-631.8\" font-family=\"Helvetica,sans-Serif\" font-size=\"14.00\">samples = 233</text>\n<text text-anchor=\"middle\" x=\"3290\" y=\"-616.8\" font-family=\"Helvetica,sans-Serif\" font-size=\"14.00\">value = 1.081</text>\n</g>\n<!-- 40&#45;&gt;41 -->\n<g id=\"edge41\" class=\"edge\">\n<title>40&#45;&gt;41</title>\n<path fill=\"none\" stroke=\"black\" d=\"M3290,-712.88C3290,-704.78 3290,-695.98 3290,-687.47\"/>\n<polygon fill=\"black\" stroke=\"black\" points=\"3293.5,-687.3 3290,-677.3 3286.5,-687.3 3293.5,-687.3\"/>\n</g>\n<!-- 70 -->\n<g id=\"node71\" class=\"node\">\n<title>70</title>\n<polygon fill=\"#eda775\" stroke=\"black\" points=\"4465,-677 4291,-677 4291,-609 4465,-609 4465,-677\"/>\n<text text-anchor=\"middle\" x=\"4378\" y=\"-661.8\" font-family=\"Helvetica,sans-Serif\" font-size=\"14.00\">Engine Size &lt;= 2.334</text>\n<text text-anchor=\"middle\" x=\"4378\" y=\"-646.8\" font-family=\"Helvetica,sans-Serif\" font-size=\"14.00\">squared_error = 0.433</text>\n<text text-anchor=\"middle\" x=\"4378\" y=\"-631.8\" font-family=\"Helvetica,sans-Serif\" font-size=\"14.00\">samples = 67</text>\n<text text-anchor=\"middle\" x=\"4378\" y=\"-616.8\" font-family=\"Helvetica,sans-Serif\" font-size=\"14.00\">value = 1.729</text>\n</g>\n<!-- 40&#45;&gt;70 -->\n<g id=\"edge70\" class=\"edge\">\n<title>40&#45;&gt;70</title>\n<path fill=\"none\" stroke=\"black\" d=\"M3377.2,-737.83C3577.76,-719.02 4070.66,-672.81 4280.68,-653.12\"/>\n<polygon fill=\"black\" stroke=\"black\" points=\"4281.14,-656.6 4290.77,-652.18 4280.48,-649.63 4281.14,-656.6\"/>\n</g>\n<!-- 42 -->\n<g id=\"node43\" class=\"node\">\n<title>42</title>\n<polygon fill=\"#f1bb94\" stroke=\"black\" points=\"3257,-573 3083,-573 3083,-505 3257,-505 3257,-573\"/>\n<text text-anchor=\"middle\" x=\"3170\" y=\"-557.8\" font-family=\"Helvetica,sans-Serif\" font-size=\"14.00\">Engine Size &lt;= 0.815</text>\n<text text-anchor=\"middle\" x=\"3170\" y=\"-542.8\" font-family=\"Helvetica,sans-Serif\" font-size=\"14.00\">squared_error = 0.293</text>\n<text text-anchor=\"middle\" x=\"3170\" y=\"-527.8\" font-family=\"Helvetica,sans-Serif\" font-size=\"14.00\">samples = 134</text>\n<text text-anchor=\"middle\" x=\"3170\" y=\"-512.8\" font-family=\"Helvetica,sans-Serif\" font-size=\"14.00\">value = 0.942</text>\n</g>\n<!-- 41&#45;&gt;42 -->\n<g id=\"edge42\" class=\"edge\">\n<title>41&#45;&gt;42</title>\n<path fill=\"none\" stroke=\"black\" d=\"M3251.04,-608.88C3240.14,-599.62 3228.18,-589.45 3216.88,-579.85\"/>\n<polygon fill=\"black\" stroke=\"black\" points=\"3219.06,-577.11 3209.18,-573.3 3214.53,-582.44 3219.06,-577.11\"/>\n</g>\n<!-- 57 -->\n<g id=\"node58\" class=\"node\">\n<title>57</title>\n<polygon fill=\"#efb387\" stroke=\"black\" points=\"3497,-573 3323,-573 3323,-505 3497,-505 3497,-573\"/>\n<text text-anchor=\"middle\" x=\"3410\" y=\"-557.8\" font-family=\"Helvetica,sans-Serif\" font-size=\"14.00\">Engine Size &lt;= 1.345</text>\n<text text-anchor=\"middle\" x=\"3410\" y=\"-542.8\" font-family=\"Helvetica,sans-Serif\" font-size=\"14.00\">squared_error = 0.388</text>\n<text text-anchor=\"middle\" x=\"3410\" y=\"-527.8\" font-family=\"Helvetica,sans-Serif\" font-size=\"14.00\">samples = 99</text>\n<text text-anchor=\"middle\" x=\"3410\" y=\"-512.8\" font-family=\"Helvetica,sans-Serif\" font-size=\"14.00\">value = 1.268</text>\n</g>\n<!-- 41&#45;&gt;57 -->\n<g id=\"edge57\" class=\"edge\">\n<title>41&#45;&gt;57</title>\n<path fill=\"none\" stroke=\"black\" d=\"M3328.96,-608.88C3339.86,-599.62 3351.82,-589.45 3363.12,-579.85\"/>\n<polygon fill=\"black\" stroke=\"black\" points=\"3365.47,-582.44 3370.82,-573.3 3360.94,-577.11 3365.47,-582.44\"/>\n</g>\n<!-- 43 -->\n<g id=\"node44\" class=\"node\">\n<title>43</title>\n<polygon fill=\"#f2be98\" stroke=\"black\" points=\"3041,-469 2867,-469 2867,-401 3041,-401 3041,-469\"/>\n<text text-anchor=\"middle\" x=\"2954\" y=\"-453.8\" font-family=\"Helvetica,sans-Serif\" font-size=\"14.00\">Engine Size &lt;= 0.533</text>\n<text text-anchor=\"middle\" x=\"2954\" y=\"-438.8\" font-family=\"Helvetica,sans-Serif\" font-size=\"14.00\">squared_error = 0.214</text>\n<text text-anchor=\"middle\" x=\"2954\" y=\"-423.8\" font-family=\"Helvetica,sans-Serif\" font-size=\"14.00\">samples = 58</text>\n<text text-anchor=\"middle\" x=\"2954\" y=\"-408.8\" font-family=\"Helvetica,sans-Serif\" font-size=\"14.00\">value = 0.827</text>\n</g>\n<!-- 42&#45;&gt;43 -->\n<g id=\"edge43\" class=\"edge\">\n<title>42&#45;&gt;43</title>\n<path fill=\"none\" stroke=\"black\" d=\"M3099.87,-504.88C3078.64,-494.86 3055.17,-483.77 3033.37,-473.48\"/>\n<polygon fill=\"black\" stroke=\"black\" points=\"3034.68,-470.23 3024.15,-469.12 3031.69,-476.56 3034.68,-470.23\"/>\n</g>\n<!-- 50 -->\n<g id=\"node51\" class=\"node\">\n<title>50</title>\n<polygon fill=\"#f0b990\" stroke=\"black\" points=\"3257,-469 3083,-469 3083,-401 3257,-401 3257,-469\"/>\n<text text-anchor=\"middle\" x=\"3170\" y=\"-453.8\" font-family=\"Helvetica,sans-Serif\" font-size=\"14.00\">Engine Size &lt;= 1.098</text>\n<text text-anchor=\"middle\" x=\"3170\" y=\"-438.8\" font-family=\"Helvetica,sans-Serif\" font-size=\"14.00\">squared_error = 0.335</text>\n<text text-anchor=\"middle\" x=\"3170\" y=\"-423.8\" font-family=\"Helvetica,sans-Serif\" font-size=\"14.00\">samples = 76</text>\n<text text-anchor=\"middle\" x=\"3170\" y=\"-408.8\" font-family=\"Helvetica,sans-Serif\" font-size=\"14.00\">value = 1.03</text>\n</g>\n<!-- 42&#45;&gt;50 -->\n<g id=\"edge50\" class=\"edge\">\n<title>42&#45;&gt;50</title>\n<path fill=\"none\" stroke=\"black\" d=\"M3170,-504.88C3170,-496.78 3170,-487.98 3170,-479.47\"/>\n<polygon fill=\"black\" stroke=\"black\" points=\"3173.5,-479.3 3170,-469.3 3166.5,-479.3 3173.5,-479.3\"/>\n</g>\n<!-- 44 -->\n<g id=\"node45\" class=\"node\">\n<title>44</title>\n<polygon fill=\"#f2c09d\" stroke=\"black\" points=\"2849,-357.5 2675,-357.5 2675,-304.5 2849,-304.5 2849,-357.5\"/>\n<text text-anchor=\"middle\" x=\"2762\" y=\"-342.3\" font-family=\"Helvetica,sans-Serif\" font-size=\"14.00\">squared_error = 0.065</text>\n<text text-anchor=\"middle\" x=\"2762\" y=\"-327.3\" font-family=\"Helvetica,sans-Serif\" font-size=\"14.00\">samples = 22</text>\n<text text-anchor=\"middle\" x=\"2762\" y=\"-312.3\" font-family=\"Helvetica,sans-Serif\" font-size=\"14.00\">value = 0.717</text>\n</g>\n<!-- 43&#45;&gt;44 -->\n<g id=\"edge44\" class=\"edge\">\n<title>43&#45;&gt;44</title>\n<path fill=\"none\" stroke=\"black\" d=\"M2891.66,-400.88C2868.27,-388.46 2841.82,-374.41 2818.94,-362.25\"/>\n<polygon fill=\"black\" stroke=\"black\" points=\"2820.51,-359.12 2810.04,-357.52 2817.23,-365.3 2820.51,-359.12\"/>\n</g>\n<!-- 45 -->\n<g id=\"node46\" class=\"node\">\n<title>45</title>\n<polygon fill=\"#f1bc96\" stroke=\"black\" points=\"3041,-365 2867,-365 2867,-297 3041,-297 3041,-365\"/>\n<text text-anchor=\"middle\" x=\"2954\" y=\"-349.8\" font-family=\"Helvetica,sans-Serif\" font-size=\"14.00\">Engine Size &lt;= 0.639</text>\n<text text-anchor=\"middle\" x=\"2954\" y=\"-334.8\" font-family=\"Helvetica,sans-Serif\" font-size=\"14.00\">squared_error = 0.293</text>\n<text text-anchor=\"middle\" x=\"2954\" y=\"-319.8\" font-family=\"Helvetica,sans-Serif\" font-size=\"14.00\">samples = 36</text>\n<text text-anchor=\"middle\" x=\"2954\" y=\"-304.8\" font-family=\"Helvetica,sans-Serif\" font-size=\"14.00\">value = 0.895</text>\n</g>\n<!-- 43&#45;&gt;45 -->\n<g id=\"edge45\" class=\"edge\">\n<title>43&#45;&gt;45</title>\n<path fill=\"none\" stroke=\"black\" d=\"M2954,-400.88C2954,-392.78 2954,-383.98 2954,-375.47\"/>\n<polygon fill=\"black\" stroke=\"black\" points=\"2957.5,-375.3 2954,-365.3 2950.5,-375.3 2957.5,-375.3\"/>\n</g>\n<!-- 46 -->\n<g id=\"node47\" class=\"node\">\n<title>46</title>\n<polygon fill=\"#eead7f\" stroke=\"black\" points=\"2836.5,-253.5 2671.5,-253.5 2671.5,-200.5 2836.5,-200.5 2836.5,-253.5\"/>\n<text text-anchor=\"middle\" x=\"2754\" y=\"-238.3\" font-family=\"Helvetica,sans-Serif\" font-size=\"14.00\">squared_error = 0.44</text>\n<text text-anchor=\"middle\" x=\"2754\" y=\"-223.3\" font-family=\"Helvetica,sans-Serif\" font-size=\"14.00\">samples = 6</text>\n<text text-anchor=\"middle\" x=\"2754\" y=\"-208.3\" font-family=\"Helvetica,sans-Serif\" font-size=\"14.00\">value = 1.48</text>\n</g>\n<!-- 45&#45;&gt;46 -->\n<g id=\"edge46\" class=\"edge\">\n<title>45&#45;&gt;46</title>\n<path fill=\"none\" stroke=\"black\" d=\"M2889.07,-296.88C2864.59,-284.4 2836.91,-270.28 2813,-258.09\"/>\n<polygon fill=\"black\" stroke=\"black\" points=\"2814.54,-254.95 2804.04,-253.52 2811.36,-261.18 2814.54,-254.95\"/>\n</g>\n<!-- 47 -->\n<g id=\"node48\" class=\"node\">\n<title>47</title>\n<polygon fill=\"#f2bf9a\" stroke=\"black\" points=\"3029,-261 2855,-261 2855,-193 3029,-193 3029,-261\"/>\n<text text-anchor=\"middle\" x=\"2942\" y=\"-245.8\" font-family=\"Helvetica,sans-Serif\" font-size=\"14.00\">Engine Size &lt;= 0.709</text>\n<text text-anchor=\"middle\" x=\"2942\" y=\"-230.8\" font-family=\"Helvetica,sans-Serif\" font-size=\"14.00\">squared_error = 0.181</text>\n<text text-anchor=\"middle\" x=\"2942\" y=\"-215.8\" font-family=\"Helvetica,sans-Serif\" font-size=\"14.00\">samples = 30</text>\n<text text-anchor=\"middle\" x=\"2942\" y=\"-200.8\" font-family=\"Helvetica,sans-Serif\" font-size=\"14.00\">value = 0.777</text>\n</g>\n<!-- 45&#45;&gt;47 -->\n<g id=\"edge47\" class=\"edge\">\n<title>45&#45;&gt;47</title>\n<path fill=\"none\" stroke=\"black\" d=\"M2950.1,-296.88C2949.15,-288.78 2948.12,-279.98 2947.11,-271.47\"/>\n<polygon fill=\"black\" stroke=\"black\" points=\"2950.56,-270.82 2945.92,-261.3 2943.61,-271.64 2950.56,-270.82\"/>\n</g>\n<!-- 48 -->\n<g id=\"node49\" class=\"node\">\n<title>48</title>\n<polygon fill=\"#f3c4a2\" stroke=\"black\" points=\"2837,-149.5 2663,-149.5 2663,-96.5 2837,-96.5 2837,-149.5\"/>\n<text text-anchor=\"middle\" x=\"2750\" y=\"-134.3\" font-family=\"Helvetica,sans-Serif\" font-size=\"14.00\">squared_error = 0.202</text>\n<text text-anchor=\"middle\" x=\"2750\" y=\"-119.3\" font-family=\"Helvetica,sans-Serif\" font-size=\"14.00\">samples = 10</text>\n<text text-anchor=\"middle\" x=\"2750\" y=\"-104.3\" font-family=\"Helvetica,sans-Serif\" font-size=\"14.00\">value = 0.571</text>\n</g>\n<!-- 47&#45;&gt;48 -->\n<g id=\"edge48\" class=\"edge\">\n<title>47&#45;&gt;48</title>\n<path fill=\"none\" stroke=\"black\" d=\"M2879.66,-192.88C2856.27,-180.46 2829.82,-166.41 2806.94,-154.25\"/>\n<polygon fill=\"black\" stroke=\"black\" points=\"2808.51,-151.12 2798.04,-149.52 2805.23,-157.3 2808.51,-151.12\"/>\n</g>\n<!-- 49 -->\n<g id=\"node50\" class=\"node\">\n<title>49</title>\n<polygon fill=\"#f1bc96\" stroke=\"black\" points=\"3029,-149.5 2855,-149.5 2855,-96.5 3029,-96.5 3029,-149.5\"/>\n<text text-anchor=\"middle\" x=\"2942\" y=\"-134.3\" font-family=\"Helvetica,sans-Serif\" font-size=\"14.00\">squared_error = 0.138</text>\n<text text-anchor=\"middle\" x=\"2942\" y=\"-119.3\" font-family=\"Helvetica,sans-Serif\" font-size=\"14.00\">samples = 20</text>\n<text text-anchor=\"middle\" x=\"2942\" y=\"-104.3\" font-family=\"Helvetica,sans-Serif\" font-size=\"14.00\">value = 0.88</text>\n</g>\n<!-- 47&#45;&gt;49 -->\n<g id=\"edge49\" class=\"edge\">\n<title>47&#45;&gt;49</title>\n<path fill=\"none\" stroke=\"black\" d=\"M2942,-192.88C2942,-182.33 2942,-170.6 2942,-159.85\"/>\n<polygon fill=\"black\" stroke=\"black\" points=\"2945.5,-159.52 2942,-149.52 2938.5,-159.52 2945.5,-159.52\"/>\n</g>\n<!-- 51 -->\n<g id=\"node52\" class=\"node\">\n<title>51</title>\n<polygon fill=\"#f0b68c\" stroke=\"black\" points=\"3257,-365 3083,-365 3083,-297 3257,-297 3257,-365\"/>\n<text text-anchor=\"middle\" x=\"3170\" y=\"-349.8\" font-family=\"Helvetica,sans-Serif\" font-size=\"14.00\">Engine Size &lt;= 0.992</text>\n<text text-anchor=\"middle\" x=\"3170\" y=\"-334.8\" font-family=\"Helvetica,sans-Serif\" font-size=\"14.00\">squared_error = 0.516</text>\n<text text-anchor=\"middle\" x=\"3170\" y=\"-319.8\" font-family=\"Helvetica,sans-Serif\" font-size=\"14.00\">samples = 37</text>\n<text text-anchor=\"middle\" x=\"3170\" y=\"-304.8\" font-family=\"Helvetica,sans-Serif\" font-size=\"14.00\">value = 1.135</text>\n</g>\n<!-- 50&#45;&gt;51 -->\n<g id=\"edge51\" class=\"edge\">\n<title>50&#45;&gt;51</title>\n<path fill=\"none\" stroke=\"black\" d=\"M3170,-400.88C3170,-392.78 3170,-383.98 3170,-375.47\"/>\n<polygon fill=\"black\" stroke=\"black\" points=\"3173.5,-375.3 3170,-365.3 3166.5,-375.3 3173.5,-375.3\"/>\n</g>\n<!-- 56 -->\n<g id=\"node57\" class=\"node\">\n<title>56</title>\n<polygon fill=\"#f1bb94\" stroke=\"black\" points=\"3449,-357.5 3275,-357.5 3275,-304.5 3449,-304.5 3449,-357.5\"/>\n<text text-anchor=\"middle\" x=\"3362\" y=\"-342.3\" font-family=\"Helvetica,sans-Serif\" font-size=\"14.00\">squared_error = 0.144</text>\n<text text-anchor=\"middle\" x=\"3362\" y=\"-327.3\" font-family=\"Helvetica,sans-Serif\" font-size=\"14.00\">samples = 39</text>\n<text text-anchor=\"middle\" x=\"3362\" y=\"-312.3\" font-family=\"Helvetica,sans-Serif\" font-size=\"14.00\">value = 0.93</text>\n</g>\n<!-- 50&#45;&gt;56 -->\n<g id=\"edge56\" class=\"edge\">\n<title>50&#45;&gt;56</title>\n<path fill=\"none\" stroke=\"black\" d=\"M3232.34,-400.88C3255.73,-388.46 3282.18,-374.41 3305.06,-362.25\"/>\n<polygon fill=\"black\" stroke=\"black\" points=\"3306.77,-365.3 3313.96,-357.52 3303.49,-359.12 3306.77,-365.3\"/>\n</g>\n<!-- 52 -->\n<g id=\"node53\" class=\"node\">\n<title>52</title>\n<polygon fill=\"#f1b991\" stroke=\"black\" points=\"3221,-261 3047,-261 3047,-193 3221,-193 3221,-261\"/>\n<text text-anchor=\"middle\" x=\"3134\" y=\"-245.8\" font-family=\"Helvetica,sans-Serif\" font-size=\"14.00\">Engine Size &lt;= 0.921</text>\n<text text-anchor=\"middle\" x=\"3134\" y=\"-230.8\" font-family=\"Helvetica,sans-Serif\" font-size=\"14.00\">squared_error = 0.362</text>\n<text text-anchor=\"middle\" x=\"3134\" y=\"-215.8\" font-family=\"Helvetica,sans-Serif\" font-size=\"14.00\">samples = 27</text>\n<text text-anchor=\"middle\" x=\"3134\" y=\"-200.8\" font-family=\"Helvetica,sans-Serif\" font-size=\"14.00\">value = 1.017</text>\n</g>\n<!-- 51&#45;&gt;52 -->\n<g id=\"edge52\" class=\"edge\">\n<title>51&#45;&gt;52</title>\n<path fill=\"none\" stroke=\"black\" d=\"M3158.31,-296.88C3155.39,-288.6 3152.21,-279.6 3149.15,-270.91\"/>\n<polygon fill=\"black\" stroke=\"black\" points=\"3152.38,-269.56 3145.75,-261.3 3145.78,-271.89 3152.38,-269.56\"/>\n</g>\n<!-- 55 -->\n<g id=\"node56\" class=\"node\">\n<title>55</title>\n<polygon fill=\"#eeae80\" stroke=\"black\" points=\"3413,-253.5 3239,-253.5 3239,-200.5 3413,-200.5 3413,-253.5\"/>\n<text text-anchor=\"middle\" x=\"3326\" y=\"-238.3\" font-family=\"Helvetica,sans-Serif\" font-size=\"14.00\">squared_error = 0.791</text>\n<text text-anchor=\"middle\" x=\"3326\" y=\"-223.3\" font-family=\"Helvetica,sans-Serif\" font-size=\"14.00\">samples = 10</text>\n<text text-anchor=\"middle\" x=\"3326\" y=\"-208.3\" font-family=\"Helvetica,sans-Serif\" font-size=\"14.00\">value = 1.454</text>\n</g>\n<!-- 51&#45;&gt;55 -->\n<g id=\"edge55\" class=\"edge\">\n<title>51&#45;&gt;55</title>\n<path fill=\"none\" stroke=\"black\" d=\"M3220.65,-296.88C3239.15,-284.79 3260,-271.15 3278.25,-259.22\"/>\n<polygon fill=\"black\" stroke=\"black\" points=\"3280.52,-261.92 3286.97,-253.52 3276.68,-256.06 3280.52,-261.92\"/>\n</g>\n<!-- 53 -->\n<g id=\"node54\" class=\"node\">\n<title>53</title>\n<polygon fill=\"#efb388\" stroke=\"black\" points=\"3221,-149.5 3047,-149.5 3047,-96.5 3221,-96.5 3221,-149.5\"/>\n<text text-anchor=\"middle\" x=\"3134\" y=\"-134.3\" font-family=\"Helvetica,sans-Serif\" font-size=\"14.00\">squared_error = 0.283</text>\n<text text-anchor=\"middle\" x=\"3134\" y=\"-119.3\" font-family=\"Helvetica,sans-Serif\" font-size=\"14.00\">samples = 10</text>\n<text text-anchor=\"middle\" x=\"3134\" y=\"-104.3\" font-family=\"Helvetica,sans-Serif\" font-size=\"14.00\">value = 1.244</text>\n</g>\n<!-- 52&#45;&gt;53 -->\n<g id=\"edge53\" class=\"edge\">\n<title>52&#45;&gt;53</title>\n<path fill=\"none\" stroke=\"black\" d=\"M3134,-192.88C3134,-182.33 3134,-170.6 3134,-159.85\"/>\n<polygon fill=\"black\" stroke=\"black\" points=\"3137.5,-159.52 3134,-149.52 3130.5,-159.52 3137.5,-159.52\"/>\n</g>\n<!-- 54 -->\n<g id=\"node55\" class=\"node\">\n<title>54</title>\n<polygon fill=\"#f1bc96\" stroke=\"black\" points=\"3413,-149.5 3239,-149.5 3239,-96.5 3413,-96.5 3413,-149.5\"/>\n<text text-anchor=\"middle\" x=\"3326\" y=\"-134.3\" font-family=\"Helvetica,sans-Serif\" font-size=\"14.00\">squared_error = 0.361</text>\n<text text-anchor=\"middle\" x=\"3326\" y=\"-119.3\" font-family=\"Helvetica,sans-Serif\" font-size=\"14.00\">samples = 17</text>\n<text text-anchor=\"middle\" x=\"3326\" y=\"-104.3\" font-family=\"Helvetica,sans-Serif\" font-size=\"14.00\">value = 0.884</text>\n</g>\n<!-- 52&#45;&gt;54 -->\n<g id=\"edge54\" class=\"edge\">\n<title>52&#45;&gt;54</title>\n<path fill=\"none\" stroke=\"black\" d=\"M3196.34,-192.88C3219.73,-180.46 3246.18,-166.41 3269.06,-154.25\"/>\n<polygon fill=\"black\" stroke=\"black\" points=\"3270.77,-157.3 3277.96,-149.52 3267.49,-151.12 3270.77,-157.3\"/>\n</g>\n<!-- 58 -->\n<g id=\"node59\" class=\"node\">\n<title>58</title>\n<polygon fill=\"#eca16b\" stroke=\"black\" points=\"3497,-461.5 3323,-461.5 3323,-408.5 3497,-408.5 3497,-461.5\"/>\n<text text-anchor=\"middle\" x=\"3410\" y=\"-446.3\" font-family=\"Helvetica,sans-Serif\" font-size=\"14.00\">squared_error = 0.157</text>\n<text text-anchor=\"middle\" x=\"3410\" y=\"-431.3\" font-family=\"Helvetica,sans-Serif\" font-size=\"14.00\">samples = 6</text>\n<text text-anchor=\"middle\" x=\"3410\" y=\"-416.3\" font-family=\"Helvetica,sans-Serif\" font-size=\"14.00\">value = 1.972</text>\n</g>\n<!-- 57&#45;&gt;58 -->\n<g id=\"edge58\" class=\"edge\">\n<title>57&#45;&gt;58</title>\n<path fill=\"none\" stroke=\"black\" d=\"M3410,-504.88C3410,-494.33 3410,-482.6 3410,-471.85\"/>\n<polygon fill=\"black\" stroke=\"black\" points=\"3413.5,-471.52 3410,-461.52 3406.5,-471.52 3413.5,-471.52\"/>\n</g>\n<!-- 59 -->\n<g id=\"node60\" class=\"node\">\n<title>59</title>\n<polygon fill=\"#efb489\" stroke=\"black\" points=\"3785,-469 3611,-469 3611,-401 3785,-401 3785,-469\"/>\n<text text-anchor=\"middle\" x=\"3698\" y=\"-453.8\" font-family=\"Helvetica,sans-Serif\" font-size=\"14.00\">Engine Size &lt;= 1.486</text>\n<text text-anchor=\"middle\" x=\"3698\" y=\"-438.8\" font-family=\"Helvetica,sans-Serif\" font-size=\"14.00\">squared_error = 0.369</text>\n<text text-anchor=\"middle\" x=\"3698\" y=\"-423.8\" font-family=\"Helvetica,sans-Serif\" font-size=\"14.00\">samples = 93</text>\n<text text-anchor=\"middle\" x=\"3698\" y=\"-408.8\" font-family=\"Helvetica,sans-Serif\" font-size=\"14.00\">value = 1.223</text>\n</g>\n<!-- 57&#45;&gt;59 -->\n<g id=\"edge59\" class=\"edge\">\n<title>57&#45;&gt;59</title>\n<path fill=\"none\" stroke=\"black\" d=\"M3497.19,-507.12C3529.89,-495.54 3567.24,-482.31 3600.79,-470.43\"/>\n<polygon fill=\"black\" stroke=\"black\" points=\"3602.35,-473.59 3610.61,-466.95 3600.01,-466.99 3602.35,-473.59\"/>\n</g>\n<!-- 60 -->\n<g id=\"node61\" class=\"node\">\n<title>60</title>\n<polygon fill=\"#efb387\" stroke=\"black\" points=\"3785,-365 3611,-365 3611,-297 3785,-297 3785,-365\"/>\n<text text-anchor=\"middle\" x=\"3698\" y=\"-349.8\" font-family=\"Helvetica,sans-Serif\" font-size=\"14.00\">Engine Size &lt;= 1.416</text>\n<text text-anchor=\"middle\" x=\"3698\" y=\"-334.8\" font-family=\"Helvetica,sans-Serif\" font-size=\"14.00\">squared_error = 0.353</text>\n<text text-anchor=\"middle\" x=\"3698\" y=\"-319.8\" font-family=\"Helvetica,sans-Serif\" font-size=\"14.00\">samples = 56</text>\n<text text-anchor=\"middle\" x=\"3698\" y=\"-304.8\" font-family=\"Helvetica,sans-Serif\" font-size=\"14.00\">value = 1.273</text>\n</g>\n<!-- 59&#45;&gt;60 -->\n<g id=\"edge60\" class=\"edge\">\n<title>59&#45;&gt;60</title>\n<path fill=\"none\" stroke=\"black\" d=\"M3698,-400.88C3698,-392.78 3698,-383.98 3698,-375.47\"/>\n<polygon fill=\"black\" stroke=\"black\" points=\"3701.5,-375.3 3698,-365.3 3694.5,-375.3 3701.5,-375.3\"/>\n</g>\n<!-- 63 -->\n<g id=\"node64\" class=\"node\">\n<title>63</title>\n<polygon fill=\"#f0b68c\" stroke=\"black\" points=\"3989,-365 3815,-365 3815,-297 3989,-297 3989,-365\"/>\n<text text-anchor=\"middle\" x=\"3902\" y=\"-349.8\" font-family=\"Helvetica,sans-Serif\" font-size=\"14.00\">Engine Size &lt;= 1.557</text>\n<text text-anchor=\"middle\" x=\"3902\" y=\"-334.8\" font-family=\"Helvetica,sans-Serif\" font-size=\"14.00\">squared_error = 0.384</text>\n<text text-anchor=\"middle\" x=\"3902\" y=\"-319.8\" font-family=\"Helvetica,sans-Serif\" font-size=\"14.00\">samples = 37</text>\n<text text-anchor=\"middle\" x=\"3902\" y=\"-304.8\" font-family=\"Helvetica,sans-Serif\" font-size=\"14.00\">value = 1.147</text>\n</g>\n<!-- 59&#45;&gt;63 -->\n<g id=\"edge63\" class=\"edge\">\n<title>59&#45;&gt;63</title>\n<path fill=\"none\" stroke=\"black\" d=\"M3764.23,-400.88C3784.2,-390.9 3806.26,-379.87 3826.76,-369.62\"/>\n<polygon fill=\"black\" stroke=\"black\" points=\"3828.37,-372.73 3835.75,-365.12 3825.24,-366.47 3828.37,-372.73\"/>\n</g>\n<!-- 61 -->\n<g id=\"node62\" class=\"node\">\n<title>61</title>\n<polygon fill=\"#f0b58b\" stroke=\"black\" points=\"3605,-253.5 3431,-253.5 3431,-200.5 3605,-200.5 3605,-253.5\"/>\n<text text-anchor=\"middle\" x=\"3518\" y=\"-238.3\" font-family=\"Helvetica,sans-Serif\" font-size=\"14.00\">squared_error = 0.323</text>\n<text text-anchor=\"middle\" x=\"3518\" y=\"-223.3\" font-family=\"Helvetica,sans-Serif\" font-size=\"14.00\">samples = 48</text>\n<text text-anchor=\"middle\" x=\"3518\" y=\"-208.3\" font-family=\"Helvetica,sans-Serif\" font-size=\"14.00\">value = 1.176</text>\n</g>\n<!-- 60&#45;&gt;61 -->\n<g id=\"edge61\" class=\"edge\">\n<title>60&#45;&gt;61</title>\n<path fill=\"none\" stroke=\"black\" d=\"M3639.56,-296.88C3617.82,-284.57 3593.27,-270.65 3571.96,-258.57\"/>\n<polygon fill=\"black\" stroke=\"black\" points=\"3573.46,-255.41 3563.04,-253.52 3570.01,-261.5 3573.46,-255.41\"/>\n</g>\n<!-- 62 -->\n<g id=\"node63\" class=\"node\">\n<title>62</title>\n<polygon fill=\"#eca470\" stroke=\"black\" points=\"3797,-253.5 3623,-253.5 3623,-200.5 3797,-200.5 3797,-253.5\"/>\n<text text-anchor=\"middle\" x=\"3710\" y=\"-238.3\" font-family=\"Helvetica,sans-Serif\" font-size=\"14.00\">squared_error = 0.143</text>\n<text text-anchor=\"middle\" x=\"3710\" y=\"-223.3\" font-family=\"Helvetica,sans-Serif\" font-size=\"14.00\">samples = 8</text>\n<text text-anchor=\"middle\" x=\"3710\" y=\"-208.3\" font-family=\"Helvetica,sans-Serif\" font-size=\"14.00\">value = 1.849</text>\n</g>\n<!-- 60&#45;&gt;62 -->\n<g id=\"edge62\" class=\"edge\">\n<title>60&#45;&gt;62</title>\n<path fill=\"none\" stroke=\"black\" d=\"M3701.9,-296.88C3703.15,-286.22 3704.55,-274.35 3705.82,-263.52\"/>\n<polygon fill=\"black\" stroke=\"black\" points=\"3709.31,-263.86 3707,-253.52 3702.35,-263.04 3709.31,-263.86\"/>\n</g>\n<!-- 64 -->\n<g id=\"node65\" class=\"node\">\n<title>64</title>\n<polygon fill=\"#f0b890\" stroke=\"black\" points=\"3989,-253.5 3815,-253.5 3815,-200.5 3989,-200.5 3989,-253.5\"/>\n<text text-anchor=\"middle\" x=\"3902\" y=\"-238.3\" font-family=\"Helvetica,sans-Serif\" font-size=\"14.00\">squared_error = 0.518</text>\n<text text-anchor=\"middle\" x=\"3902\" y=\"-223.3\" font-family=\"Helvetica,sans-Serif\" font-size=\"14.00\">samples = 14</text>\n<text text-anchor=\"middle\" x=\"3902\" y=\"-208.3\" font-family=\"Helvetica,sans-Serif\" font-size=\"14.00\">value = 1.042</text>\n</g>\n<!-- 63&#45;&gt;64 -->\n<g id=\"edge64\" class=\"edge\">\n<title>63&#45;&gt;64</title>\n<path fill=\"none\" stroke=\"black\" d=\"M3902,-296.88C3902,-286.33 3902,-274.6 3902,-263.85\"/>\n<polygon fill=\"black\" stroke=\"black\" points=\"3905.5,-263.52 3902,-253.52 3898.5,-263.52 3905.5,-263.52\"/>\n</g>\n<!-- 65 -->\n<g id=\"node66\" class=\"node\">\n<title>65</title>\n<polygon fill=\"#f0b489\" stroke=\"black\" points=\"4181,-261 4007,-261 4007,-193 4181,-193 4181,-261\"/>\n<text text-anchor=\"middle\" x=\"4094\" y=\"-245.8\" font-family=\"Helvetica,sans-Serif\" font-size=\"14.00\">Engine Size &lt;= 1.698</text>\n<text text-anchor=\"middle\" x=\"4094\" y=\"-230.8\" font-family=\"Helvetica,sans-Serif\" font-size=\"14.00\">squared_error = 0.292</text>\n<text text-anchor=\"middle\" x=\"4094\" y=\"-215.8\" font-family=\"Helvetica,sans-Serif\" font-size=\"14.00\">samples = 23</text>\n<text text-anchor=\"middle\" x=\"4094\" y=\"-200.8\" font-family=\"Helvetica,sans-Serif\" font-size=\"14.00\">value = 1.211</text>\n</g>\n<!-- 63&#45;&gt;65 -->\n<g id=\"edge65\" class=\"edge\">\n<title>63&#45;&gt;65</title>\n<path fill=\"none\" stroke=\"black\" d=\"M3964.34,-296.88C3982.96,-286.99 4003.52,-276.07 4022.67,-265.9\"/>\n<polygon fill=\"black\" stroke=\"black\" points=\"4024.46,-268.91 4031.65,-261.12 4021.17,-262.73 4024.46,-268.91\"/>\n</g>\n<!-- 66 -->\n<g id=\"node67\" class=\"node\">\n<title>66</title>\n<polygon fill=\"#efb488\" stroke=\"black\" points=\"4000,-157 3826,-157 3826,-89 4000,-89 4000,-157\"/>\n<text text-anchor=\"middle\" x=\"3913\" y=\"-141.8\" font-family=\"Helvetica,sans-Serif\" font-size=\"14.00\">Engine Size &lt;= 1.628</text>\n<text text-anchor=\"middle\" x=\"3913\" y=\"-126.8\" font-family=\"Helvetica,sans-Serif\" font-size=\"14.00\">squared_error = 0.295</text>\n<text text-anchor=\"middle\" x=\"3913\" y=\"-111.8\" font-family=\"Helvetica,sans-Serif\" font-size=\"14.00\">samples = 22</text>\n<text text-anchor=\"middle\" x=\"3913\" y=\"-96.8\" font-family=\"Helvetica,sans-Serif\" font-size=\"14.00\">value = 1.231</text>\n</g>\n<!-- 65&#45;&gt;66 -->\n<g id=\"edge66\" class=\"edge\">\n<title>65&#45;&gt;66</title>\n<path fill=\"none\" stroke=\"black\" d=\"M4035.23,-192.88C4017.92,-183.12 3998.83,-172.37 3980.98,-162.31\"/>\n<polygon fill=\"black\" stroke=\"black\" points=\"3982.21,-158.99 3971.78,-157.12 3978.77,-165.08 3982.21,-158.99\"/>\n</g>\n<!-- 69 -->\n<g id=\"node70\" class=\"node\">\n<title>69</title>\n<polygon fill=\"#f2c09b\" stroke=\"black\" points=\"4174,-149.5 4018,-149.5 4018,-96.5 4174,-96.5 4174,-149.5\"/>\n<text text-anchor=\"middle\" x=\"4096\" y=\"-134.3\" font-family=\"Helvetica,sans-Serif\" font-size=\"14.00\">squared_error = 0.0</text>\n<text text-anchor=\"middle\" x=\"4096\" y=\"-119.3\" font-family=\"Helvetica,sans-Serif\" font-size=\"14.00\">samples = 1</text>\n<text text-anchor=\"middle\" x=\"4096\" y=\"-104.3\" font-family=\"Helvetica,sans-Serif\" font-size=\"14.00\">value = 0.754</text>\n</g>\n<!-- 65&#45;&gt;69 -->\n<g id=\"edge69\" class=\"edge\">\n<title>65&#45;&gt;69</title>\n<path fill=\"none\" stroke=\"black\" d=\"M4094.65,-192.88C4094.86,-182.22 4095.09,-170.35 4095.3,-159.52\"/>\n<polygon fill=\"black\" stroke=\"black\" points=\"4098.8,-159.59 4095.5,-149.52 4091.8,-159.45 4098.8,-159.59\"/>\n</g>\n<!-- 67 -->\n<g id=\"node68\" class=\"node\">\n<title>67</title>\n<polygon fill=\"#efb083\" stroke=\"black\" points=\"3904,-53 3730,-53 3730,0 3904,0 3904,-53\"/>\n<text text-anchor=\"middle\" x=\"3817\" y=\"-37.8\" font-family=\"Helvetica,sans-Serif\" font-size=\"14.00\">squared_error = 0.443</text>\n<text text-anchor=\"middle\" x=\"3817\" y=\"-22.8\" font-family=\"Helvetica,sans-Serif\" font-size=\"14.00\">samples = 6</text>\n<text text-anchor=\"middle\" x=\"3817\" y=\"-7.8\" font-family=\"Helvetica,sans-Serif\" font-size=\"14.00\">value = 1.373</text>\n</g>\n<!-- 66&#45;&gt;67 -->\n<g id=\"edge67\" class=\"edge\">\n<title>66&#45;&gt;67</title>\n<path fill=\"none\" stroke=\"black\" d=\"M3879.42,-88.95C3870.04,-79.71 3859.84,-69.67 3850.46,-60.44\"/>\n<polygon fill=\"black\" stroke=\"black\" points=\"3852.73,-57.76 3843.15,-53.24 3847.82,-62.75 3852.73,-57.76\"/>\n</g>\n<!-- 68 -->\n<g id=\"node69\" class=\"node\">\n<title>68</title>\n<polygon fill=\"#f0b58b\" stroke=\"black\" points=\"4096,-53 3922,-53 3922,0 4096,0 4096,-53\"/>\n<text text-anchor=\"middle\" x=\"4009\" y=\"-37.8\" font-family=\"Helvetica,sans-Serif\" font-size=\"14.00\">squared_error = 0.229</text>\n<text text-anchor=\"middle\" x=\"4009\" y=\"-22.8\" font-family=\"Helvetica,sans-Serif\" font-size=\"14.00\">samples = 16</text>\n<text text-anchor=\"middle\" x=\"4009\" y=\"-7.8\" font-family=\"Helvetica,sans-Serif\" font-size=\"14.00\">value = 1.178</text>\n</g>\n<!-- 66&#45;&gt;68 -->\n<g id=\"edge68\" class=\"edge\">\n<title>66&#45;&gt;68</title>\n<path fill=\"none\" stroke=\"black\" d=\"M3946.58,-88.95C3955.96,-79.71 3966.16,-69.67 3975.54,-60.44\"/>\n<polygon fill=\"black\" stroke=\"black\" points=\"3978.18,-62.75 3982.85,-53.24 3973.27,-57.76 3978.18,-62.75\"/>\n</g>\n<!-- 71 -->\n<g id=\"node72\" class=\"node\">\n<title>71</title>\n<polygon fill=\"#edaa79\" stroke=\"black\" points=\"4465,-573 4291,-573 4291,-505 4465,-505 4465,-573\"/>\n<text text-anchor=\"middle\" x=\"4378\" y=\"-557.8\" font-family=\"Helvetica,sans-Serif\" font-size=\"14.00\">Engine Size &lt;= 1.946</text>\n<text text-anchor=\"middle\" x=\"4378\" y=\"-542.8\" font-family=\"Helvetica,sans-Serif\" font-size=\"14.00\">squared_error = 0.381</text>\n<text text-anchor=\"middle\" x=\"4378\" y=\"-527.8\" font-family=\"Helvetica,sans-Serif\" font-size=\"14.00\">samples = 59</text>\n<text text-anchor=\"middle\" x=\"4378\" y=\"-512.8\" font-family=\"Helvetica,sans-Serif\" font-size=\"14.00\">value = 1.635</text>\n</g>\n<!-- 70&#45;&gt;71 -->\n<g id=\"edge71\" class=\"edge\">\n<title>70&#45;&gt;71</title>\n<path fill=\"none\" stroke=\"black\" d=\"M4378,-608.88C4378,-600.78 4378,-591.98 4378,-583.47\"/>\n<polygon fill=\"black\" stroke=\"black\" points=\"4381.5,-583.3 4378,-573.3 4374.5,-583.3 4381.5,-583.3\"/>\n</g>\n<!-- 84 -->\n<g id=\"node85\" class=\"node\">\n<title>84</title>\n<polygon fill=\"#e9965a\" stroke=\"black\" points=\"4748,-573 4574,-573 4574,-505 4748,-505 4748,-573\"/>\n<text text-anchor=\"middle\" x=\"4661\" y=\"-557.8\" font-family=\"Helvetica,sans-Serif\" font-size=\"14.00\">Engine Size &lt;= 2.405</text>\n<text text-anchor=\"middle\" x=\"4661\" y=\"-542.8\" font-family=\"Helvetica,sans-Serif\" font-size=\"14.00\">squared_error = 0.276</text>\n<text text-anchor=\"middle\" x=\"4661\" y=\"-527.8\" font-family=\"Helvetica,sans-Serif\" font-size=\"14.00\">samples = 8</text>\n<text text-anchor=\"middle\" x=\"4661\" y=\"-512.8\" font-family=\"Helvetica,sans-Serif\" font-size=\"14.00\">value = 2.418</text>\n</g>\n<!-- 70&#45;&gt;84 -->\n<g id=\"edge84\" class=\"edge\">\n<title>70&#45;&gt;84</title>\n<path fill=\"none\" stroke=\"black\" d=\"M4465.22,-610.56C4496.42,-599.32 4531.77,-586.58 4563.77,-575.04\"/>\n<polygon fill=\"black\" stroke=\"black\" points=\"4565.36,-578.19 4573.58,-571.51 4562.99,-571.61 4565.36,-578.19\"/>\n</g>\n<!-- 72 -->\n<g id=\"node73\" class=\"node\">\n<title>72</title>\n<polygon fill=\"#eb9d66\" stroke=\"black\" points=\"4365,-469 4191,-469 4191,-401 4365,-401 4365,-469\"/>\n<text text-anchor=\"middle\" x=\"4278\" y=\"-453.8\" font-family=\"Helvetica,sans-Serif\" font-size=\"14.00\">Engine Size &lt;= 1.84</text>\n<text text-anchor=\"middle\" x=\"4278\" y=\"-438.8\" font-family=\"Helvetica,sans-Serif\" font-size=\"14.00\">squared_error = 0.278</text>\n<text text-anchor=\"middle\" x=\"4278\" y=\"-423.8\" font-family=\"Helvetica,sans-Serif\" font-size=\"14.00\">samples = 17</text>\n<text text-anchor=\"middle\" x=\"4278\" y=\"-408.8\" font-family=\"Helvetica,sans-Serif\" font-size=\"14.00\">value = 2.119</text>\n</g>\n<!-- 71&#45;&gt;72 -->\n<g id=\"edge72\" class=\"edge\">\n<title>71&#45;&gt;72</title>\n<path fill=\"none\" stroke=\"black\" d=\"M4345.53,-504.88C4336.71,-495.89 4327.06,-486.04 4317.88,-476.68\"/>\n<polygon fill=\"black\" stroke=\"black\" points=\"4320.15,-473.99 4310.65,-469.3 4315.15,-478.89 4320.15,-473.99\"/>\n</g>\n<!-- 75 -->\n<g id=\"node76\" class=\"node\">\n<title>75</title>\n<polygon fill=\"#eeae80\" stroke=\"black\" points=\"4557,-469 4383,-469 4383,-401 4557,-401 4557,-469\"/>\n<text text-anchor=\"middle\" x=\"4470\" y=\"-453.8\" font-family=\"Helvetica,sans-Serif\" font-size=\"14.00\">Engine Size &lt;= 2.193</text>\n<text text-anchor=\"middle\" x=\"4470\" y=\"-438.8\" font-family=\"Helvetica,sans-Serif\" font-size=\"14.00\">squared_error = 0.289</text>\n<text text-anchor=\"middle\" x=\"4470\" y=\"-423.8\" font-family=\"Helvetica,sans-Serif\" font-size=\"14.00\">samples = 42</text>\n<text text-anchor=\"middle\" x=\"4470\" y=\"-408.8\" font-family=\"Helvetica,sans-Serif\" font-size=\"14.00\">value = 1.439</text>\n</g>\n<!-- 71&#45;&gt;75 -->\n<g id=\"edge75\" class=\"edge\">\n<title>71&#45;&gt;75</title>\n<path fill=\"none\" stroke=\"black\" d=\"M4407.87,-504.88C4415.9,-495.98 4424.69,-486.24 4433.06,-476.96\"/>\n<polygon fill=\"black\" stroke=\"black\" points=\"4435.87,-479.07 4439.97,-469.3 4430.67,-474.38 4435.87,-479.07\"/>\n</g>\n<!-- 73 -->\n<g id=\"node74\" class=\"node\">\n<title>73</title>\n<polygon fill=\"#edaa79\" stroke=\"black\" points=\"4173,-357.5 4017,-357.5 4017,-304.5 4173,-304.5 4173,-357.5\"/>\n<text text-anchor=\"middle\" x=\"4095\" y=\"-342.3\" font-family=\"Helvetica,sans-Serif\" font-size=\"14.00\">squared_error = 0.0</text>\n<text text-anchor=\"middle\" x=\"4095\" y=\"-327.3\" font-family=\"Helvetica,sans-Serif\" font-size=\"14.00\">samples = 3</text>\n<text text-anchor=\"middle\" x=\"4095\" y=\"-312.3\" font-family=\"Helvetica,sans-Serif\" font-size=\"14.00\">value = 1.622</text>\n</g>\n<!-- 72&#45;&gt;73 -->\n<g id=\"edge73\" class=\"edge\">\n<title>72&#45;&gt;73</title>\n<path fill=\"none\" stroke=\"black\" d=\"M4218.59,-400.88C4196.39,-388.51 4171.3,-374.53 4149.56,-362.41\"/>\n<polygon fill=\"black\" stroke=\"black\" points=\"4151.22,-359.33 4140.79,-357.52 4147.82,-365.45 4151.22,-359.33\"/>\n</g>\n<!-- 74 -->\n<g id=\"node75\" class=\"node\">\n<title>74</title>\n<polygon fill=\"#ea9b61\" stroke=\"black\" points=\"4365,-357.5 4191,-357.5 4191,-304.5 4365,-304.5 4365,-357.5\"/>\n<text text-anchor=\"middle\" x=\"4278\" y=\"-342.3\" font-family=\"Helvetica,sans-Serif\" font-size=\"14.00\">squared_error = 0.274</text>\n<text text-anchor=\"middle\" x=\"4278\" y=\"-327.3\" font-family=\"Helvetica,sans-Serif\" font-size=\"14.00\">samples = 14</text>\n<text text-anchor=\"middle\" x=\"4278\" y=\"-312.3\" font-family=\"Helvetica,sans-Serif\" font-size=\"14.00\">value = 2.226</text>\n</g>\n<!-- 72&#45;&gt;74 -->\n<g id=\"edge74\" class=\"edge\">\n<title>72&#45;&gt;74</title>\n<path fill=\"none\" stroke=\"black\" d=\"M4278,-400.88C4278,-390.33 4278,-378.6 4278,-367.85\"/>\n<polygon fill=\"black\" stroke=\"black\" points=\"4281.5,-367.52 4278,-357.52 4274.5,-367.52 4281.5,-367.52\"/>\n</g>\n<!-- 76 -->\n<g id=\"node77\" class=\"node\">\n<title>76</title>\n<polygon fill=\"#efb082\" stroke=\"black\" points=\"4557,-365 4383,-365 4383,-297 4557,-297 4557,-365\"/>\n<text text-anchor=\"middle\" x=\"4470\" y=\"-349.8\" font-family=\"Helvetica,sans-Serif\" font-size=\"14.00\">Engine Size &lt;= 2.122</text>\n<text text-anchor=\"middle\" x=\"4470\" y=\"-334.8\" font-family=\"Helvetica,sans-Serif\" font-size=\"14.00\">squared_error = 0.274</text>\n<text text-anchor=\"middle\" x=\"4470\" y=\"-319.8\" font-family=\"Helvetica,sans-Serif\" font-size=\"14.00\">samples = 38</text>\n<text text-anchor=\"middle\" x=\"4470\" y=\"-304.8\" font-family=\"Helvetica,sans-Serif\" font-size=\"14.00\">value = 1.386</text>\n</g>\n<!-- 75&#45;&gt;76 -->\n<g id=\"edge76\" class=\"edge\">\n<title>75&#45;&gt;76</title>\n<path fill=\"none\" stroke=\"black\" d=\"M4470,-400.88C4470,-392.78 4470,-383.98 4470,-375.47\"/>\n<polygon fill=\"black\" stroke=\"black\" points=\"4473.5,-375.3 4470,-365.3 4466.5,-375.3 4473.5,-375.3\"/>\n</g>\n<!-- 81 -->\n<g id=\"node82\" class=\"node\">\n<title>81</title>\n<polygon fill=\"#eca26d\" stroke=\"black\" points=\"4746.5,-365 4575.5,-365 4575.5,-297 4746.5,-297 4746.5,-365\"/>\n<text text-anchor=\"middle\" x=\"4661\" y=\"-349.8\" font-family=\"Helvetica,sans-Serif\" font-size=\"14.00\">Engine Size &lt;= 2.264</text>\n<text text-anchor=\"middle\" x=\"4661\" y=\"-334.8\" font-family=\"Helvetica,sans-Serif\" font-size=\"14.00\">squared_error = 0.15</text>\n<text text-anchor=\"middle\" x=\"4661\" y=\"-319.8\" font-family=\"Helvetica,sans-Serif\" font-size=\"14.00\">samples = 4</text>\n<text text-anchor=\"middle\" x=\"4661\" y=\"-304.8\" font-family=\"Helvetica,sans-Serif\" font-size=\"14.00\">value = 1.938</text>\n</g>\n<!-- 75&#45;&gt;81 -->\n<g id=\"edge81\" class=\"edge\">\n<title>75&#45;&gt;81</title>\n<path fill=\"none\" stroke=\"black\" d=\"M4532.01,-400.88C4550.54,-390.99 4570.99,-380.07 4590.04,-369.9\"/>\n<polygon fill=\"black\" stroke=\"black\" points=\"4591.8,-372.92 4598.97,-365.12 4588.5,-366.75 4591.8,-372.92\"/>\n</g>\n<!-- 77 -->\n<g id=\"node78\" class=\"node\">\n<title>77</title>\n<polygon fill=\"#eeaf81\" stroke=\"black\" points=\"4373,-261 4199,-261 4199,-193 4373,-193 4373,-261\"/>\n<text text-anchor=\"middle\" x=\"4286\" y=\"-245.8\" font-family=\"Helvetica,sans-Serif\" font-size=\"14.00\">Engine Size &lt;= 2.052</text>\n<text text-anchor=\"middle\" x=\"4286\" y=\"-230.8\" font-family=\"Helvetica,sans-Serif\" font-size=\"14.00\">squared_error = 0.291</text>\n<text text-anchor=\"middle\" x=\"4286\" y=\"-215.8\" font-family=\"Helvetica,sans-Serif\" font-size=\"14.00\">samples = 33</text>\n<text text-anchor=\"middle\" x=\"4286\" y=\"-200.8\" font-family=\"Helvetica,sans-Serif\" font-size=\"14.00\">value = 1.428</text>\n</g>\n<!-- 76&#45;&gt;77 -->\n<g id=\"edge77\" class=\"edge\">\n<title>76&#45;&gt;77</title>\n<path fill=\"none\" stroke=\"black\" d=\"M4410.26,-296.88C4392.5,-287.04 4372.89,-276.17 4354.61,-266.03\"/>\n<polygon fill=\"black\" stroke=\"black\" points=\"4356.2,-262.91 4345.75,-261.12 4352.8,-269.03 4356.2,-262.91\"/>\n</g>\n<!-- 80 -->\n<g id=\"node81\" class=\"node\">\n<title>80</title>\n<polygon fill=\"#f0b78d\" stroke=\"black\" points=\"4565,-253.5 4391,-253.5 4391,-200.5 4565,-200.5 4565,-253.5\"/>\n<text text-anchor=\"middle\" x=\"4478\" y=\"-238.3\" font-family=\"Helvetica,sans-Serif\" font-size=\"14.00\">squared_error = 0.082</text>\n<text text-anchor=\"middle\" x=\"4478\" y=\"-223.3\" font-family=\"Helvetica,sans-Serif\" font-size=\"14.00\">samples = 5</text>\n<text text-anchor=\"middle\" x=\"4478\" y=\"-208.3\" font-family=\"Helvetica,sans-Serif\" font-size=\"14.00\">value = 1.114</text>\n</g>\n<!-- 76&#45;&gt;80 -->\n<g id=\"edge80\" class=\"edge\">\n<title>76&#45;&gt;80</title>\n<path fill=\"none\" stroke=\"black\" d=\"M4472.6,-296.88C4473.43,-286.22 4474.36,-274.35 4475.21,-263.52\"/>\n<polygon fill=\"black\" stroke=\"black\" points=\"4478.71,-263.76 4476,-253.52 4471.73,-263.22 4478.71,-263.76\"/>\n</g>\n<!-- 78 -->\n<g id=\"node79\" class=\"node\">\n<title>78</title>\n<polygon fill=\"#eeaf81\" stroke=\"black\" points=\"4370,-149.5 4196,-149.5 4196,-96.5 4370,-96.5 4370,-149.5\"/>\n<text text-anchor=\"middle\" x=\"4283\" y=\"-134.3\" font-family=\"Helvetica,sans-Serif\" font-size=\"14.00\">squared_error = 0.298</text>\n<text text-anchor=\"middle\" x=\"4283\" y=\"-119.3\" font-family=\"Helvetica,sans-Serif\" font-size=\"14.00\">samples = 32</text>\n<text text-anchor=\"middle\" x=\"4283\" y=\"-104.3\" font-family=\"Helvetica,sans-Serif\" font-size=\"14.00\">value = 1.421</text>\n</g>\n<!-- 77&#45;&gt;78 -->\n<g id=\"edge78\" class=\"edge\">\n<title>77&#45;&gt;78</title>\n<path fill=\"none\" stroke=\"black\" d=\"M4285.03,-192.88C4284.71,-182.22 4284.36,-170.35 4284.04,-159.52\"/>\n<polygon fill=\"black\" stroke=\"black\" points=\"4287.54,-159.41 4283.75,-149.52 4280.55,-159.62 4287.54,-159.41\"/>\n</g>\n<!-- 79 -->\n<g id=\"node80\" class=\"node\">\n<title>79</title>\n<polygon fill=\"#eda978\" stroke=\"black\" points=\"4549.5,-149.5 4388.5,-149.5 4388.5,-96.5 4549.5,-96.5 4549.5,-149.5\"/>\n<text text-anchor=\"middle\" x=\"4469\" y=\"-134.3\" font-family=\"Helvetica,sans-Serif\" font-size=\"14.00\">squared_error = &#45;0.0</text>\n<text text-anchor=\"middle\" x=\"4469\" y=\"-119.3\" font-family=\"Helvetica,sans-Serif\" font-size=\"14.00\">samples = 1</text>\n<text text-anchor=\"middle\" x=\"4469\" y=\"-104.3\" font-family=\"Helvetica,sans-Serif\" font-size=\"14.00\">value = 1.654</text>\n</g>\n<!-- 77&#45;&gt;79 -->\n<g id=\"edge79\" class=\"edge\">\n<title>77&#45;&gt;79</title>\n<path fill=\"none\" stroke=\"black\" d=\"M4345.41,-192.88C4367.61,-180.51 4392.7,-166.53 4414.44,-154.41\"/>\n<polygon fill=\"black\" stroke=\"black\" points=\"4416.18,-157.45 4423.21,-149.52 4412.78,-151.33 4416.18,-157.45\"/>\n</g>\n<!-- 82 -->\n<g id=\"node83\" class=\"node\">\n<title>82</title>\n<polygon fill=\"#e89153\" stroke=\"black\" points=\"4739,-253.5 4583,-253.5 4583,-200.5 4739,-200.5 4739,-253.5\"/>\n<text text-anchor=\"middle\" x=\"4661\" y=\"-238.3\" font-family=\"Helvetica,sans-Serif\" font-size=\"14.00\">squared_error = 0.0</text>\n<text text-anchor=\"middle\" x=\"4661\" y=\"-223.3\" font-family=\"Helvetica,sans-Serif\" font-size=\"14.00\">samples = 1</text>\n<text text-anchor=\"middle\" x=\"4661\" y=\"-208.3\" font-family=\"Helvetica,sans-Serif\" font-size=\"14.00\">value = 2.601</text>\n</g>\n<!-- 81&#45;&gt;82 -->\n<g id=\"edge82\" class=\"edge\">\n<title>81&#45;&gt;82</title>\n<path fill=\"none\" stroke=\"black\" d=\"M4661,-296.88C4661,-286.33 4661,-274.6 4661,-263.85\"/>\n<polygon fill=\"black\" stroke=\"black\" points=\"4664.5,-263.52 4661,-253.52 4657.5,-263.52 4664.5,-263.52\"/>\n</g>\n<!-- 83 -->\n<g id=\"node84\" class=\"node\">\n<title>83</title>\n<polygon fill=\"#eda775\" stroke=\"black\" points=\"4931,-253.5 4757,-253.5 4757,-200.5 4931,-200.5 4931,-253.5\"/>\n<text text-anchor=\"middle\" x=\"4844\" y=\"-238.3\" font-family=\"Helvetica,sans-Serif\" font-size=\"14.00\">squared_error = 0.004</text>\n<text text-anchor=\"middle\" x=\"4844\" y=\"-223.3\" font-family=\"Helvetica,sans-Serif\" font-size=\"14.00\">samples = 3</text>\n<text text-anchor=\"middle\" x=\"4844\" y=\"-208.3\" font-family=\"Helvetica,sans-Serif\" font-size=\"14.00\">value = 1.717</text>\n</g>\n<!-- 81&#45;&gt;83 -->\n<g id=\"edge83\" class=\"edge\">\n<title>81&#45;&gt;83</title>\n<path fill=\"none\" stroke=\"black\" d=\"M4720.41,-296.88C4742.61,-284.51 4767.7,-270.53 4789.44,-258.41\"/>\n<polygon fill=\"black\" stroke=\"black\" points=\"4791.18,-261.45 4798.21,-253.52 4787.78,-255.33 4791.18,-261.45\"/>\n</g>\n<!-- 85 -->\n<g id=\"node86\" class=\"node\">\n<title>85</title>\n<polygon fill=\"#eb9c64\" stroke=\"black\" points=\"4739,-461.5 4583,-461.5 4583,-408.5 4739,-408.5 4739,-461.5\"/>\n<text text-anchor=\"middle\" x=\"4661\" y=\"-446.3\" font-family=\"Helvetica,sans-Serif\" font-size=\"14.00\">squared_error = 0.0</text>\n<text text-anchor=\"middle\" x=\"4661\" y=\"-431.3\" font-family=\"Helvetica,sans-Serif\" font-size=\"14.00\">samples = 4</text>\n<text text-anchor=\"middle\" x=\"4661\" y=\"-416.3\" font-family=\"Helvetica,sans-Serif\" font-size=\"14.00\">value = 2.159</text>\n</g>\n<!-- 84&#45;&gt;85 -->\n<g id=\"edge85\" class=\"edge\">\n<title>84&#45;&gt;85</title>\n<path fill=\"none\" stroke=\"black\" d=\"M4661,-504.88C4661,-494.33 4661,-482.6 4661,-471.85\"/>\n<polygon fill=\"black\" stroke=\"black\" points=\"4664.5,-471.52 4661,-461.52 4657.5,-471.52 4664.5,-471.52\"/>\n</g>\n<!-- 86 -->\n<g id=\"node87\" class=\"node\">\n<title>86</title>\n<polygon fill=\"#e88f50\" stroke=\"black\" points=\"4939,-469 4765,-469 4765,-401 4939,-401 4939,-469\"/>\n<text text-anchor=\"middle\" x=\"4852\" y=\"-453.8\" font-family=\"Helvetica,sans-Serif\" font-size=\"14.00\">Engine Size &lt;= 3.006</text>\n<text text-anchor=\"middle\" x=\"4852\" y=\"-438.8\" font-family=\"Helvetica,sans-Serif\" font-size=\"14.00\">squared_error = 0.418</text>\n<text text-anchor=\"middle\" x=\"4852\" y=\"-423.8\" font-family=\"Helvetica,sans-Serif\" font-size=\"14.00\">samples = 4</text>\n<text text-anchor=\"middle\" x=\"4852\" y=\"-408.8\" font-family=\"Helvetica,sans-Serif\" font-size=\"14.00\">value = 2.676</text>\n</g>\n<!-- 84&#45;&gt;86 -->\n<g id=\"edge86\" class=\"edge\">\n<title>84&#45;&gt;86</title>\n<path fill=\"none\" stroke=\"black\" d=\"M4723.01,-504.88C4741.54,-494.99 4761.99,-484.07 4781.04,-473.9\"/>\n<polygon fill=\"black\" stroke=\"black\" points=\"4782.8,-476.92 4789.97,-469.12 4779.5,-470.75 4782.8,-476.92\"/>\n</g>\n<!-- 87 -->\n<g id=\"node88\" class=\"node\">\n<title>87</title>\n<polygon fill=\"#e58139\" stroke=\"black\" points=\"4939,-357.5 4765,-357.5 4765,-304.5 4939,-304.5 4939,-357.5\"/>\n<text text-anchor=\"middle\" x=\"4852\" y=\"-342.3\" font-family=\"Helvetica,sans-Serif\" font-size=\"14.00\">squared_error = 0.162</text>\n<text text-anchor=\"middle\" x=\"4852\" y=\"-327.3\" font-family=\"Helvetica,sans-Serif\" font-size=\"14.00\">samples = 2</text>\n<text text-anchor=\"middle\" x=\"4852\" y=\"-312.3\" font-family=\"Helvetica,sans-Serif\" font-size=\"14.00\">value = 3.256</text>\n</g>\n<!-- 86&#45;&gt;87 -->\n<g id=\"edge87\" class=\"edge\">\n<title>86&#45;&gt;87</title>\n<path fill=\"none\" stroke=\"black\" d=\"M4852,-400.88C4852,-390.33 4852,-378.6 4852,-367.85\"/>\n<polygon fill=\"black\" stroke=\"black\" points=\"4855.5,-367.52 4852,-357.52 4848.5,-367.52 4855.5,-367.52\"/>\n</g>\n<!-- 88 -->\n<g id=\"node89\" class=\"node\">\n<title>88</title>\n<polygon fill=\"#eb9e67\" stroke=\"black\" points=\"5118.5,-357.5 4957.5,-357.5 4957.5,-304.5 5118.5,-304.5 5118.5,-357.5\"/>\n<text text-anchor=\"middle\" x=\"5038\" y=\"-342.3\" font-family=\"Helvetica,sans-Serif\" font-size=\"14.00\">squared_error = &#45;0.0</text>\n<text text-anchor=\"middle\" x=\"5038\" y=\"-327.3\" font-family=\"Helvetica,sans-Serif\" font-size=\"14.00\">samples = 2</text>\n<text text-anchor=\"middle\" x=\"5038\" y=\"-312.3\" font-family=\"Helvetica,sans-Serif\" font-size=\"14.00\">value = 2.096</text>\n</g>\n<!-- 86&#45;&gt;88 -->\n<g id=\"edge88\" class=\"edge\">\n<title>86&#45;&gt;88</title>\n<path fill=\"none\" stroke=\"black\" d=\"M4912.39,-400.88C4934.95,-388.51 4960.44,-374.53 4982.54,-362.41\"/>\n<polygon fill=\"black\" stroke=\"black\" points=\"4984.38,-365.4 4991.46,-357.52 4981.01,-359.26 4984.38,-365.4\"/>\n</g>\n</g>\n</svg>\n",
      "text/plain": [
       "<graphviz.sources.Source at 0x7f6a175df8e0>"
      ]
     },
     "execution_count": 20,
     "metadata": {},
     "output_type": "execute_result"
    }
   ],
   "source": [
    "import graphviz\n",
    "from sklearn.tree import DecisionTreeClassifier, export_graphviz\n",
    "# DOT data\n",
    "dot_data = export_graphviz(regressor, out_file=None, feature_names=['Engine Size'],  \n",
    "                                filled=True)\n",
    "\n",
    "# Draw graph\n",
    "graph = graphviz.Source(dot_data, format=\"png\") \n",
    "graph"
   ]
  },
  {
   "cell_type": "markdown",
   "metadata": {
    "id": "Wt7dERa4HiBB"
   },
   "source": [
    "Visualisasi Tree dalam file PNG"
   ]
  },
  {
   "cell_type": "code",
   "execution_count": null,
   "metadata": {
    "id": "gMxaKOVFHHVF"
   },
   "outputs": [
    {
     "data": {
      "text/plain": [
       "'decision_tree_graphivz.png'"
      ]
     },
     "execution_count": 20,
     "metadata": {},
     "output_type": "execute_result"
    }
   ],
   "source": [
    "graph.render(\"decision_tree_graphivz\")\n",
    "'decision_tree_graphivz.png'"
   ]
  },
  {
   "cell_type": "markdown",
   "metadata": {
    "button": false,
    "id": "JNun7eEtGXVE",
    "new_sheet": false,
    "run_control": {
     "read_only": false
    }
   },
   "source": [
    "#### Evaluasi\n",
    "Nilai aktual dan nilai prediksi dapat dibandingkan untuk menghitung akurasi dari model regresi. Metrik evaluasi sangat penting untuk pengembangan model karena memberikan pengetahuan untuk perbaikan model.\n",
    "\n",
    "Ada berbagai metrik untuk evaluasi model, misalnya MSE sebagai error untuk mengetahui akurasi dari model yang dibangun yang dihitung dari MSE model terhadap data pengujian: \n",
    "    - Mean Absolute Error (MAE): Rerata dari nilai absolut dari error. MAE adalah metrik paling mudah dipahami karena hanya rata-rata dari error.\n",
    "    - Mean Squared Error (MSE): adalah rerata dari error dikuadratkan. MSE lebih populer dibanding MAE karena fokus pada error yang besar karena dikuadratkan sehingga berdampak lebih besar terhadap error yang lebih besar dibandingkan error yang lebih kecil.\n",
    "    - Root Mean Squared Error (RMSE).\n",
    "    - R-squared bukan error namun metrik yang populer yang merepresentasikan sejauh mana data cocok dengan garis regresi yang didapatkan. Semakin besar R-squared akan semaki baik pencocokan garis terhadap data. Nilai terbaik adalah 1.0 dan dapat bernilai negatif.\n"
   ]
  },
  {
   "cell_type": "code",
   "execution_count": 22,
   "metadata": {
    "id": "Zm89sd_zOsy5"
   },
   "outputs": [
    {
     "name": "stdout",
     "output_type": "stream",
     "text": [
      "Mean absolute error: 20.52\n",
      "Residual sum of squares (MSE): 722.69\n",
      "R2-score: 0.78\n"
     ]
    }
   ],
   "source": [
    "from sklearn.metrics import r2_score\n",
    "\n",
    "test_x = np.asanyarray(cdf[['ENGINESIZE']])\n",
    "test_y = np.asanyarray(cdf[['CO2EMISSIONS']])\n",
    "test_y_ = sc_y.inverse_transform(regressor.predict(sc_X.transform(test_x)).reshape(-1,1))\n",
    "\n",
    "print(\"Mean absolute error: %.2f\" % np.mean(np.absolute(test_y_ - test_y)))\n",
    "print(\"Residual sum of squares (MSE): %.2f\" % np.mean((test_y_ - test_y) ** 2))\n",
    "print(\"R2-score: %.2f\" % r2_score(test_y_ , test_y) )"
   ]
  },
  {
   "cell_type": "code",
   "execution_count": null,
   "metadata": {},
   "outputs": [],
   "source": []
  }
 ],
 "metadata": {
  "colab": {
   "name": "Decision Tree Regression.ipynb",
   "provenance": []
  },
  "kernelspec": {
   "display_name": "Python 3.8.10 64-bit",
   "language": "python",
   "name": "python3"
  },
  "language_info": {
   "codemirror_mode": {
    "name": "ipython",
    "version": 3
   },
   "file_extension": ".py",
   "mimetype": "text/x-python",
   "name": "python",
   "nbconvert_exporter": "python",
   "pygments_lexer": "ipython3",
<<<<<<< HEAD
   "version": "3.8.10 (default, Nov 14 2022, 12:59:47) \n[GCC 9.4.0]"
=======
   "version": "3.8.10"
>>>>>>> 3957103e7a2e9c6ddfa5a965c574eb0eb7845d46
  },
  "vscode": {
   "interpreter": {
    "hash": "916dbcbb3f70747c44a77c7bcd40155683ae19c65e1c03b4aa3499c5328201f1"
   }
  }
 },
 "nbformat": 4,
 "nbformat_minor": 1
}
